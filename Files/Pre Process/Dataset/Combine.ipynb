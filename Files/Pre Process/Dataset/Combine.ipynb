{
 "cells": [
  {
   "cell_type": "code",
   "execution_count": 4,
   "metadata": {},
   "outputs": [
    {
     "name": "stdout",
     "output_type": "stream",
     "text": [
      "Data combined and saved as '4 Leagues Data.csv'\n"
     ]
    }
   ],
   "source": [
    "import pandas as pd\n",
    "\n",
    "# List of file paths for all datasets\n",
    "file_paths = [\n",
    "    '/Users/farzammanafzadeh/Desktop/Tactics/Data/Dataset/2020-2021 GER-Bundesliga.csv',\n",
    "    '/Users/farzammanafzadeh/Desktop/Tactics/Data/Dataset/2020-2021 ITA-Serie A.csv',\n",
    "    '/Users/farzammanafzadeh/Desktop/Tactics/Data/Dataset/2020-2021 La Liga.csv',\n",
    "    '/Users/farzammanafzadeh/Desktop/Tactics/Data/Dataset/2020-2021 PL.csv',\n",
    "    # '/Users/farzammanafzadeh/Desktop/Tactics/Data/Dataset/2021-2022 GER-Bundesliga.csv',\n",
    "    # '/Users/farzammanafzadeh/Desktop/Tactics/Data/Dataset/2021-2022 ITA-Serie A.csv',\n",
    "    # '/Users/farzammanafzadeh/Desktop/Tactics/Data/Dataset/2021-2022 La Liga.csv',\n",
    "    # '/Users/farzammanafzadeh/Desktop/Tactics/Data/Dataset/2021-2022 PL.csv',\n",
    "    '/Users/farzammanafzadeh/Desktop/Tactics/Data/Dataset/2022-2023 GER-Bundesliga.csv',\n",
    "    '/Users/farzammanafzadeh/Desktop/Tactics/Data/Dataset/2022-2023 ITA-Serie A.csv',\n",
    "    '/Users/farzammanafzadeh/Desktop/Tactics/Data/Dataset/2022-2023 La Liga.csv',\n",
    "    '/Users/farzammanafzadeh/Desktop/Tactics/Data/Dataset/2022-2023 PL.csv',\n",
    "    '/Users/farzammanafzadeh/Desktop/Tactics/Data/Dataset/2023-2024 GER-Bundesliga.csv',\n",
    "    '/Users/farzammanafzadeh/Desktop/Tactics/Data/Dataset/2023-2024 ITA-Serie A.csv',\n",
    "    '/Users/farzammanafzadeh/Desktop/Tactics/Data/Dataset/2023-2024 La Liga.csv',\n",
    "    '/Users/farzammanafzadeh/Desktop/Tactics/Data/Dataset/2023-2024 PL.csv'\n",
    "]\n",
    "\n",
    "# Read and concatenate all datasets\n",
    "all_data = pd.concat([pd.read_csv(file) for file in file_paths], ignore_index=True)\n",
    "\n",
    "# Save the concatenated dataset to a new CSV file\n",
    "all_data.to_csv('4 Leagues Data.csv', index=False)\n",
    "\n",
    "print(\"Data combined and saved as '4 Leagues Data.csv'\")\n"
   ]
  },
  {
   "cell_type": "code",
   "execution_count": null,
   "metadata": {},
   "outputs": [],
   "source": []
  }
 ],
 "metadata": {
  "kernelspec": {
   "display_name": "base",
   "language": "python",
   "name": "python3"
  },
  "language_info": {
   "codemirror_mode": {
    "name": "ipython",
    "version": 3
   },
   "file_extension": ".py",
   "mimetype": "text/x-python",
   "name": "python",
   "nbconvert_exporter": "python",
   "pygments_lexer": "ipython3",
   "version": "3.11.7"
  }
 },
 "nbformat": 4,
 "nbformat_minor": 2
}
