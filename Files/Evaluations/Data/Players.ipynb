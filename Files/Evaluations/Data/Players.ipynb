{
 "cells": [
  {
   "cell_type": "code",
   "execution_count": 7,
   "metadata": {},
   "outputs": [],
   "source": [
    "import pandas as pd"
   ]
  },
  {
   "cell_type": "code",
   "execution_count": 1,
   "metadata": {},
   "outputs": [
    {
     "data": {
      "text/html": [
       "<pre style=\"white-space:pre;overflow-x:auto;line-height:normal;font-family:Menlo,'DejaVu Sans Mono',consolas,'Courier New',monospace\"><span style=\"color: #7fbfbf; text-decoration-color: #7fbfbf\">[10/14/24 19:09:50] </span><span style=\"color: #000080; text-decoration-color: #000080\">INFO    </span> No custom team name replacements found. You can configure these in       <a href=\"file:///opt/anaconda3/lib/python3.11/site-packages/soccerdata/_config.py\" target=\"_blank\"><span style=\"color: #7f7f7f; text-decoration-color: #7f7f7f\">_config.py</span></a><span style=\"color: #7f7f7f; text-decoration-color: #7f7f7f\">:</span><a href=\"file:///opt/anaconda3/lib/python3.11/site-packages/soccerdata/_config.py#87\" target=\"_blank\"><span style=\"color: #7f7f7f; text-decoration-color: #7f7f7f\">87</span></a>\n",
       "<span style=\"color: #7fbfbf; text-decoration-color: #7fbfbf\">                    </span>         <span style=\"color: #800080; text-decoration-color: #800080\">/Users/farzammanafzadeh/soccerdata/config/</span><span style=\"color: #ff00ff; text-decoration-color: #ff00ff\">teamname_replacements.json.</span>    <span style=\"color: #7f7f7f; text-decoration-color: #7f7f7f\">             </span>\n",
       "</pre>\n"
      ],
      "text/plain": [
       "\u001b[2;36m[10/14/24 19:09:50]\u001b[0m\u001b[2;36m \u001b[0m\u001b[34mINFO    \u001b[0m No custom team name replacements found. You can configure these in       \u001b]8;id=825638;file:///opt/anaconda3/lib/python3.11/site-packages/soccerdata/_config.py\u001b\\\u001b[2m_config.py\u001b[0m\u001b]8;;\u001b\\\u001b[2m:\u001b[0m\u001b]8;id=831048;file:///opt/anaconda3/lib/python3.11/site-packages/soccerdata/_config.py#87\u001b\\\u001b[2m87\u001b[0m\u001b]8;;\u001b\\\n",
       "\u001b[2;36m                    \u001b[0m         \u001b[35m/Users/farzammanafzadeh/soccerdata/config/\u001b[0m\u001b[95mteamname_replacements.json.\u001b[0m    \u001b[2m             \u001b[0m\n"
      ]
     },
     "metadata": {},
     "output_type": "display_data"
    },
    {
     "data": {
      "text/html": [
       "<pre style=\"white-space:pre;overflow-x:auto;line-height:normal;font-family:Menlo,'DejaVu Sans Mono',consolas,'Courier New',monospace\"><span style=\"color: #7fbfbf; text-decoration-color: #7fbfbf\">                    </span><span style=\"color: #000080; text-decoration-color: #000080\">INFO    </span> No custom league dict found. You can configure additional leagues in    <a href=\"file:///opt/anaconda3/lib/python3.11/site-packages/soccerdata/_config.py\" target=\"_blank\"><span style=\"color: #7f7f7f; text-decoration-color: #7f7f7f\">_config.py</span></a><span style=\"color: #7f7f7f; text-decoration-color: #7f7f7f\">:</span><a href=\"file:///opt/anaconda3/lib/python3.11/site-packages/soccerdata/_config.py#182\" target=\"_blank\"><span style=\"color: #7f7f7f; text-decoration-color: #7f7f7f\">182</span></a>\n",
       "<span style=\"color: #7fbfbf; text-decoration-color: #7fbfbf\">                    </span>         <span style=\"color: #800080; text-decoration-color: #800080\">/Users/farzammanafzadeh/soccerdata/config/</span><span style=\"color: #ff00ff; text-decoration-color: #ff00ff\">league_dict.json.</span>             <span style=\"color: #7f7f7f; text-decoration-color: #7f7f7f\">              </span>\n",
       "</pre>\n"
      ],
      "text/plain": [
       "\u001b[2;36m                   \u001b[0m\u001b[2;36m \u001b[0m\u001b[34mINFO    \u001b[0m No custom league dict found. You can configure additional leagues in    \u001b]8;id=985424;file:///opt/anaconda3/lib/python3.11/site-packages/soccerdata/_config.py\u001b\\\u001b[2m_config.py\u001b[0m\u001b]8;;\u001b\\\u001b[2m:\u001b[0m\u001b]8;id=689801;file:///opt/anaconda3/lib/python3.11/site-packages/soccerdata/_config.py#182\u001b\\\u001b[2m182\u001b[0m\u001b]8;;\u001b\\\n",
       "\u001b[2;36m                    \u001b[0m         \u001b[35m/Users/farzammanafzadeh/soccerdata/config/\u001b[0m\u001b[95mleague_dict.json.\u001b[0m             \u001b[2m              \u001b[0m\n"
      ]
     },
     "metadata": {},
     "output_type": "display_data"
    }
   ],
   "source": [
    "import soccerdata as sd"
   ]
  },
  {
   "cell_type": "code",
   "execution_count": null,
   "metadata": {},
   "outputs": [],
   "source": []
  },
  {
   "cell_type": "code",
   "execution_count": 4,
   "metadata": {},
   "outputs": [
    {
     "data": {
      "text/html": [
       "<pre style=\"white-space:pre;overflow-x:auto;line-height:normal;font-family:Menlo,'DejaVu Sans Mono',consolas,'Courier New',monospace\"><span style=\"color: #7fbfbf; text-decoration-color: #7fbfbf\">[10/14/24 19:13:04] </span><span style=\"color: #000080; text-decoration-color: #000080\">INFO    </span> Saving cached data to <span style=\"color: #800080; text-decoration-color: #800080\">/Users/farzammanafzadeh/soccerdata/data/</span><span style=\"color: #ff00ff; text-decoration-color: #ff00ff\">SoFIFA</span>     <a href=\"file:///opt/anaconda3/lib/python3.11/site-packages/soccerdata/_common.py\" target=\"_blank\"><span style=\"color: #7f7f7f; text-decoration-color: #7f7f7f\">_common.py</span></a><span style=\"color: #7f7f7f; text-decoration-color: #7f7f7f\">:</span><a href=\"file:///opt/anaconda3/lib/python3.11/site-packages/soccerdata/_common.py#92\" target=\"_blank\"><span style=\"color: #7f7f7f; text-decoration-color: #7f7f7f\">92</span></a>\n",
       "</pre>\n"
      ],
      "text/plain": [
       "\u001b[2;36m[10/14/24 19:13:04]\u001b[0m\u001b[2;36m \u001b[0m\u001b[34mINFO    \u001b[0m Saving cached data to \u001b[35m/Users/farzammanafzadeh/soccerdata/data/\u001b[0m\u001b[95mSoFIFA\u001b[0m     \u001b]8;id=103189;file:///opt/anaconda3/lib/python3.11/site-packages/soccerdata/_common.py\u001b\\\u001b[2m_common.py\u001b[0m\u001b]8;;\u001b\\\u001b[2m:\u001b[0m\u001b]8;id=29039;file:///opt/anaconda3/lib/python3.11/site-packages/soccerdata/_common.py#92\u001b\\\u001b[2m92\u001b[0m\u001b]8;;\u001b\\\n"
      ]
     },
     "metadata": {},
     "output_type": "display_data"
    },
    {
     "name": "stdout",
     "output_type": "stream",
     "text": [
      "Provides pd.DataFrames from data at http://sofifa.com.\n",
      "\n",
      "    Data will be downloaded as necessary and cached locally in\n",
      "    ``~/soccerdata/data/SoFIFA``.\n",
      "\n",
      "    Parameters\n",
      "    ----------\n",
      "    leagues : string or iterable, optional\n",
      "        IDs of leagues to include.\n",
      "    versions : string, int or list of int, optional\n",
      "        FIFA releases to include. Should be specified by their ID used in the URL\n",
      "        (e.g., 230034). Alternatively, the string \"all\" can be used to include all\n",
      "        versions and \"latest\" to include the latest version only. Defaults to\n",
      "        \"latest\".\n",
      "    proxy : 'tor' or dict or list(dict) or callable, optional\n",
      "        Use a proxy to hide your IP address. Valid options are:\n",
      "            - \"tor\": Uses the Tor network. Tor should be running in\n",
      "              the background on port 9050.\n",
      "            - dict: A dictionary with the proxy to use. The dict should be\n",
      "              a mapping of supported protocols to proxy addresses. For example::\n",
      "\n",
      "                  {\n",
      "                      'http': 'http://10.10.1.10:3128',\n",
      "                      'https': 'http://10.10.1.10:1080',\n",
      "                  }\n",
      "\n",
      "            - list(dict): A list of proxies to choose from. A different proxy will\n",
      "              be selected from this list after failed requests, allowing rotating\n",
      "              proxies.\n",
      "            - callable: A function that returns a valid proxy. This function will\n",
      "              be called after failed requests, allowing rotating proxies.\n",
      "    no_cache : bool\n",
      "        If True, will not use cached data.\n",
      "    no_store : bool\n",
      "        If True, will not store downloaded data.\n",
      "    data_dir : Path\n",
      "        Path to directory where data will be cached.\n",
      "    \n"
     ]
    }
   ],
   "source": [
    "sofifa = sd.SoFIFA(leagues=['ENG-Premier League',\n",
    " 'ESP-La Liga',\n",
    " 'FRA-Ligue 1',\n",
    " 'GER-Bundesliga',\n",
    " 'ITA-Serie A'], versions=\"latest\")\n",
    "print(sofifa.__doc__)"
   ]
  },
  {
   "cell_type": "code",
   "execution_count": 8,
   "metadata": {},
   "outputs": [],
   "source": [
    "pd.set_option('display.max_columns', None)"
   ]
  },
  {
   "cell_type": "code",
   "execution_count": 20,
   "metadata": {},
   "outputs": [
    {
     "data": {
      "text/html": [
       "<pre style=\"white-space:pre;overflow-x:auto;line-height:normal;font-family:Menlo,'DejaVu Sans Mono',consolas,'Courier New',monospace\"><span style=\"color: #7fbfbf; text-decoration-color: #7fbfbf\">[10/15/24 10:18:18] </span><span style=\"color: #000080; text-decoration-color: #000080\">INFO    </span> <span style=\"font-weight: bold\">[</span><span style=\"color: #008080; text-decoration-color: #008080; font-weight: bold\">1</span>/<span style=\"color: #008080; text-decoration-color: #008080; font-weight: bold\">5</span><span style=\"font-weight: bold\">]</span> Retrieving teams for ENG-Premier League in Oct <span style=\"color: #008080; text-decoration-color: #008080; font-weight: bold\">8</span>, <span style=\"color: #008080; text-decoration-color: #008080; font-weight: bold\">2024</span> edition     <a href=\"file:///opt/anaconda3/lib/python3.11/site-packages/soccerdata/sofifa.py\" target=\"_blank\"><span style=\"color: #7f7f7f; text-decoration-color: #7f7f7f\">sofifa.py</span></a><span style=\"color: #7f7f7f; text-decoration-color: #7f7f7f\">:</span><a href=\"file:///opt/anaconda3/lib/python3.11/site-packages/soccerdata/sofifa.py#185\" target=\"_blank\"><span style=\"color: #7f7f7f; text-decoration-color: #7f7f7f\">185</span></a>\n",
       "</pre>\n"
      ],
      "text/plain": [
       "\u001b[2;36m[10/15/24 10:18:18]\u001b[0m\u001b[2;36m \u001b[0m\u001b[34mINFO    \u001b[0m \u001b[1m[\u001b[0m\u001b[1;36m1\u001b[0m/\u001b[1;36m5\u001b[0m\u001b[1m]\u001b[0m Retrieving teams for ENG-Premier League in Oct \u001b[1;36m8\u001b[0m, \u001b[1;36m2024\u001b[0m edition     \u001b]8;id=46237;file:///opt/anaconda3/lib/python3.11/site-packages/soccerdata/sofifa.py\u001b\\\u001b[2msofifa.py\u001b[0m\u001b]8;;\u001b\\\u001b[2m:\u001b[0m\u001b]8;id=487184;file:///opt/anaconda3/lib/python3.11/site-packages/soccerdata/sofifa.py#185\u001b\\\u001b[2m185\u001b[0m\u001b]8;;\u001b\\\n"
      ]
     },
     "metadata": {},
     "output_type": "display_data"
    },
    {
     "data": {
      "text/html": [
       "<pre style=\"white-space:pre;overflow-x:auto;line-height:normal;font-family:Menlo,'DejaVu Sans Mono',consolas,'Courier New',monospace\"><span style=\"color: #7fbfbf; text-decoration-color: #7fbfbf\">                    </span><span style=\"color: #000080; text-decoration-color: #000080\">INFO    </span> <span style=\"font-weight: bold\">[</span><span style=\"color: #008080; text-decoration-color: #008080; font-weight: bold\">2</span>/<span style=\"color: #008080; text-decoration-color: #008080; font-weight: bold\">5</span><span style=\"font-weight: bold\">]</span> Retrieving teams for ESP-La Liga in Oct <span style=\"color: #008080; text-decoration-color: #008080; font-weight: bold\">8</span>, <span style=\"color: #008080; text-decoration-color: #008080; font-weight: bold\">2024</span> edition            <a href=\"file:///opt/anaconda3/lib/python3.11/site-packages/soccerdata/sofifa.py\" target=\"_blank\"><span style=\"color: #7f7f7f; text-decoration-color: #7f7f7f\">sofifa.py</span></a><span style=\"color: #7f7f7f; text-decoration-color: #7f7f7f\">:</span><a href=\"file:///opt/anaconda3/lib/python3.11/site-packages/soccerdata/sofifa.py#185\" target=\"_blank\"><span style=\"color: #7f7f7f; text-decoration-color: #7f7f7f\">185</span></a>\n",
       "</pre>\n"
      ],
      "text/plain": [
       "\u001b[2;36m                   \u001b[0m\u001b[2;36m \u001b[0m\u001b[34mINFO    \u001b[0m \u001b[1m[\u001b[0m\u001b[1;36m2\u001b[0m/\u001b[1;36m5\u001b[0m\u001b[1m]\u001b[0m Retrieving teams for ESP-La Liga in Oct \u001b[1;36m8\u001b[0m, \u001b[1;36m2024\u001b[0m edition            \u001b]8;id=243088;file:///opt/anaconda3/lib/python3.11/site-packages/soccerdata/sofifa.py\u001b\\\u001b[2msofifa.py\u001b[0m\u001b]8;;\u001b\\\u001b[2m:\u001b[0m\u001b]8;id=228655;file:///opt/anaconda3/lib/python3.11/site-packages/soccerdata/sofifa.py#185\u001b\\\u001b[2m185\u001b[0m\u001b]8;;\u001b\\\n"
      ]
     },
     "metadata": {},
     "output_type": "display_data"
    },
    {
     "data": {
      "text/html": [
       "<pre style=\"white-space:pre;overflow-x:auto;line-height:normal;font-family:Menlo,'DejaVu Sans Mono',consolas,'Courier New',monospace\"><span style=\"color: #7fbfbf; text-decoration-color: #7fbfbf\">                    </span><span style=\"color: #000080; text-decoration-color: #000080\">INFO    </span> <span style=\"font-weight: bold\">[</span><span style=\"color: #008080; text-decoration-color: #008080; font-weight: bold\">3</span>/<span style=\"color: #008080; text-decoration-color: #008080; font-weight: bold\">5</span><span style=\"font-weight: bold\">]</span> Retrieving teams for FRA-Ligue <span style=\"color: #008080; text-decoration-color: #008080; font-weight: bold\">1</span> in Oct <span style=\"color: #008080; text-decoration-color: #008080; font-weight: bold\">8</span>, <span style=\"color: #008080; text-decoration-color: #008080; font-weight: bold\">2024</span> edition            <a href=\"file:///opt/anaconda3/lib/python3.11/site-packages/soccerdata/sofifa.py\" target=\"_blank\"><span style=\"color: #7f7f7f; text-decoration-color: #7f7f7f\">sofifa.py</span></a><span style=\"color: #7f7f7f; text-decoration-color: #7f7f7f\">:</span><a href=\"file:///opt/anaconda3/lib/python3.11/site-packages/soccerdata/sofifa.py#185\" target=\"_blank\"><span style=\"color: #7f7f7f; text-decoration-color: #7f7f7f\">185</span></a>\n",
       "</pre>\n"
      ],
      "text/plain": [
       "\u001b[2;36m                   \u001b[0m\u001b[2;36m \u001b[0m\u001b[34mINFO    \u001b[0m \u001b[1m[\u001b[0m\u001b[1;36m3\u001b[0m/\u001b[1;36m5\u001b[0m\u001b[1m]\u001b[0m Retrieving teams for FRA-Ligue \u001b[1;36m1\u001b[0m in Oct \u001b[1;36m8\u001b[0m, \u001b[1;36m2024\u001b[0m edition            \u001b]8;id=535232;file:///opt/anaconda3/lib/python3.11/site-packages/soccerdata/sofifa.py\u001b\\\u001b[2msofifa.py\u001b[0m\u001b]8;;\u001b\\\u001b[2m:\u001b[0m\u001b]8;id=829010;file:///opt/anaconda3/lib/python3.11/site-packages/soccerdata/sofifa.py#185\u001b\\\u001b[2m185\u001b[0m\u001b]8;;\u001b\\\n"
      ]
     },
     "metadata": {},
     "output_type": "display_data"
    },
    {
     "data": {
      "text/html": [
       "<pre style=\"white-space:pre;overflow-x:auto;line-height:normal;font-family:Menlo,'DejaVu Sans Mono',consolas,'Courier New',monospace\"><span style=\"color: #7fbfbf; text-decoration-color: #7fbfbf\">                    </span><span style=\"color: #000080; text-decoration-color: #000080\">INFO    </span> <span style=\"font-weight: bold\">[</span><span style=\"color: #008080; text-decoration-color: #008080; font-weight: bold\">4</span>/<span style=\"color: #008080; text-decoration-color: #008080; font-weight: bold\">5</span><span style=\"font-weight: bold\">]</span> Retrieving teams for GER-Bundesliga in Oct <span style=\"color: #008080; text-decoration-color: #008080; font-weight: bold\">8</span>, <span style=\"color: #008080; text-decoration-color: #008080; font-weight: bold\">2024</span> edition         <a href=\"file:///opt/anaconda3/lib/python3.11/site-packages/soccerdata/sofifa.py\" target=\"_blank\"><span style=\"color: #7f7f7f; text-decoration-color: #7f7f7f\">sofifa.py</span></a><span style=\"color: #7f7f7f; text-decoration-color: #7f7f7f\">:</span><a href=\"file:///opt/anaconda3/lib/python3.11/site-packages/soccerdata/sofifa.py#185\" target=\"_blank\"><span style=\"color: #7f7f7f; text-decoration-color: #7f7f7f\">185</span></a>\n",
       "</pre>\n"
      ],
      "text/plain": [
       "\u001b[2;36m                   \u001b[0m\u001b[2;36m \u001b[0m\u001b[34mINFO    \u001b[0m \u001b[1m[\u001b[0m\u001b[1;36m4\u001b[0m/\u001b[1;36m5\u001b[0m\u001b[1m]\u001b[0m Retrieving teams for GER-Bundesliga in Oct \u001b[1;36m8\u001b[0m, \u001b[1;36m2024\u001b[0m edition         \u001b]8;id=860620;file:///opt/anaconda3/lib/python3.11/site-packages/soccerdata/sofifa.py\u001b\\\u001b[2msofifa.py\u001b[0m\u001b]8;;\u001b\\\u001b[2m:\u001b[0m\u001b]8;id=518642;file:///opt/anaconda3/lib/python3.11/site-packages/soccerdata/sofifa.py#185\u001b\\\u001b[2m185\u001b[0m\u001b]8;;\u001b\\\n"
      ]
     },
     "metadata": {},
     "output_type": "display_data"
    },
    {
     "data": {
      "text/html": [
       "<pre style=\"white-space:pre;overflow-x:auto;line-height:normal;font-family:Menlo,'DejaVu Sans Mono',consolas,'Courier New',monospace\"><span style=\"color: #7fbfbf; text-decoration-color: #7fbfbf\">                    </span><span style=\"color: #000080; text-decoration-color: #000080\">INFO    </span> <span style=\"font-weight: bold\">[</span><span style=\"color: #008080; text-decoration-color: #008080; font-weight: bold\">5</span>/<span style=\"color: #008080; text-decoration-color: #008080; font-weight: bold\">5</span><span style=\"font-weight: bold\">]</span> Retrieving teams for ITA-Serie A in Oct <span style=\"color: #008080; text-decoration-color: #008080; font-weight: bold\">8</span>, <span style=\"color: #008080; text-decoration-color: #008080; font-weight: bold\">2024</span> edition            <a href=\"file:///opt/anaconda3/lib/python3.11/site-packages/soccerdata/sofifa.py\" target=\"_blank\"><span style=\"color: #7f7f7f; text-decoration-color: #7f7f7f\">sofifa.py</span></a><span style=\"color: #7f7f7f; text-decoration-color: #7f7f7f\">:</span><a href=\"file:///opt/anaconda3/lib/python3.11/site-packages/soccerdata/sofifa.py#185\" target=\"_blank\"><span style=\"color: #7f7f7f; text-decoration-color: #7f7f7f\">185</span></a>\n",
       "</pre>\n"
      ],
      "text/plain": [
       "\u001b[2;36m                   \u001b[0m\u001b[2;36m \u001b[0m\u001b[34mINFO    \u001b[0m \u001b[1m[\u001b[0m\u001b[1;36m5\u001b[0m/\u001b[1;36m5\u001b[0m\u001b[1m]\u001b[0m Retrieving teams for ITA-Serie A in Oct \u001b[1;36m8\u001b[0m, \u001b[1;36m2024\u001b[0m edition            \u001b]8;id=69967;file:///opt/anaconda3/lib/python3.11/site-packages/soccerdata/sofifa.py\u001b\\\u001b[2msofifa.py\u001b[0m\u001b]8;;\u001b\\\u001b[2m:\u001b[0m\u001b]8;id=359770;file:///opt/anaconda3/lib/python3.11/site-packages/soccerdata/sofifa.py#185\u001b\\\u001b[2m185\u001b[0m\u001b]8;;\u001b\\\n"
      ]
     },
     "metadata": {},
     "output_type": "display_data"
    },
    {
     "name": "stdout",
     "output_type": "stream",
     "text": [
      "<class 'pandas.core.frame.DataFrame'>\n",
      "Index: 96 entries, 10 to 205\n",
      "Data columns (total 4 columns):\n",
      " #   Column        Non-Null Count  Dtype \n",
      "---  ------        --------------  ----- \n",
      " 0   team          96 non-null     object\n",
      " 1   league        96 non-null     object\n",
      " 2   fifa_edition  96 non-null     object\n",
      " 3   update        96 non-null     object\n",
      "dtypes: object(4)\n",
      "memory usage: 3.8+ KB\n"
     ]
    }
   ],
   "source": [
    "team_ratings = sofifa.read_teams()\n",
    "team_ratings.info()"
   ]
  },
  {
   "cell_type": "code",
   "execution_count": 21,
   "metadata": {},
   "outputs": [
    {
     "data": {
      "text/plain": [
       "league\n",
       "ENG-Premier League    20\n",
       "ESP-La Liga           20\n",
       "ITA-Serie A           20\n",
       "FRA-Ligue 1           18\n",
       "GER-Bundesliga        18\n",
       "Name: count, dtype: int64"
      ]
     },
     "execution_count": 21,
     "metadata": {},
     "output_type": "execute_result"
    }
   ],
   "source": [
    "team_ratings[\"league\"].value_counts()"
   ]
  },
  {
   "cell_type": "code",
   "execution_count": null,
   "metadata": {},
   "outputs": [],
   "source": []
  },
  {
   "cell_type": "code",
   "execution_count": 29,
   "metadata": {},
   "outputs": [
    {
     "data": {
      "text/html": [
       "<pre style=\"white-space:pre;overflow-x:auto;line-height:normal;font-family:Menlo,'DejaVu Sans Mono',consolas,'Courier New',monospace\"><span style=\"color: #7fbfbf; text-decoration-color: #7fbfbf\">[10/15/24 10:21:46] </span><span style=\"color: #000080; text-decoration-color: #000080\">INFO    </span> <span style=\"font-weight: bold\">[</span><span style=\"color: #008080; text-decoration-color: #008080; font-weight: bold\">1</span>/<span style=\"color: #008080; text-decoration-color: #008080; font-weight: bold\">5</span><span style=\"font-weight: bold\">]</span> Retrieving teams for ENG-Premier League in Oct <span style=\"color: #008080; text-decoration-color: #008080; font-weight: bold\">8</span>, <span style=\"color: #008080; text-decoration-color: #008080; font-weight: bold\">2024</span> edition     <a href=\"file:///opt/anaconda3/lib/python3.11/site-packages/soccerdata/sofifa.py\" target=\"_blank\"><span style=\"color: #7f7f7f; text-decoration-color: #7f7f7f\">sofifa.py</span></a><span style=\"color: #7f7f7f; text-decoration-color: #7f7f7f\">:</span><a href=\"file:///opt/anaconda3/lib/python3.11/site-packages/soccerdata/sofifa.py#185\" target=\"_blank\"><span style=\"color: #7f7f7f; text-decoration-color: #7f7f7f\">185</span></a>\n",
       "</pre>\n"
      ],
      "text/plain": [
       "\u001b[2;36m[10/15/24 10:21:46]\u001b[0m\u001b[2;36m \u001b[0m\u001b[34mINFO    \u001b[0m \u001b[1m[\u001b[0m\u001b[1;36m1\u001b[0m/\u001b[1;36m5\u001b[0m\u001b[1m]\u001b[0m Retrieving teams for ENG-Premier League in Oct \u001b[1;36m8\u001b[0m, \u001b[1;36m2024\u001b[0m edition     \u001b]8;id=715375;file:///opt/anaconda3/lib/python3.11/site-packages/soccerdata/sofifa.py\u001b\\\u001b[2msofifa.py\u001b[0m\u001b]8;;\u001b\\\u001b[2m:\u001b[0m\u001b]8;id=262439;file:///opt/anaconda3/lib/python3.11/site-packages/soccerdata/sofifa.py#185\u001b\\\u001b[2m185\u001b[0m\u001b]8;;\u001b\\\n"
      ]
     },
     "metadata": {},
     "output_type": "display_data"
    },
    {
     "data": {
      "text/html": [
       "<pre style=\"white-space:pre;overflow-x:auto;line-height:normal;font-family:Menlo,'DejaVu Sans Mono',consolas,'Courier New',monospace\"><span style=\"color: #7fbfbf; text-decoration-color: #7fbfbf\">                    </span><span style=\"color: #000080; text-decoration-color: #000080\">INFO    </span> <span style=\"font-weight: bold\">[</span><span style=\"color: #008080; text-decoration-color: #008080; font-weight: bold\">2</span>/<span style=\"color: #008080; text-decoration-color: #008080; font-weight: bold\">5</span><span style=\"font-weight: bold\">]</span> Retrieving teams for ESP-La Liga in Oct <span style=\"color: #008080; text-decoration-color: #008080; font-weight: bold\">8</span>, <span style=\"color: #008080; text-decoration-color: #008080; font-weight: bold\">2024</span> edition            <a href=\"file:///opt/anaconda3/lib/python3.11/site-packages/soccerdata/sofifa.py\" target=\"_blank\"><span style=\"color: #7f7f7f; text-decoration-color: #7f7f7f\">sofifa.py</span></a><span style=\"color: #7f7f7f; text-decoration-color: #7f7f7f\">:</span><a href=\"file:///opt/anaconda3/lib/python3.11/site-packages/soccerdata/sofifa.py#185\" target=\"_blank\"><span style=\"color: #7f7f7f; text-decoration-color: #7f7f7f\">185</span></a>\n",
       "</pre>\n"
      ],
      "text/plain": [
       "\u001b[2;36m                   \u001b[0m\u001b[2;36m \u001b[0m\u001b[34mINFO    \u001b[0m \u001b[1m[\u001b[0m\u001b[1;36m2\u001b[0m/\u001b[1;36m5\u001b[0m\u001b[1m]\u001b[0m Retrieving teams for ESP-La Liga in Oct \u001b[1;36m8\u001b[0m, \u001b[1;36m2024\u001b[0m edition            \u001b]8;id=403460;file:///opt/anaconda3/lib/python3.11/site-packages/soccerdata/sofifa.py\u001b\\\u001b[2msofifa.py\u001b[0m\u001b]8;;\u001b\\\u001b[2m:\u001b[0m\u001b]8;id=243903;file:///opt/anaconda3/lib/python3.11/site-packages/soccerdata/sofifa.py#185\u001b\\\u001b[2m185\u001b[0m\u001b]8;;\u001b\\\n"
      ]
     },
     "metadata": {},
     "output_type": "display_data"
    },
    {
     "data": {
      "text/html": [
       "<pre style=\"white-space:pre;overflow-x:auto;line-height:normal;font-family:Menlo,'DejaVu Sans Mono',consolas,'Courier New',monospace\"><span style=\"color: #7fbfbf; text-decoration-color: #7fbfbf\">                    </span><span style=\"color: #000080; text-decoration-color: #000080\">INFO    </span> <span style=\"font-weight: bold\">[</span><span style=\"color: #008080; text-decoration-color: #008080; font-weight: bold\">3</span>/<span style=\"color: #008080; text-decoration-color: #008080; font-weight: bold\">5</span><span style=\"font-weight: bold\">]</span> Retrieving teams for FRA-Ligue <span style=\"color: #008080; text-decoration-color: #008080; font-weight: bold\">1</span> in Oct <span style=\"color: #008080; text-decoration-color: #008080; font-weight: bold\">8</span>, <span style=\"color: #008080; text-decoration-color: #008080; font-weight: bold\">2024</span> edition            <a href=\"file:///opt/anaconda3/lib/python3.11/site-packages/soccerdata/sofifa.py\" target=\"_blank\"><span style=\"color: #7f7f7f; text-decoration-color: #7f7f7f\">sofifa.py</span></a><span style=\"color: #7f7f7f; text-decoration-color: #7f7f7f\">:</span><a href=\"file:///opt/anaconda3/lib/python3.11/site-packages/soccerdata/sofifa.py#185\" target=\"_blank\"><span style=\"color: #7f7f7f; text-decoration-color: #7f7f7f\">185</span></a>\n",
       "</pre>\n"
      ],
      "text/plain": [
       "\u001b[2;36m                   \u001b[0m\u001b[2;36m \u001b[0m\u001b[34mINFO    \u001b[0m \u001b[1m[\u001b[0m\u001b[1;36m3\u001b[0m/\u001b[1;36m5\u001b[0m\u001b[1m]\u001b[0m Retrieving teams for FRA-Ligue \u001b[1;36m1\u001b[0m in Oct \u001b[1;36m8\u001b[0m, \u001b[1;36m2024\u001b[0m edition            \u001b]8;id=936502;file:///opt/anaconda3/lib/python3.11/site-packages/soccerdata/sofifa.py\u001b\\\u001b[2msofifa.py\u001b[0m\u001b]8;;\u001b\\\u001b[2m:\u001b[0m\u001b]8;id=336849;file:///opt/anaconda3/lib/python3.11/site-packages/soccerdata/sofifa.py#185\u001b\\\u001b[2m185\u001b[0m\u001b]8;;\u001b\\\n"
      ]
     },
     "metadata": {},
     "output_type": "display_data"
    },
    {
     "data": {
      "text/html": [
       "<pre style=\"white-space:pre;overflow-x:auto;line-height:normal;font-family:Menlo,'DejaVu Sans Mono',consolas,'Courier New',monospace\"><span style=\"color: #7fbfbf; text-decoration-color: #7fbfbf\">                    </span><span style=\"color: #000080; text-decoration-color: #000080\">INFO    </span> <span style=\"font-weight: bold\">[</span><span style=\"color: #008080; text-decoration-color: #008080; font-weight: bold\">4</span>/<span style=\"color: #008080; text-decoration-color: #008080; font-weight: bold\">5</span><span style=\"font-weight: bold\">]</span> Retrieving teams for GER-Bundesliga in Oct <span style=\"color: #008080; text-decoration-color: #008080; font-weight: bold\">8</span>, <span style=\"color: #008080; text-decoration-color: #008080; font-weight: bold\">2024</span> edition         <a href=\"file:///opt/anaconda3/lib/python3.11/site-packages/soccerdata/sofifa.py\" target=\"_blank\"><span style=\"color: #7f7f7f; text-decoration-color: #7f7f7f\">sofifa.py</span></a><span style=\"color: #7f7f7f; text-decoration-color: #7f7f7f\">:</span><a href=\"file:///opt/anaconda3/lib/python3.11/site-packages/soccerdata/sofifa.py#185\" target=\"_blank\"><span style=\"color: #7f7f7f; text-decoration-color: #7f7f7f\">185</span></a>\n",
       "</pre>\n"
      ],
      "text/plain": [
       "\u001b[2;36m                   \u001b[0m\u001b[2;36m \u001b[0m\u001b[34mINFO    \u001b[0m \u001b[1m[\u001b[0m\u001b[1;36m4\u001b[0m/\u001b[1;36m5\u001b[0m\u001b[1m]\u001b[0m Retrieving teams for GER-Bundesliga in Oct \u001b[1;36m8\u001b[0m, \u001b[1;36m2024\u001b[0m edition         \u001b]8;id=377040;file:///opt/anaconda3/lib/python3.11/site-packages/soccerdata/sofifa.py\u001b\\\u001b[2msofifa.py\u001b[0m\u001b]8;;\u001b\\\u001b[2m:\u001b[0m\u001b]8;id=483949;file:///opt/anaconda3/lib/python3.11/site-packages/soccerdata/sofifa.py#185\u001b\\\u001b[2m185\u001b[0m\u001b]8;;\u001b\\\n"
      ]
     },
     "metadata": {},
     "output_type": "display_data"
    },
    {
     "data": {
      "text/html": [
       "<pre style=\"white-space:pre;overflow-x:auto;line-height:normal;font-family:Menlo,'DejaVu Sans Mono',consolas,'Courier New',monospace\"><span style=\"color: #7fbfbf; text-decoration-color: #7fbfbf\">                    </span><span style=\"color: #000080; text-decoration-color: #000080\">INFO    </span> <span style=\"font-weight: bold\">[</span><span style=\"color: #008080; text-decoration-color: #008080; font-weight: bold\">5</span>/<span style=\"color: #008080; text-decoration-color: #008080; font-weight: bold\">5</span><span style=\"font-weight: bold\">]</span> Retrieving teams for ITA-Serie A in Oct <span style=\"color: #008080; text-decoration-color: #008080; font-weight: bold\">8</span>, <span style=\"color: #008080; text-decoration-color: #008080; font-weight: bold\">2024</span> edition            <a href=\"file:///opt/anaconda3/lib/python3.11/site-packages/soccerdata/sofifa.py\" target=\"_blank\"><span style=\"color: #7f7f7f; text-decoration-color: #7f7f7f\">sofifa.py</span></a><span style=\"color: #7f7f7f; text-decoration-color: #7f7f7f\">:</span><a href=\"file:///opt/anaconda3/lib/python3.11/site-packages/soccerdata/sofifa.py#185\" target=\"_blank\"><span style=\"color: #7f7f7f; text-decoration-color: #7f7f7f\">185</span></a>\n",
       "</pre>\n"
      ],
      "text/plain": [
       "\u001b[2;36m                   \u001b[0m\u001b[2;36m \u001b[0m\u001b[34mINFO    \u001b[0m \u001b[1m[\u001b[0m\u001b[1;36m5\u001b[0m/\u001b[1;36m5\u001b[0m\u001b[1m]\u001b[0m Retrieving teams for ITA-Serie A in Oct \u001b[1;36m8\u001b[0m, \u001b[1;36m2024\u001b[0m edition            \u001b]8;id=25909;file:///opt/anaconda3/lib/python3.11/site-packages/soccerdata/sofifa.py\u001b\\\u001b[2msofifa.py\u001b[0m\u001b]8;;\u001b\\\u001b[2m:\u001b[0m\u001b]8;id=627740;file:///opt/anaconda3/lib/python3.11/site-packages/soccerdata/sofifa.py#185\u001b\\\u001b[2m185\u001b[0m\u001b]8;;\u001b\\\n"
      ]
     },
     "metadata": {},
     "output_type": "display_data"
    },
    {
     "data": {
      "text/html": [
       "<pre style=\"white-space:pre;overflow-x:auto;line-height:normal;font-family:Menlo,'DejaVu Sans Mono',consolas,'Courier New',monospace\"><span style=\"color: #7fbfbf; text-decoration-color: #7fbfbf\">                    </span><span style=\"color: #000080; text-decoration-color: #000080\">INFO    </span> <span style=\"font-weight: bold\">[</span><span style=\"color: #008080; text-decoration-color: #008080; font-weight: bold\">1</span>/<span style=\"color: #008080; text-decoration-color: #008080; font-weight: bold\">96</span><span style=\"font-weight: bold\">]</span> Retrieving list of players for Manchester City in Oct <span style=\"color: #008080; text-decoration-color: #008080; font-weight: bold\">8</span>, <span style=\"color: #008080; text-decoration-color: #008080; font-weight: bold\">2024</span>     <a href=\"file:///opt/anaconda3/lib/python3.11/site-packages/soccerdata/sofifa.py\" target=\"_blank\"><span style=\"color: #7f7f7f; text-decoration-color: #7f7f7f\">sofifa.py</span></a><span style=\"color: #7f7f7f; text-decoration-color: #7f7f7f\">:</span><a href=\"file:///opt/anaconda3/lib/python3.11/site-packages/soccerdata/sofifa.py#264\" target=\"_blank\"><span style=\"color: #7f7f7f; text-decoration-color: #7f7f7f\">264</span></a>\n",
       "<span style=\"color: #7fbfbf; text-decoration-color: #7fbfbf\">                    </span>         edition                                                                  <span style=\"color: #7f7f7f; text-decoration-color: #7f7f7f\">             </span>\n",
       "</pre>\n"
      ],
      "text/plain": [
       "\u001b[2;36m                   \u001b[0m\u001b[2;36m \u001b[0m\u001b[34mINFO    \u001b[0m \u001b[1m[\u001b[0m\u001b[1;36m1\u001b[0m/\u001b[1;36m96\u001b[0m\u001b[1m]\u001b[0m Retrieving list of players for Manchester City in Oct \u001b[1;36m8\u001b[0m, \u001b[1;36m2024\u001b[0m     \u001b]8;id=658950;file:///opt/anaconda3/lib/python3.11/site-packages/soccerdata/sofifa.py\u001b\\\u001b[2msofifa.py\u001b[0m\u001b]8;;\u001b\\\u001b[2m:\u001b[0m\u001b]8;id=450692;file:///opt/anaconda3/lib/python3.11/site-packages/soccerdata/sofifa.py#264\u001b\\\u001b[2m264\u001b[0m\u001b]8;;\u001b\\\n",
       "\u001b[2;36m                    \u001b[0m         edition                                                                  \u001b[2m             \u001b[0m\n"
      ]
     },
     "metadata": {},
     "output_type": "display_data"
    },
    {
     "data": {
      "text/html": [
       "<pre style=\"white-space:pre;overflow-x:auto;line-height:normal;font-family:Menlo,'DejaVu Sans Mono',consolas,'Courier New',monospace\"><span style=\"color: #7fbfbf; text-decoration-color: #7fbfbf\">                    </span><span style=\"color: #000080; text-decoration-color: #000080\">INFO    </span> <span style=\"font-weight: bold\">[</span><span style=\"color: #008080; text-decoration-color: #008080; font-weight: bold\">2</span>/<span style=\"color: #008080; text-decoration-color: #008080; font-weight: bold\">96</span><span style=\"font-weight: bold\">]</span> Retrieving list of players for Arsenal in Oct <span style=\"color: #008080; text-decoration-color: #008080; font-weight: bold\">8</span>, <span style=\"color: #008080; text-decoration-color: #008080; font-weight: bold\">2024</span> edition     <a href=\"file:///opt/anaconda3/lib/python3.11/site-packages/soccerdata/sofifa.py\" target=\"_blank\"><span style=\"color: #7f7f7f; text-decoration-color: #7f7f7f\">sofifa.py</span></a><span style=\"color: #7f7f7f; text-decoration-color: #7f7f7f\">:</span><a href=\"file:///opt/anaconda3/lib/python3.11/site-packages/soccerdata/sofifa.py#264\" target=\"_blank\"><span style=\"color: #7f7f7f; text-decoration-color: #7f7f7f\">264</span></a>\n",
       "</pre>\n"
      ],
      "text/plain": [
       "\u001b[2;36m                   \u001b[0m\u001b[2;36m \u001b[0m\u001b[34mINFO    \u001b[0m \u001b[1m[\u001b[0m\u001b[1;36m2\u001b[0m/\u001b[1;36m96\u001b[0m\u001b[1m]\u001b[0m Retrieving list of players for Arsenal in Oct \u001b[1;36m8\u001b[0m, \u001b[1;36m2024\u001b[0m edition     \u001b]8;id=911699;file:///opt/anaconda3/lib/python3.11/site-packages/soccerdata/sofifa.py\u001b\\\u001b[2msofifa.py\u001b[0m\u001b]8;;\u001b\\\u001b[2m:\u001b[0m\u001b]8;id=475334;file:///opt/anaconda3/lib/python3.11/site-packages/soccerdata/sofifa.py#264\u001b\\\u001b[2m264\u001b[0m\u001b]8;;\u001b\\\n"
      ]
     },
     "metadata": {},
     "output_type": "display_data"
    },
    {
     "data": {
      "text/html": [
       "<pre style=\"white-space:pre;overflow-x:auto;line-height:normal;font-family:Menlo,'DejaVu Sans Mono',consolas,'Courier New',monospace\"><span style=\"color: #7fbfbf; text-decoration-color: #7fbfbf\">                    </span><span style=\"color: #000080; text-decoration-color: #000080\">INFO    </span> <span style=\"font-weight: bold\">[</span><span style=\"color: #008080; text-decoration-color: #008080; font-weight: bold\">3</span>/<span style=\"color: #008080; text-decoration-color: #008080; font-weight: bold\">96</span><span style=\"font-weight: bold\">]</span> Retrieving list of players for Liverpool in Oct <span style=\"color: #008080; text-decoration-color: #008080; font-weight: bold\">8</span>, <span style=\"color: #008080; text-decoration-color: #008080; font-weight: bold\">2024</span> edition   <a href=\"file:///opt/anaconda3/lib/python3.11/site-packages/soccerdata/sofifa.py\" target=\"_blank\"><span style=\"color: #7f7f7f; text-decoration-color: #7f7f7f\">sofifa.py</span></a><span style=\"color: #7f7f7f; text-decoration-color: #7f7f7f\">:</span><a href=\"file:///opt/anaconda3/lib/python3.11/site-packages/soccerdata/sofifa.py#264\" target=\"_blank\"><span style=\"color: #7f7f7f; text-decoration-color: #7f7f7f\">264</span></a>\n",
       "</pre>\n"
      ],
      "text/plain": [
       "\u001b[2;36m                   \u001b[0m\u001b[2;36m \u001b[0m\u001b[34mINFO    \u001b[0m \u001b[1m[\u001b[0m\u001b[1;36m3\u001b[0m/\u001b[1;36m96\u001b[0m\u001b[1m]\u001b[0m Retrieving list of players for Liverpool in Oct \u001b[1;36m8\u001b[0m, \u001b[1;36m2024\u001b[0m edition   \u001b]8;id=827441;file:///opt/anaconda3/lib/python3.11/site-packages/soccerdata/sofifa.py\u001b\\\u001b[2msofifa.py\u001b[0m\u001b]8;;\u001b\\\u001b[2m:\u001b[0m\u001b]8;id=787331;file:///opt/anaconda3/lib/python3.11/site-packages/soccerdata/sofifa.py#264\u001b\\\u001b[2m264\u001b[0m\u001b]8;;\u001b\\\n"
      ]
     },
     "metadata": {},
     "output_type": "display_data"
    },
    {
     "data": {
      "text/html": [
       "<pre style=\"white-space:pre;overflow-x:auto;line-height:normal;font-family:Menlo,'DejaVu Sans Mono',consolas,'Courier New',monospace\"><span style=\"color: #7fbfbf; text-decoration-color: #7fbfbf\">                    </span><span style=\"color: #000080; text-decoration-color: #000080\">INFO    </span> <span style=\"font-weight: bold\">[</span><span style=\"color: #008080; text-decoration-color: #008080; font-weight: bold\">4</span>/<span style=\"color: #008080; text-decoration-color: #008080; font-weight: bold\">96</span><span style=\"font-weight: bold\">]</span> Retrieving list of players for Manchester United in Oct <span style=\"color: #008080; text-decoration-color: #008080; font-weight: bold\">8</span>, <span style=\"color: #008080; text-decoration-color: #008080; font-weight: bold\">2024</span>   <a href=\"file:///opt/anaconda3/lib/python3.11/site-packages/soccerdata/sofifa.py\" target=\"_blank\"><span style=\"color: #7f7f7f; text-decoration-color: #7f7f7f\">sofifa.py</span></a><span style=\"color: #7f7f7f; text-decoration-color: #7f7f7f\">:</span><a href=\"file:///opt/anaconda3/lib/python3.11/site-packages/soccerdata/sofifa.py#264\" target=\"_blank\"><span style=\"color: #7f7f7f; text-decoration-color: #7f7f7f\">264</span></a>\n",
       "<span style=\"color: #7fbfbf; text-decoration-color: #7fbfbf\">                    </span>         edition                                                                  <span style=\"color: #7f7f7f; text-decoration-color: #7f7f7f\">             </span>\n",
       "</pre>\n"
      ],
      "text/plain": [
       "\u001b[2;36m                   \u001b[0m\u001b[2;36m \u001b[0m\u001b[34mINFO    \u001b[0m \u001b[1m[\u001b[0m\u001b[1;36m4\u001b[0m/\u001b[1;36m96\u001b[0m\u001b[1m]\u001b[0m Retrieving list of players for Manchester United in Oct \u001b[1;36m8\u001b[0m, \u001b[1;36m2024\u001b[0m   \u001b]8;id=103467;file:///opt/anaconda3/lib/python3.11/site-packages/soccerdata/sofifa.py\u001b\\\u001b[2msofifa.py\u001b[0m\u001b]8;;\u001b\\\u001b[2m:\u001b[0m\u001b]8;id=368219;file:///opt/anaconda3/lib/python3.11/site-packages/soccerdata/sofifa.py#264\u001b\\\u001b[2m264\u001b[0m\u001b]8;;\u001b\\\n",
       "\u001b[2;36m                    \u001b[0m         edition                                                                  \u001b[2m             \u001b[0m\n"
      ]
     },
     "metadata": {},
     "output_type": "display_data"
    },
    {
     "data": {
      "text/html": [
       "<pre style=\"white-space:pre;overflow-x:auto;line-height:normal;font-family:Menlo,'DejaVu Sans Mono',consolas,'Courier New',monospace\"><span style=\"color: #7fbfbf; text-decoration-color: #7fbfbf\">                    </span><span style=\"color: #000080; text-decoration-color: #000080\">INFO    </span> <span style=\"font-weight: bold\">[</span><span style=\"color: #008080; text-decoration-color: #008080; font-weight: bold\">5</span>/<span style=\"color: #008080; text-decoration-color: #008080; font-weight: bold\">96</span><span style=\"font-weight: bold\">]</span> Retrieving list of players for Newcastle United in Oct <span style=\"color: #008080; text-decoration-color: #008080; font-weight: bold\">8</span>, <span style=\"color: #008080; text-decoration-color: #008080; font-weight: bold\">2024</span>    <a href=\"file:///opt/anaconda3/lib/python3.11/site-packages/soccerdata/sofifa.py\" target=\"_blank\"><span style=\"color: #7f7f7f; text-decoration-color: #7f7f7f\">sofifa.py</span></a><span style=\"color: #7f7f7f; text-decoration-color: #7f7f7f\">:</span><a href=\"file:///opt/anaconda3/lib/python3.11/site-packages/soccerdata/sofifa.py#264\" target=\"_blank\"><span style=\"color: #7f7f7f; text-decoration-color: #7f7f7f\">264</span></a>\n",
       "<span style=\"color: #7fbfbf; text-decoration-color: #7fbfbf\">                    </span>         edition                                                                  <span style=\"color: #7f7f7f; text-decoration-color: #7f7f7f\">             </span>\n",
       "</pre>\n"
      ],
      "text/plain": [
       "\u001b[2;36m                   \u001b[0m\u001b[2;36m \u001b[0m\u001b[34mINFO    \u001b[0m \u001b[1m[\u001b[0m\u001b[1;36m5\u001b[0m/\u001b[1;36m96\u001b[0m\u001b[1m]\u001b[0m Retrieving list of players for Newcastle United in Oct \u001b[1;36m8\u001b[0m, \u001b[1;36m2024\u001b[0m    \u001b]8;id=840770;file:///opt/anaconda3/lib/python3.11/site-packages/soccerdata/sofifa.py\u001b\\\u001b[2msofifa.py\u001b[0m\u001b]8;;\u001b\\\u001b[2m:\u001b[0m\u001b]8;id=212677;file:///opt/anaconda3/lib/python3.11/site-packages/soccerdata/sofifa.py#264\u001b\\\u001b[2m264\u001b[0m\u001b]8;;\u001b\\\n",
       "\u001b[2;36m                    \u001b[0m         edition                                                                  \u001b[2m             \u001b[0m\n"
      ]
     },
     "metadata": {},
     "output_type": "display_data"
    },
    {
     "data": {
      "text/html": [
       "<pre style=\"white-space:pre;overflow-x:auto;line-height:normal;font-family:Menlo,'DejaVu Sans Mono',consolas,'Courier New',monospace\"><span style=\"color: #7fbfbf; text-decoration-color: #7fbfbf\">                    </span><span style=\"color: #000080; text-decoration-color: #000080\">INFO    </span> <span style=\"font-weight: bold\">[</span><span style=\"color: #008080; text-decoration-color: #008080; font-weight: bold\">6</span>/<span style=\"color: #008080; text-decoration-color: #008080; font-weight: bold\">96</span><span style=\"font-weight: bold\">]</span> Retrieving list of players for Tottenham Hotspur in Oct <span style=\"color: #008080; text-decoration-color: #008080; font-weight: bold\">8</span>, <span style=\"color: #008080; text-decoration-color: #008080; font-weight: bold\">2024</span>   <a href=\"file:///opt/anaconda3/lib/python3.11/site-packages/soccerdata/sofifa.py\" target=\"_blank\"><span style=\"color: #7f7f7f; text-decoration-color: #7f7f7f\">sofifa.py</span></a><span style=\"color: #7f7f7f; text-decoration-color: #7f7f7f\">:</span><a href=\"file:///opt/anaconda3/lib/python3.11/site-packages/soccerdata/sofifa.py#264\" target=\"_blank\"><span style=\"color: #7f7f7f; text-decoration-color: #7f7f7f\">264</span></a>\n",
       "<span style=\"color: #7fbfbf; text-decoration-color: #7fbfbf\">                    </span>         edition                                                                  <span style=\"color: #7f7f7f; text-decoration-color: #7f7f7f\">             </span>\n",
       "</pre>\n"
      ],
      "text/plain": [
       "\u001b[2;36m                   \u001b[0m\u001b[2;36m \u001b[0m\u001b[34mINFO    \u001b[0m \u001b[1m[\u001b[0m\u001b[1;36m6\u001b[0m/\u001b[1;36m96\u001b[0m\u001b[1m]\u001b[0m Retrieving list of players for Tottenham Hotspur in Oct \u001b[1;36m8\u001b[0m, \u001b[1;36m2024\u001b[0m   \u001b]8;id=953540;file:///opt/anaconda3/lib/python3.11/site-packages/soccerdata/sofifa.py\u001b\\\u001b[2msofifa.py\u001b[0m\u001b]8;;\u001b\\\u001b[2m:\u001b[0m\u001b]8;id=344369;file:///opt/anaconda3/lib/python3.11/site-packages/soccerdata/sofifa.py#264\u001b\\\u001b[2m264\u001b[0m\u001b]8;;\u001b\\\n",
       "\u001b[2;36m                    \u001b[0m         edition                                                                  \u001b[2m             \u001b[0m\n"
      ]
     },
     "metadata": {},
     "output_type": "display_data"
    },
    {
     "data": {
      "text/html": [
       "<pre style=\"white-space:pre;overflow-x:auto;line-height:normal;font-family:Menlo,'DejaVu Sans Mono',consolas,'Courier New',monospace\"><span style=\"color: #7fbfbf; text-decoration-color: #7fbfbf\">                    </span><span style=\"color: #000080; text-decoration-color: #000080\">INFO    </span> <span style=\"font-weight: bold\">[</span><span style=\"color: #008080; text-decoration-color: #008080; font-weight: bold\">7</span>/<span style=\"color: #008080; text-decoration-color: #008080; font-weight: bold\">96</span><span style=\"font-weight: bold\">]</span> Retrieving list of players for Aston Villa in Oct <span style=\"color: #008080; text-decoration-color: #008080; font-weight: bold\">8</span>, <span style=\"color: #008080; text-decoration-color: #008080; font-weight: bold\">2024</span> edition <a href=\"file:///opt/anaconda3/lib/python3.11/site-packages/soccerdata/sofifa.py\" target=\"_blank\"><span style=\"color: #7f7f7f; text-decoration-color: #7f7f7f\">sofifa.py</span></a><span style=\"color: #7f7f7f; text-decoration-color: #7f7f7f\">:</span><a href=\"file:///opt/anaconda3/lib/python3.11/site-packages/soccerdata/sofifa.py#264\" target=\"_blank\"><span style=\"color: #7f7f7f; text-decoration-color: #7f7f7f\">264</span></a>\n",
       "</pre>\n"
      ],
      "text/plain": [
       "\u001b[2;36m                   \u001b[0m\u001b[2;36m \u001b[0m\u001b[34mINFO    \u001b[0m \u001b[1m[\u001b[0m\u001b[1;36m7\u001b[0m/\u001b[1;36m96\u001b[0m\u001b[1m]\u001b[0m Retrieving list of players for Aston Villa in Oct \u001b[1;36m8\u001b[0m, \u001b[1;36m2024\u001b[0m edition \u001b]8;id=733604;file:///opt/anaconda3/lib/python3.11/site-packages/soccerdata/sofifa.py\u001b\\\u001b[2msofifa.py\u001b[0m\u001b]8;;\u001b\\\u001b[2m:\u001b[0m\u001b]8;id=249219;file:///opt/anaconda3/lib/python3.11/site-packages/soccerdata/sofifa.py#264\u001b\\\u001b[2m264\u001b[0m\u001b]8;;\u001b\\\n"
      ]
     },
     "metadata": {},
     "output_type": "display_data"
    },
    {
     "data": {
      "text/html": [
       "<pre style=\"white-space:pre;overflow-x:auto;line-height:normal;font-family:Menlo,'DejaVu Sans Mono',consolas,'Courier New',monospace\"><span style=\"color: #7fbfbf; text-decoration-color: #7fbfbf\">                    </span><span style=\"color: #000080; text-decoration-color: #000080\">INFO    </span> <span style=\"font-weight: bold\">[</span><span style=\"color: #008080; text-decoration-color: #008080; font-weight: bold\">8</span>/<span style=\"color: #008080; text-decoration-color: #008080; font-weight: bold\">96</span><span style=\"font-weight: bold\">]</span> Retrieving list of players for Chelsea in Oct <span style=\"color: #008080; text-decoration-color: #008080; font-weight: bold\">8</span>, <span style=\"color: #008080; text-decoration-color: #008080; font-weight: bold\">2024</span> edition     <a href=\"file:///opt/anaconda3/lib/python3.11/site-packages/soccerdata/sofifa.py\" target=\"_blank\"><span style=\"color: #7f7f7f; text-decoration-color: #7f7f7f\">sofifa.py</span></a><span style=\"color: #7f7f7f; text-decoration-color: #7f7f7f\">:</span><a href=\"file:///opt/anaconda3/lib/python3.11/site-packages/soccerdata/sofifa.py#264\" target=\"_blank\"><span style=\"color: #7f7f7f; text-decoration-color: #7f7f7f\">264</span></a>\n",
       "</pre>\n"
      ],
      "text/plain": [
       "\u001b[2;36m                   \u001b[0m\u001b[2;36m \u001b[0m\u001b[34mINFO    \u001b[0m \u001b[1m[\u001b[0m\u001b[1;36m8\u001b[0m/\u001b[1;36m96\u001b[0m\u001b[1m]\u001b[0m Retrieving list of players for Chelsea in Oct \u001b[1;36m8\u001b[0m, \u001b[1;36m2024\u001b[0m edition     \u001b]8;id=598768;file:///opt/anaconda3/lib/python3.11/site-packages/soccerdata/sofifa.py\u001b\\\u001b[2msofifa.py\u001b[0m\u001b]8;;\u001b\\\u001b[2m:\u001b[0m\u001b]8;id=779463;file:///opt/anaconda3/lib/python3.11/site-packages/soccerdata/sofifa.py#264\u001b\\\u001b[2m264\u001b[0m\u001b]8;;\u001b\\\n"
      ]
     },
     "metadata": {},
     "output_type": "display_data"
    },
    {
     "data": {
      "text/html": [
       "<pre style=\"white-space:pre;overflow-x:auto;line-height:normal;font-family:Menlo,'DejaVu Sans Mono',consolas,'Courier New',monospace\"><span style=\"color: #7fbfbf; text-decoration-color: #7fbfbf\">                    </span><span style=\"color: #000080; text-decoration-color: #000080\">INFO    </span> <span style=\"font-weight: bold\">[</span><span style=\"color: #008080; text-decoration-color: #008080; font-weight: bold\">9</span>/<span style=\"color: #008080; text-decoration-color: #008080; font-weight: bold\">96</span><span style=\"font-weight: bold\">]</span> Retrieving list of players for West Ham United in Oct <span style=\"color: #008080; text-decoration-color: #008080; font-weight: bold\">8</span>, <span style=\"color: #008080; text-decoration-color: #008080; font-weight: bold\">2024</span>     <a href=\"file:///opt/anaconda3/lib/python3.11/site-packages/soccerdata/sofifa.py\" target=\"_blank\"><span style=\"color: #7f7f7f; text-decoration-color: #7f7f7f\">sofifa.py</span></a><span style=\"color: #7f7f7f; text-decoration-color: #7f7f7f\">:</span><a href=\"file:///opt/anaconda3/lib/python3.11/site-packages/soccerdata/sofifa.py#264\" target=\"_blank\"><span style=\"color: #7f7f7f; text-decoration-color: #7f7f7f\">264</span></a>\n",
       "<span style=\"color: #7fbfbf; text-decoration-color: #7fbfbf\">                    </span>         edition                                                                  <span style=\"color: #7f7f7f; text-decoration-color: #7f7f7f\">             </span>\n",
       "</pre>\n"
      ],
      "text/plain": [
       "\u001b[2;36m                   \u001b[0m\u001b[2;36m \u001b[0m\u001b[34mINFO    \u001b[0m \u001b[1m[\u001b[0m\u001b[1;36m9\u001b[0m/\u001b[1;36m96\u001b[0m\u001b[1m]\u001b[0m Retrieving list of players for West Ham United in Oct \u001b[1;36m8\u001b[0m, \u001b[1;36m2024\u001b[0m     \u001b]8;id=207810;file:///opt/anaconda3/lib/python3.11/site-packages/soccerdata/sofifa.py\u001b\\\u001b[2msofifa.py\u001b[0m\u001b]8;;\u001b\\\u001b[2m:\u001b[0m\u001b]8;id=139409;file:///opt/anaconda3/lib/python3.11/site-packages/soccerdata/sofifa.py#264\u001b\\\u001b[2m264\u001b[0m\u001b]8;;\u001b\\\n",
       "\u001b[2;36m                    \u001b[0m         edition                                                                  \u001b[2m             \u001b[0m\n"
      ]
     },
     "metadata": {},
     "output_type": "display_data"
    },
    {
     "data": {
      "text/html": [
       "<pre style=\"white-space:pre;overflow-x:auto;line-height:normal;font-family:Menlo,'DejaVu Sans Mono',consolas,'Courier New',monospace\"><span style=\"color: #7fbfbf; text-decoration-color: #7fbfbf\">                    </span><span style=\"color: #000080; text-decoration-color: #000080\">INFO    </span> <span style=\"font-weight: bold\">[</span><span style=\"color: #008080; text-decoration-color: #008080; font-weight: bold\">10</span>/<span style=\"color: #008080; text-decoration-color: #008080; font-weight: bold\">96</span><span style=\"font-weight: bold\">]</span> Retrieving list of players for Crystal Palace in Oct <span style=\"color: #008080; text-decoration-color: #008080; font-weight: bold\">8</span>, <span style=\"color: #008080; text-decoration-color: #008080; font-weight: bold\">2024</span>     <a href=\"file:///opt/anaconda3/lib/python3.11/site-packages/soccerdata/sofifa.py\" target=\"_blank\"><span style=\"color: #7f7f7f; text-decoration-color: #7f7f7f\">sofifa.py</span></a><span style=\"color: #7f7f7f; text-decoration-color: #7f7f7f\">:</span><a href=\"file:///opt/anaconda3/lib/python3.11/site-packages/soccerdata/sofifa.py#264\" target=\"_blank\"><span style=\"color: #7f7f7f; text-decoration-color: #7f7f7f\">264</span></a>\n",
       "<span style=\"color: #7fbfbf; text-decoration-color: #7fbfbf\">                    </span>         edition                                                                  <span style=\"color: #7f7f7f; text-decoration-color: #7f7f7f\">             </span>\n",
       "</pre>\n"
      ],
      "text/plain": [
       "\u001b[2;36m                   \u001b[0m\u001b[2;36m \u001b[0m\u001b[34mINFO    \u001b[0m \u001b[1m[\u001b[0m\u001b[1;36m10\u001b[0m/\u001b[1;36m96\u001b[0m\u001b[1m]\u001b[0m Retrieving list of players for Crystal Palace in Oct \u001b[1;36m8\u001b[0m, \u001b[1;36m2024\u001b[0m     \u001b]8;id=745014;file:///opt/anaconda3/lib/python3.11/site-packages/soccerdata/sofifa.py\u001b\\\u001b[2msofifa.py\u001b[0m\u001b]8;;\u001b\\\u001b[2m:\u001b[0m\u001b]8;id=876965;file:///opt/anaconda3/lib/python3.11/site-packages/soccerdata/sofifa.py#264\u001b\\\u001b[2m264\u001b[0m\u001b]8;;\u001b\\\n",
       "\u001b[2;36m                    \u001b[0m         edition                                                                  \u001b[2m             \u001b[0m\n"
      ]
     },
     "metadata": {},
     "output_type": "display_data"
    },
    {
     "data": {
      "text/html": [
       "<pre style=\"white-space:pre;overflow-x:auto;line-height:normal;font-family:Menlo,'DejaVu Sans Mono',consolas,'Courier New',monospace\"><span style=\"color: #7fbfbf; text-decoration-color: #7fbfbf\">                    </span><span style=\"color: #000080; text-decoration-color: #000080\">INFO    </span> <span style=\"font-weight: bold\">[</span><span style=\"color: #008080; text-decoration-color: #008080; font-weight: bold\">11</span>/<span style=\"color: #008080; text-decoration-color: #008080; font-weight: bold\">96</span><span style=\"font-weight: bold\">]</span> Retrieving list of players for Nottingham Forest in Oct <span style=\"color: #008080; text-decoration-color: #008080; font-weight: bold\">8</span>, <span style=\"color: #008080; text-decoration-color: #008080; font-weight: bold\">2024</span>  <a href=\"file:///opt/anaconda3/lib/python3.11/site-packages/soccerdata/sofifa.py\" target=\"_blank\"><span style=\"color: #7f7f7f; text-decoration-color: #7f7f7f\">sofifa.py</span></a><span style=\"color: #7f7f7f; text-decoration-color: #7f7f7f\">:</span><a href=\"file:///opt/anaconda3/lib/python3.11/site-packages/soccerdata/sofifa.py#264\" target=\"_blank\"><span style=\"color: #7f7f7f; text-decoration-color: #7f7f7f\">264</span></a>\n",
       "<span style=\"color: #7fbfbf; text-decoration-color: #7fbfbf\">                    </span>         edition                                                                  <span style=\"color: #7f7f7f; text-decoration-color: #7f7f7f\">             </span>\n",
       "</pre>\n"
      ],
      "text/plain": [
       "\u001b[2;36m                   \u001b[0m\u001b[2;36m \u001b[0m\u001b[34mINFO    \u001b[0m \u001b[1m[\u001b[0m\u001b[1;36m11\u001b[0m/\u001b[1;36m96\u001b[0m\u001b[1m]\u001b[0m Retrieving list of players for Nottingham Forest in Oct \u001b[1;36m8\u001b[0m, \u001b[1;36m2024\u001b[0m  \u001b]8;id=203212;file:///opt/anaconda3/lib/python3.11/site-packages/soccerdata/sofifa.py\u001b\\\u001b[2msofifa.py\u001b[0m\u001b]8;;\u001b\\\u001b[2m:\u001b[0m\u001b]8;id=168182;file:///opt/anaconda3/lib/python3.11/site-packages/soccerdata/sofifa.py#264\u001b\\\u001b[2m264\u001b[0m\u001b]8;;\u001b\\\n",
       "\u001b[2;36m                    \u001b[0m         edition                                                                  \u001b[2m             \u001b[0m\n"
      ]
     },
     "metadata": {},
     "output_type": "display_data"
    },
    {
     "data": {
      "text/html": [
       "<pre style=\"white-space:pre;overflow-x:auto;line-height:normal;font-family:Menlo,'DejaVu Sans Mono',consolas,'Courier New',monospace\"><span style=\"color: #7fbfbf; text-decoration-color: #7fbfbf\">                    </span><span style=\"color: #000080; text-decoration-color: #000080\">INFO    </span> <span style=\"font-weight: bold\">[</span><span style=\"color: #008080; text-decoration-color: #008080; font-weight: bold\">12</span>/<span style=\"color: #008080; text-decoration-color: #008080; font-weight: bold\">96</span><span style=\"font-weight: bold\">]</span> Retrieving list of players for Brighton &amp; Hove Albion in Oct <span style=\"color: #008080; text-decoration-color: #008080; font-weight: bold\">8</span>,  <a href=\"file:///opt/anaconda3/lib/python3.11/site-packages/soccerdata/sofifa.py\" target=\"_blank\"><span style=\"color: #7f7f7f; text-decoration-color: #7f7f7f\">sofifa.py</span></a><span style=\"color: #7f7f7f; text-decoration-color: #7f7f7f\">:</span><a href=\"file:///opt/anaconda3/lib/python3.11/site-packages/soccerdata/sofifa.py#264\" target=\"_blank\"><span style=\"color: #7f7f7f; text-decoration-color: #7f7f7f\">264</span></a>\n",
       "<span style=\"color: #7fbfbf; text-decoration-color: #7fbfbf\">                    </span>         <span style=\"color: #008080; text-decoration-color: #008080; font-weight: bold\">2024</span> edition                                                             <span style=\"color: #7f7f7f; text-decoration-color: #7f7f7f\">             </span>\n",
       "</pre>\n"
      ],
      "text/plain": [
       "\u001b[2;36m                   \u001b[0m\u001b[2;36m \u001b[0m\u001b[34mINFO    \u001b[0m \u001b[1m[\u001b[0m\u001b[1;36m12\u001b[0m/\u001b[1;36m96\u001b[0m\u001b[1m]\u001b[0m Retrieving list of players for Brighton & Hove Albion in Oct \u001b[1;36m8\u001b[0m,  \u001b]8;id=973919;file:///opt/anaconda3/lib/python3.11/site-packages/soccerdata/sofifa.py\u001b\\\u001b[2msofifa.py\u001b[0m\u001b]8;;\u001b\\\u001b[2m:\u001b[0m\u001b]8;id=562483;file:///opt/anaconda3/lib/python3.11/site-packages/soccerdata/sofifa.py#264\u001b\\\u001b[2m264\u001b[0m\u001b]8;;\u001b\\\n",
       "\u001b[2;36m                    \u001b[0m         \u001b[1;36m2024\u001b[0m edition                                                             \u001b[2m             \u001b[0m\n"
      ]
     },
     "metadata": {},
     "output_type": "display_data"
    },
    {
     "data": {
      "text/html": [
       "<pre style=\"white-space:pre;overflow-x:auto;line-height:normal;font-family:Menlo,'DejaVu Sans Mono',consolas,'Courier New',monospace\"><span style=\"color: #7fbfbf; text-decoration-color: #7fbfbf\">                    </span><span style=\"color: #000080; text-decoration-color: #000080\">INFO    </span> <span style=\"font-weight: bold\">[</span><span style=\"color: #008080; text-decoration-color: #008080; font-weight: bold\">13</span>/<span style=\"color: #008080; text-decoration-color: #008080; font-weight: bold\">96</span><span style=\"font-weight: bold\">]</span> Retrieving list of players for Wolverhampton Wanderers in Oct <span style=\"color: #008080; text-decoration-color: #008080; font-weight: bold\">8</span>, <a href=\"file:///opt/anaconda3/lib/python3.11/site-packages/soccerdata/sofifa.py\" target=\"_blank\"><span style=\"color: #7f7f7f; text-decoration-color: #7f7f7f\">sofifa.py</span></a><span style=\"color: #7f7f7f; text-decoration-color: #7f7f7f\">:</span><a href=\"file:///opt/anaconda3/lib/python3.11/site-packages/soccerdata/sofifa.py#264\" target=\"_blank\"><span style=\"color: #7f7f7f; text-decoration-color: #7f7f7f\">264</span></a>\n",
       "<span style=\"color: #7fbfbf; text-decoration-color: #7fbfbf\">                    </span>         <span style=\"color: #008080; text-decoration-color: #008080; font-weight: bold\">2024</span> edition                                                             <span style=\"color: #7f7f7f; text-decoration-color: #7f7f7f\">             </span>\n",
       "</pre>\n"
      ],
      "text/plain": [
       "\u001b[2;36m                   \u001b[0m\u001b[2;36m \u001b[0m\u001b[34mINFO    \u001b[0m \u001b[1m[\u001b[0m\u001b[1;36m13\u001b[0m/\u001b[1;36m96\u001b[0m\u001b[1m]\u001b[0m Retrieving list of players for Wolverhampton Wanderers in Oct \u001b[1;36m8\u001b[0m, \u001b]8;id=793613;file:///opt/anaconda3/lib/python3.11/site-packages/soccerdata/sofifa.py\u001b\\\u001b[2msofifa.py\u001b[0m\u001b]8;;\u001b\\\u001b[2m:\u001b[0m\u001b]8;id=602160;file:///opt/anaconda3/lib/python3.11/site-packages/soccerdata/sofifa.py#264\u001b\\\u001b[2m264\u001b[0m\u001b]8;;\u001b\\\n",
       "\u001b[2;36m                    \u001b[0m         \u001b[1;36m2024\u001b[0m edition                                                             \u001b[2m             \u001b[0m\n"
      ]
     },
     "metadata": {},
     "output_type": "display_data"
    },
    {
     "data": {
      "text/html": [
       "<pre style=\"white-space:pre;overflow-x:auto;line-height:normal;font-family:Menlo,'DejaVu Sans Mono',consolas,'Courier New',monospace\"><span style=\"color: #7fbfbf; text-decoration-color: #7fbfbf\">                    </span><span style=\"color: #000080; text-decoration-color: #000080\">INFO    </span> <span style=\"font-weight: bold\">[</span><span style=\"color: #008080; text-decoration-color: #008080; font-weight: bold\">14</span>/<span style=\"color: #008080; text-decoration-color: #008080; font-weight: bold\">96</span><span style=\"font-weight: bold\">]</span> Retrieving list of players for Everton in Oct <span style=\"color: #008080; text-decoration-color: #008080; font-weight: bold\">8</span>, <span style=\"color: #008080; text-decoration-color: #008080; font-weight: bold\">2024</span> edition    <a href=\"file:///opt/anaconda3/lib/python3.11/site-packages/soccerdata/sofifa.py\" target=\"_blank\"><span style=\"color: #7f7f7f; text-decoration-color: #7f7f7f\">sofifa.py</span></a><span style=\"color: #7f7f7f; text-decoration-color: #7f7f7f\">:</span><a href=\"file:///opt/anaconda3/lib/python3.11/site-packages/soccerdata/sofifa.py#264\" target=\"_blank\"><span style=\"color: #7f7f7f; text-decoration-color: #7f7f7f\">264</span></a>\n",
       "</pre>\n"
      ],
      "text/plain": [
       "\u001b[2;36m                   \u001b[0m\u001b[2;36m \u001b[0m\u001b[34mINFO    \u001b[0m \u001b[1m[\u001b[0m\u001b[1;36m14\u001b[0m/\u001b[1;36m96\u001b[0m\u001b[1m]\u001b[0m Retrieving list of players for Everton in Oct \u001b[1;36m8\u001b[0m, \u001b[1;36m2024\u001b[0m edition    \u001b]8;id=966356;file:///opt/anaconda3/lib/python3.11/site-packages/soccerdata/sofifa.py\u001b\\\u001b[2msofifa.py\u001b[0m\u001b]8;;\u001b\\\u001b[2m:\u001b[0m\u001b]8;id=225935;file:///opt/anaconda3/lib/python3.11/site-packages/soccerdata/sofifa.py#264\u001b\\\u001b[2m264\u001b[0m\u001b]8;;\u001b\\\n"
      ]
     },
     "metadata": {},
     "output_type": "display_data"
    },
    {
     "data": {
      "text/html": [
       "<pre style=\"white-space:pre;overflow-x:auto;line-height:normal;font-family:Menlo,'DejaVu Sans Mono',consolas,'Courier New',monospace\"><span style=\"color: #7fbfbf; text-decoration-color: #7fbfbf\">                    </span><span style=\"color: #000080; text-decoration-color: #000080\">INFO    </span> <span style=\"font-weight: bold\">[</span><span style=\"color: #008080; text-decoration-color: #008080; font-weight: bold\">15</span>/<span style=\"color: #008080; text-decoration-color: #008080; font-weight: bold\">96</span><span style=\"font-weight: bold\">]</span> Retrieving list of players for Leicester City in Oct <span style=\"color: #008080; text-decoration-color: #008080; font-weight: bold\">8</span>, <span style=\"color: #008080; text-decoration-color: #008080; font-weight: bold\">2024</span>     <a href=\"file:///opt/anaconda3/lib/python3.11/site-packages/soccerdata/sofifa.py\" target=\"_blank\"><span style=\"color: #7f7f7f; text-decoration-color: #7f7f7f\">sofifa.py</span></a><span style=\"color: #7f7f7f; text-decoration-color: #7f7f7f\">:</span><a href=\"file:///opt/anaconda3/lib/python3.11/site-packages/soccerdata/sofifa.py#264\" target=\"_blank\"><span style=\"color: #7f7f7f; text-decoration-color: #7f7f7f\">264</span></a>\n",
       "<span style=\"color: #7fbfbf; text-decoration-color: #7fbfbf\">                    </span>         edition                                                                  <span style=\"color: #7f7f7f; text-decoration-color: #7f7f7f\">             </span>\n",
       "</pre>\n"
      ],
      "text/plain": [
       "\u001b[2;36m                   \u001b[0m\u001b[2;36m \u001b[0m\u001b[34mINFO    \u001b[0m \u001b[1m[\u001b[0m\u001b[1;36m15\u001b[0m/\u001b[1;36m96\u001b[0m\u001b[1m]\u001b[0m Retrieving list of players for Leicester City in Oct \u001b[1;36m8\u001b[0m, \u001b[1;36m2024\u001b[0m     \u001b]8;id=534254;file:///opt/anaconda3/lib/python3.11/site-packages/soccerdata/sofifa.py\u001b\\\u001b[2msofifa.py\u001b[0m\u001b]8;;\u001b\\\u001b[2m:\u001b[0m\u001b]8;id=979796;file:///opt/anaconda3/lib/python3.11/site-packages/soccerdata/sofifa.py#264\u001b\\\u001b[2m264\u001b[0m\u001b]8;;\u001b\\\n",
       "\u001b[2;36m                    \u001b[0m         edition                                                                  \u001b[2m             \u001b[0m\n"
      ]
     },
     "metadata": {},
     "output_type": "display_data"
    },
    {
     "data": {
      "text/html": [
       "<pre style=\"white-space:pre;overflow-x:auto;line-height:normal;font-family:Menlo,'DejaVu Sans Mono',consolas,'Courier New',monospace\"><span style=\"color: #7fbfbf; text-decoration-color: #7fbfbf\">                    </span><span style=\"color: #000080; text-decoration-color: #000080\">INFO    </span> <span style=\"font-weight: bold\">[</span><span style=\"color: #008080; text-decoration-color: #008080; font-weight: bold\">16</span>/<span style=\"color: #008080; text-decoration-color: #008080; font-weight: bold\">96</span><span style=\"font-weight: bold\">]</span> Retrieving list of players for Brentford in Oct <span style=\"color: #008080; text-decoration-color: #008080; font-weight: bold\">8</span>, <span style=\"color: #008080; text-decoration-color: #008080; font-weight: bold\">2024</span> edition  <a href=\"file:///opt/anaconda3/lib/python3.11/site-packages/soccerdata/sofifa.py\" target=\"_blank\"><span style=\"color: #7f7f7f; text-decoration-color: #7f7f7f\">sofifa.py</span></a><span style=\"color: #7f7f7f; text-decoration-color: #7f7f7f\">:</span><a href=\"file:///opt/anaconda3/lib/python3.11/site-packages/soccerdata/sofifa.py#264\" target=\"_blank\"><span style=\"color: #7f7f7f; text-decoration-color: #7f7f7f\">264</span></a>\n",
       "</pre>\n"
      ],
      "text/plain": [
       "\u001b[2;36m                   \u001b[0m\u001b[2;36m \u001b[0m\u001b[34mINFO    \u001b[0m \u001b[1m[\u001b[0m\u001b[1;36m16\u001b[0m/\u001b[1;36m96\u001b[0m\u001b[1m]\u001b[0m Retrieving list of players for Brentford in Oct \u001b[1;36m8\u001b[0m, \u001b[1;36m2024\u001b[0m edition  \u001b]8;id=154500;file:///opt/anaconda3/lib/python3.11/site-packages/soccerdata/sofifa.py\u001b\\\u001b[2msofifa.py\u001b[0m\u001b]8;;\u001b\\\u001b[2m:\u001b[0m\u001b]8;id=476087;file:///opt/anaconda3/lib/python3.11/site-packages/soccerdata/sofifa.py#264\u001b\\\u001b[2m264\u001b[0m\u001b]8;;\u001b\\\n"
      ]
     },
     "metadata": {},
     "output_type": "display_data"
    },
    {
     "data": {
      "text/html": [
       "<pre style=\"white-space:pre;overflow-x:auto;line-height:normal;font-family:Menlo,'DejaVu Sans Mono',consolas,'Courier New',monospace\"><span style=\"color: #7fbfbf; text-decoration-color: #7fbfbf\">                    </span><span style=\"color: #000080; text-decoration-color: #000080\">INFO    </span> <span style=\"font-weight: bold\">[</span><span style=\"color: #008080; text-decoration-color: #008080; font-weight: bold\">17</span>/<span style=\"color: #008080; text-decoration-color: #008080; font-weight: bold\">96</span><span style=\"font-weight: bold\">]</span> Retrieving list of players for Fulham in Oct <span style=\"color: #008080; text-decoration-color: #008080; font-weight: bold\">8</span>, <span style=\"color: #008080; text-decoration-color: #008080; font-weight: bold\">2024</span> edition     <a href=\"file:///opt/anaconda3/lib/python3.11/site-packages/soccerdata/sofifa.py\" target=\"_blank\"><span style=\"color: #7f7f7f; text-decoration-color: #7f7f7f\">sofifa.py</span></a><span style=\"color: #7f7f7f; text-decoration-color: #7f7f7f\">:</span><a href=\"file:///opt/anaconda3/lib/python3.11/site-packages/soccerdata/sofifa.py#264\" target=\"_blank\"><span style=\"color: #7f7f7f; text-decoration-color: #7f7f7f\">264</span></a>\n",
       "</pre>\n"
      ],
      "text/plain": [
       "\u001b[2;36m                   \u001b[0m\u001b[2;36m \u001b[0m\u001b[34mINFO    \u001b[0m \u001b[1m[\u001b[0m\u001b[1;36m17\u001b[0m/\u001b[1;36m96\u001b[0m\u001b[1m]\u001b[0m Retrieving list of players for Fulham in Oct \u001b[1;36m8\u001b[0m, \u001b[1;36m2024\u001b[0m edition     \u001b]8;id=971704;file:///opt/anaconda3/lib/python3.11/site-packages/soccerdata/sofifa.py\u001b\\\u001b[2msofifa.py\u001b[0m\u001b]8;;\u001b\\\u001b[2m:\u001b[0m\u001b]8;id=21971;file:///opt/anaconda3/lib/python3.11/site-packages/soccerdata/sofifa.py#264\u001b\\\u001b[2m264\u001b[0m\u001b]8;;\u001b\\\n"
      ]
     },
     "metadata": {},
     "output_type": "display_data"
    },
    {
     "data": {
      "text/html": [
       "<pre style=\"white-space:pre;overflow-x:auto;line-height:normal;font-family:Menlo,'DejaVu Sans Mono',consolas,'Courier New',monospace\"><span style=\"color: #7fbfbf; text-decoration-color: #7fbfbf\">                    </span><span style=\"color: #000080; text-decoration-color: #000080\">INFO    </span> <span style=\"font-weight: bold\">[</span><span style=\"color: #008080; text-decoration-color: #008080; font-weight: bold\">18</span>/<span style=\"color: #008080; text-decoration-color: #008080; font-weight: bold\">96</span><span style=\"font-weight: bold\">]</span> Retrieving list of players for AFC Bournemouth in Oct <span style=\"color: #008080; text-decoration-color: #008080; font-weight: bold\">8</span>, <span style=\"color: #008080; text-decoration-color: #008080; font-weight: bold\">2024</span>    <a href=\"file:///opt/anaconda3/lib/python3.11/site-packages/soccerdata/sofifa.py\" target=\"_blank\"><span style=\"color: #7f7f7f; text-decoration-color: #7f7f7f\">sofifa.py</span></a><span style=\"color: #7f7f7f; text-decoration-color: #7f7f7f\">:</span><a href=\"file:///opt/anaconda3/lib/python3.11/site-packages/soccerdata/sofifa.py#264\" target=\"_blank\"><span style=\"color: #7f7f7f; text-decoration-color: #7f7f7f\">264</span></a>\n",
       "<span style=\"color: #7fbfbf; text-decoration-color: #7fbfbf\">                    </span>         edition                                                                  <span style=\"color: #7f7f7f; text-decoration-color: #7f7f7f\">             </span>\n",
       "</pre>\n"
      ],
      "text/plain": [
       "\u001b[2;36m                   \u001b[0m\u001b[2;36m \u001b[0m\u001b[34mINFO    \u001b[0m \u001b[1m[\u001b[0m\u001b[1;36m18\u001b[0m/\u001b[1;36m96\u001b[0m\u001b[1m]\u001b[0m Retrieving list of players for AFC Bournemouth in Oct \u001b[1;36m8\u001b[0m, \u001b[1;36m2024\u001b[0m    \u001b]8;id=571146;file:///opt/anaconda3/lib/python3.11/site-packages/soccerdata/sofifa.py\u001b\\\u001b[2msofifa.py\u001b[0m\u001b]8;;\u001b\\\u001b[2m:\u001b[0m\u001b]8;id=311600;file:///opt/anaconda3/lib/python3.11/site-packages/soccerdata/sofifa.py#264\u001b\\\u001b[2m264\u001b[0m\u001b]8;;\u001b\\\n",
       "\u001b[2;36m                    \u001b[0m         edition                                                                  \u001b[2m             \u001b[0m\n"
      ]
     },
     "metadata": {},
     "output_type": "display_data"
    },
    {
     "data": {
      "text/html": [
       "<pre style=\"white-space:pre;overflow-x:auto;line-height:normal;font-family:Menlo,'DejaVu Sans Mono',consolas,'Courier New',monospace\"><span style=\"color: #7fbfbf; text-decoration-color: #7fbfbf\">                    </span><span style=\"color: #000080; text-decoration-color: #000080\">INFO    </span> <span style=\"font-weight: bold\">[</span><span style=\"color: #008080; text-decoration-color: #008080; font-weight: bold\">19</span>/<span style=\"color: #008080; text-decoration-color: #008080; font-weight: bold\">96</span><span style=\"font-weight: bold\">]</span> Retrieving list of players for Southampton in Oct <span style=\"color: #008080; text-decoration-color: #008080; font-weight: bold\">8</span>, <span style=\"color: #008080; text-decoration-color: #008080; font-weight: bold\">2024</span>        <a href=\"file:///opt/anaconda3/lib/python3.11/site-packages/soccerdata/sofifa.py\" target=\"_blank\"><span style=\"color: #7f7f7f; text-decoration-color: #7f7f7f\">sofifa.py</span></a><span style=\"color: #7f7f7f; text-decoration-color: #7f7f7f\">:</span><a href=\"file:///opt/anaconda3/lib/python3.11/site-packages/soccerdata/sofifa.py#264\" target=\"_blank\"><span style=\"color: #7f7f7f; text-decoration-color: #7f7f7f\">264</span></a>\n",
       "<span style=\"color: #7fbfbf; text-decoration-color: #7fbfbf\">                    </span>         edition                                                                  <span style=\"color: #7f7f7f; text-decoration-color: #7f7f7f\">             </span>\n",
       "</pre>\n"
      ],
      "text/plain": [
       "\u001b[2;36m                   \u001b[0m\u001b[2;36m \u001b[0m\u001b[34mINFO    \u001b[0m \u001b[1m[\u001b[0m\u001b[1;36m19\u001b[0m/\u001b[1;36m96\u001b[0m\u001b[1m]\u001b[0m Retrieving list of players for Southampton in Oct \u001b[1;36m8\u001b[0m, \u001b[1;36m2024\u001b[0m        \u001b]8;id=607490;file:///opt/anaconda3/lib/python3.11/site-packages/soccerdata/sofifa.py\u001b\\\u001b[2msofifa.py\u001b[0m\u001b]8;;\u001b\\\u001b[2m:\u001b[0m\u001b]8;id=186625;file:///opt/anaconda3/lib/python3.11/site-packages/soccerdata/sofifa.py#264\u001b\\\u001b[2m264\u001b[0m\u001b]8;;\u001b\\\n",
       "\u001b[2;36m                    \u001b[0m         edition                                                                  \u001b[2m             \u001b[0m\n"
      ]
     },
     "metadata": {},
     "output_type": "display_data"
    },
    {
     "data": {
      "text/html": [
       "<pre style=\"white-space:pre;overflow-x:auto;line-height:normal;font-family:Menlo,'DejaVu Sans Mono',consolas,'Courier New',monospace\"><span style=\"color: #7fbfbf; text-decoration-color: #7fbfbf\">                    </span><span style=\"color: #000080; text-decoration-color: #000080\">INFO    </span> <span style=\"font-weight: bold\">[</span><span style=\"color: #008080; text-decoration-color: #008080; font-weight: bold\">20</span>/<span style=\"color: #008080; text-decoration-color: #008080; font-weight: bold\">96</span><span style=\"font-weight: bold\">]</span> Retrieving list of players for Ipswich Town in Oct <span style=\"color: #008080; text-decoration-color: #008080; font-weight: bold\">8</span>, <span style=\"color: #008080; text-decoration-color: #008080; font-weight: bold\">2024</span>       <a href=\"file:///opt/anaconda3/lib/python3.11/site-packages/soccerdata/sofifa.py\" target=\"_blank\"><span style=\"color: #7f7f7f; text-decoration-color: #7f7f7f\">sofifa.py</span></a><span style=\"color: #7f7f7f; text-decoration-color: #7f7f7f\">:</span><a href=\"file:///opt/anaconda3/lib/python3.11/site-packages/soccerdata/sofifa.py#264\" target=\"_blank\"><span style=\"color: #7f7f7f; text-decoration-color: #7f7f7f\">264</span></a>\n",
       "<span style=\"color: #7fbfbf; text-decoration-color: #7fbfbf\">                    </span>         edition                                                                  <span style=\"color: #7f7f7f; text-decoration-color: #7f7f7f\">             </span>\n",
       "</pre>\n"
      ],
      "text/plain": [
       "\u001b[2;36m                   \u001b[0m\u001b[2;36m \u001b[0m\u001b[34mINFO    \u001b[0m \u001b[1m[\u001b[0m\u001b[1;36m20\u001b[0m/\u001b[1;36m96\u001b[0m\u001b[1m]\u001b[0m Retrieving list of players for Ipswich Town in Oct \u001b[1;36m8\u001b[0m, \u001b[1;36m2024\u001b[0m       \u001b]8;id=300350;file:///opt/anaconda3/lib/python3.11/site-packages/soccerdata/sofifa.py\u001b\\\u001b[2msofifa.py\u001b[0m\u001b]8;;\u001b\\\u001b[2m:\u001b[0m\u001b]8;id=217684;file:///opt/anaconda3/lib/python3.11/site-packages/soccerdata/sofifa.py#264\u001b\\\u001b[2m264\u001b[0m\u001b]8;;\u001b\\\n",
       "\u001b[2;36m                    \u001b[0m         edition                                                                  \u001b[2m             \u001b[0m\n"
      ]
     },
     "metadata": {},
     "output_type": "display_data"
    },
    {
     "data": {
      "text/html": [
       "<pre style=\"white-space:pre;overflow-x:auto;line-height:normal;font-family:Menlo,'DejaVu Sans Mono',consolas,'Courier New',monospace\"><span style=\"color: #7fbfbf; text-decoration-color: #7fbfbf\">                    </span><span style=\"color: #000080; text-decoration-color: #000080\">INFO    </span> <span style=\"font-weight: bold\">[</span><span style=\"color: #008080; text-decoration-color: #008080; font-weight: bold\">21</span>/<span style=\"color: #008080; text-decoration-color: #008080; font-weight: bold\">96</span><span style=\"font-weight: bold\">]</span> Retrieving list of players for Real Madrid in Oct <span style=\"color: #008080; text-decoration-color: #008080; font-weight: bold\">8</span>, <span style=\"color: #008080; text-decoration-color: #008080; font-weight: bold\">2024</span>        <a href=\"file:///opt/anaconda3/lib/python3.11/site-packages/soccerdata/sofifa.py\" target=\"_blank\"><span style=\"color: #7f7f7f; text-decoration-color: #7f7f7f\">sofifa.py</span></a><span style=\"color: #7f7f7f; text-decoration-color: #7f7f7f\">:</span><a href=\"file:///opt/anaconda3/lib/python3.11/site-packages/soccerdata/sofifa.py#264\" target=\"_blank\"><span style=\"color: #7f7f7f; text-decoration-color: #7f7f7f\">264</span></a>\n",
       "<span style=\"color: #7fbfbf; text-decoration-color: #7fbfbf\">                    </span>         edition                                                                  <span style=\"color: #7f7f7f; text-decoration-color: #7f7f7f\">             </span>\n",
       "</pre>\n"
      ],
      "text/plain": [
       "\u001b[2;36m                   \u001b[0m\u001b[2;36m \u001b[0m\u001b[34mINFO    \u001b[0m \u001b[1m[\u001b[0m\u001b[1;36m21\u001b[0m/\u001b[1;36m96\u001b[0m\u001b[1m]\u001b[0m Retrieving list of players for Real Madrid in Oct \u001b[1;36m8\u001b[0m, \u001b[1;36m2024\u001b[0m        \u001b]8;id=584682;file:///opt/anaconda3/lib/python3.11/site-packages/soccerdata/sofifa.py\u001b\\\u001b[2msofifa.py\u001b[0m\u001b]8;;\u001b\\\u001b[2m:\u001b[0m\u001b]8;id=897960;file:///opt/anaconda3/lib/python3.11/site-packages/soccerdata/sofifa.py#264\u001b\\\u001b[2m264\u001b[0m\u001b]8;;\u001b\\\n",
       "\u001b[2;36m                    \u001b[0m         edition                                                                  \u001b[2m             \u001b[0m\n"
      ]
     },
     "metadata": {},
     "output_type": "display_data"
    },
    {
     "data": {
      "text/html": [
       "<pre style=\"white-space:pre;overflow-x:auto;line-height:normal;font-family:Menlo,'DejaVu Sans Mono',consolas,'Courier New',monospace\"><span style=\"color: #7fbfbf; text-decoration-color: #7fbfbf\">                    </span><span style=\"color: #000080; text-decoration-color: #000080\">INFO    </span> <span style=\"font-weight: bold\">[</span><span style=\"color: #008080; text-decoration-color: #008080; font-weight: bold\">22</span>/<span style=\"color: #008080; text-decoration-color: #008080; font-weight: bold\">96</span><span style=\"font-weight: bold\">]</span> Retrieving list of players for FC Barcelona in Oct <span style=\"color: #008080; text-decoration-color: #008080; font-weight: bold\">8</span>, <span style=\"color: #008080; text-decoration-color: #008080; font-weight: bold\">2024</span>       <a href=\"file:///opt/anaconda3/lib/python3.11/site-packages/soccerdata/sofifa.py\" target=\"_blank\"><span style=\"color: #7f7f7f; text-decoration-color: #7f7f7f\">sofifa.py</span></a><span style=\"color: #7f7f7f; text-decoration-color: #7f7f7f\">:</span><a href=\"file:///opt/anaconda3/lib/python3.11/site-packages/soccerdata/sofifa.py#264\" target=\"_blank\"><span style=\"color: #7f7f7f; text-decoration-color: #7f7f7f\">264</span></a>\n",
       "<span style=\"color: #7fbfbf; text-decoration-color: #7fbfbf\">                    </span>         edition                                                                  <span style=\"color: #7f7f7f; text-decoration-color: #7f7f7f\">             </span>\n",
       "</pre>\n"
      ],
      "text/plain": [
       "\u001b[2;36m                   \u001b[0m\u001b[2;36m \u001b[0m\u001b[34mINFO    \u001b[0m \u001b[1m[\u001b[0m\u001b[1;36m22\u001b[0m/\u001b[1;36m96\u001b[0m\u001b[1m]\u001b[0m Retrieving list of players for FC Barcelona in Oct \u001b[1;36m8\u001b[0m, \u001b[1;36m2024\u001b[0m       \u001b]8;id=461128;file:///opt/anaconda3/lib/python3.11/site-packages/soccerdata/sofifa.py\u001b\\\u001b[2msofifa.py\u001b[0m\u001b]8;;\u001b\\\u001b[2m:\u001b[0m\u001b]8;id=981647;file:///opt/anaconda3/lib/python3.11/site-packages/soccerdata/sofifa.py#264\u001b\\\u001b[2m264\u001b[0m\u001b]8;;\u001b\\\n",
       "\u001b[2;36m                    \u001b[0m         edition                                                                  \u001b[2m             \u001b[0m\n"
      ]
     },
     "metadata": {},
     "output_type": "display_data"
    },
    {
     "data": {
      "text/html": [
       "<pre style=\"white-space:pre;overflow-x:auto;line-height:normal;font-family:Menlo,'DejaVu Sans Mono',consolas,'Courier New',monospace\"><span style=\"color: #7fbfbf; text-decoration-color: #7fbfbf\">                    </span><span style=\"color: #000080; text-decoration-color: #000080\">INFO    </span> <span style=\"font-weight: bold\">[</span><span style=\"color: #008080; text-decoration-color: #008080; font-weight: bold\">23</span>/<span style=\"color: #008080; text-decoration-color: #008080; font-weight: bold\">96</span><span style=\"font-weight: bold\">]</span> Retrieving list of players for Atlético Madrid in Oct <span style=\"color: #008080; text-decoration-color: #008080; font-weight: bold\">8</span>, <span style=\"color: #008080; text-decoration-color: #008080; font-weight: bold\">2024</span>    <a href=\"file:///opt/anaconda3/lib/python3.11/site-packages/soccerdata/sofifa.py\" target=\"_blank\"><span style=\"color: #7f7f7f; text-decoration-color: #7f7f7f\">sofifa.py</span></a><span style=\"color: #7f7f7f; text-decoration-color: #7f7f7f\">:</span><a href=\"file:///opt/anaconda3/lib/python3.11/site-packages/soccerdata/sofifa.py#264\" target=\"_blank\"><span style=\"color: #7f7f7f; text-decoration-color: #7f7f7f\">264</span></a>\n",
       "<span style=\"color: #7fbfbf; text-decoration-color: #7fbfbf\">                    </span>         edition                                                                  <span style=\"color: #7f7f7f; text-decoration-color: #7f7f7f\">             </span>\n",
       "</pre>\n"
      ],
      "text/plain": [
       "\u001b[2;36m                   \u001b[0m\u001b[2;36m \u001b[0m\u001b[34mINFO    \u001b[0m \u001b[1m[\u001b[0m\u001b[1;36m23\u001b[0m/\u001b[1;36m96\u001b[0m\u001b[1m]\u001b[0m Retrieving list of players for Atlético Madrid in Oct \u001b[1;36m8\u001b[0m, \u001b[1;36m2024\u001b[0m    \u001b]8;id=950895;file:///opt/anaconda3/lib/python3.11/site-packages/soccerdata/sofifa.py\u001b\\\u001b[2msofifa.py\u001b[0m\u001b]8;;\u001b\\\u001b[2m:\u001b[0m\u001b]8;id=745990;file:///opt/anaconda3/lib/python3.11/site-packages/soccerdata/sofifa.py#264\u001b\\\u001b[2m264\u001b[0m\u001b]8;;\u001b\\\n",
       "\u001b[2;36m                    \u001b[0m         edition                                                                  \u001b[2m             \u001b[0m\n"
      ]
     },
     "metadata": {},
     "output_type": "display_data"
    },
    {
     "data": {
      "text/html": [
       "<pre style=\"white-space:pre;overflow-x:auto;line-height:normal;font-family:Menlo,'DejaVu Sans Mono',consolas,'Courier New',monospace\"><span style=\"color: #7fbfbf; text-decoration-color: #7fbfbf\">                    </span><span style=\"color: #000080; text-decoration-color: #000080\">INFO    </span> <span style=\"font-weight: bold\">[</span><span style=\"color: #008080; text-decoration-color: #008080; font-weight: bold\">24</span>/<span style=\"color: #008080; text-decoration-color: #008080; font-weight: bold\">96</span><span style=\"font-weight: bold\">]</span> Retrieving list of players for Athletic Club in Oct <span style=\"color: #008080; text-decoration-color: #008080; font-weight: bold\">8</span>, <span style=\"color: #008080; text-decoration-color: #008080; font-weight: bold\">2024</span>      <a href=\"file:///opt/anaconda3/lib/python3.11/site-packages/soccerdata/sofifa.py\" target=\"_blank\"><span style=\"color: #7f7f7f; text-decoration-color: #7f7f7f\">sofifa.py</span></a><span style=\"color: #7f7f7f; text-decoration-color: #7f7f7f\">:</span><a href=\"file:///opt/anaconda3/lib/python3.11/site-packages/soccerdata/sofifa.py#264\" target=\"_blank\"><span style=\"color: #7f7f7f; text-decoration-color: #7f7f7f\">264</span></a>\n",
       "<span style=\"color: #7fbfbf; text-decoration-color: #7fbfbf\">                    </span>         edition                                                                  <span style=\"color: #7f7f7f; text-decoration-color: #7f7f7f\">             </span>\n",
       "</pre>\n"
      ],
      "text/plain": [
       "\u001b[2;36m                   \u001b[0m\u001b[2;36m \u001b[0m\u001b[34mINFO    \u001b[0m \u001b[1m[\u001b[0m\u001b[1;36m24\u001b[0m/\u001b[1;36m96\u001b[0m\u001b[1m]\u001b[0m Retrieving list of players for Athletic Club in Oct \u001b[1;36m8\u001b[0m, \u001b[1;36m2024\u001b[0m      \u001b]8;id=637848;file:///opt/anaconda3/lib/python3.11/site-packages/soccerdata/sofifa.py\u001b\\\u001b[2msofifa.py\u001b[0m\u001b]8;;\u001b\\\u001b[2m:\u001b[0m\u001b]8;id=234233;file:///opt/anaconda3/lib/python3.11/site-packages/soccerdata/sofifa.py#264\u001b\\\u001b[2m264\u001b[0m\u001b]8;;\u001b\\\n",
       "\u001b[2;36m                    \u001b[0m         edition                                                                  \u001b[2m             \u001b[0m\n"
      ]
     },
     "metadata": {},
     "output_type": "display_data"
    },
    {
     "data": {
      "text/html": [
       "<pre style=\"white-space:pre;overflow-x:auto;line-height:normal;font-family:Menlo,'DejaVu Sans Mono',consolas,'Courier New',monospace\"><span style=\"color: #7fbfbf; text-decoration-color: #7fbfbf\">                    </span><span style=\"color: #000080; text-decoration-color: #000080\">INFO    </span> <span style=\"font-weight: bold\">[</span><span style=\"color: #008080; text-decoration-color: #008080; font-weight: bold\">25</span>/<span style=\"color: #008080; text-decoration-color: #008080; font-weight: bold\">96</span><span style=\"font-weight: bold\">]</span> Retrieving list of players for Real Sociedad in Oct <span style=\"color: #008080; text-decoration-color: #008080; font-weight: bold\">8</span>, <span style=\"color: #008080; text-decoration-color: #008080; font-weight: bold\">2024</span>      <a href=\"file:///opt/anaconda3/lib/python3.11/site-packages/soccerdata/sofifa.py\" target=\"_blank\"><span style=\"color: #7f7f7f; text-decoration-color: #7f7f7f\">sofifa.py</span></a><span style=\"color: #7f7f7f; text-decoration-color: #7f7f7f\">:</span><a href=\"file:///opt/anaconda3/lib/python3.11/site-packages/soccerdata/sofifa.py#264\" target=\"_blank\"><span style=\"color: #7f7f7f; text-decoration-color: #7f7f7f\">264</span></a>\n",
       "<span style=\"color: #7fbfbf; text-decoration-color: #7fbfbf\">                    </span>         edition                                                                  <span style=\"color: #7f7f7f; text-decoration-color: #7f7f7f\">             </span>\n",
       "</pre>\n"
      ],
      "text/plain": [
       "\u001b[2;36m                   \u001b[0m\u001b[2;36m \u001b[0m\u001b[34mINFO    \u001b[0m \u001b[1m[\u001b[0m\u001b[1;36m25\u001b[0m/\u001b[1;36m96\u001b[0m\u001b[1m]\u001b[0m Retrieving list of players for Real Sociedad in Oct \u001b[1;36m8\u001b[0m, \u001b[1;36m2024\u001b[0m      \u001b]8;id=367085;file:///opt/anaconda3/lib/python3.11/site-packages/soccerdata/sofifa.py\u001b\\\u001b[2msofifa.py\u001b[0m\u001b]8;;\u001b\\\u001b[2m:\u001b[0m\u001b]8;id=171004;file:///opt/anaconda3/lib/python3.11/site-packages/soccerdata/sofifa.py#264\u001b\\\u001b[2m264\u001b[0m\u001b]8;;\u001b\\\n",
       "\u001b[2;36m                    \u001b[0m         edition                                                                  \u001b[2m             \u001b[0m\n"
      ]
     },
     "metadata": {},
     "output_type": "display_data"
    },
    {
     "data": {
      "text/html": [
       "<pre style=\"white-space:pre;overflow-x:auto;line-height:normal;font-family:Menlo,'DejaVu Sans Mono',consolas,'Courier New',monospace\"><span style=\"color: #7fbfbf; text-decoration-color: #7fbfbf\">[10/15/24 10:21:47] </span><span style=\"color: #000080; text-decoration-color: #000080\">INFO    </span> <span style=\"font-weight: bold\">[</span><span style=\"color: #008080; text-decoration-color: #008080; font-weight: bold\">26</span>/<span style=\"color: #008080; text-decoration-color: #008080; font-weight: bold\">96</span><span style=\"font-weight: bold\">]</span> Retrieving list of players for Girona in Oct <span style=\"color: #008080; text-decoration-color: #008080; font-weight: bold\">8</span>, <span style=\"color: #008080; text-decoration-color: #008080; font-weight: bold\">2024</span> edition     <a href=\"file:///opt/anaconda3/lib/python3.11/site-packages/soccerdata/sofifa.py\" target=\"_blank\"><span style=\"color: #7f7f7f; text-decoration-color: #7f7f7f\">sofifa.py</span></a><span style=\"color: #7f7f7f; text-decoration-color: #7f7f7f\">:</span><a href=\"file:///opt/anaconda3/lib/python3.11/site-packages/soccerdata/sofifa.py#264\" target=\"_blank\"><span style=\"color: #7f7f7f; text-decoration-color: #7f7f7f\">264</span></a>\n",
       "</pre>\n"
      ],
      "text/plain": [
       "\u001b[2;36m[10/15/24 10:21:47]\u001b[0m\u001b[2;36m \u001b[0m\u001b[34mINFO    \u001b[0m \u001b[1m[\u001b[0m\u001b[1;36m26\u001b[0m/\u001b[1;36m96\u001b[0m\u001b[1m]\u001b[0m Retrieving list of players for Girona in Oct \u001b[1;36m8\u001b[0m, \u001b[1;36m2024\u001b[0m edition     \u001b]8;id=73728;file:///opt/anaconda3/lib/python3.11/site-packages/soccerdata/sofifa.py\u001b\\\u001b[2msofifa.py\u001b[0m\u001b]8;;\u001b\\\u001b[2m:\u001b[0m\u001b]8;id=374991;file:///opt/anaconda3/lib/python3.11/site-packages/soccerdata/sofifa.py#264\u001b\\\u001b[2m264\u001b[0m\u001b]8;;\u001b\\\n"
      ]
     },
     "metadata": {},
     "output_type": "display_data"
    },
    {
     "data": {
      "text/html": [
       "<pre style=\"white-space:pre;overflow-x:auto;line-height:normal;font-family:Menlo,'DejaVu Sans Mono',consolas,'Courier New',monospace\"><span style=\"color: #7fbfbf; text-decoration-color: #7fbfbf\">                    </span><span style=\"color: #000080; text-decoration-color: #000080\">INFO    </span> <span style=\"font-weight: bold\">[</span><span style=\"color: #008080; text-decoration-color: #008080; font-weight: bold\">27</span>/<span style=\"color: #008080; text-decoration-color: #008080; font-weight: bold\">96</span><span style=\"font-weight: bold\">]</span> Retrieving list of players for Real Betis in Oct <span style=\"color: #008080; text-decoration-color: #008080; font-weight: bold\">8</span>, <span style=\"color: #008080; text-decoration-color: #008080; font-weight: bold\">2024</span> edition <a href=\"file:///opt/anaconda3/lib/python3.11/site-packages/soccerdata/sofifa.py\" target=\"_blank\"><span style=\"color: #7f7f7f; text-decoration-color: #7f7f7f\">sofifa.py</span></a><span style=\"color: #7f7f7f; text-decoration-color: #7f7f7f\">:</span><a href=\"file:///opt/anaconda3/lib/python3.11/site-packages/soccerdata/sofifa.py#264\" target=\"_blank\"><span style=\"color: #7f7f7f; text-decoration-color: #7f7f7f\">264</span></a>\n",
       "</pre>\n"
      ],
      "text/plain": [
       "\u001b[2;36m                   \u001b[0m\u001b[2;36m \u001b[0m\u001b[34mINFO    \u001b[0m \u001b[1m[\u001b[0m\u001b[1;36m27\u001b[0m/\u001b[1;36m96\u001b[0m\u001b[1m]\u001b[0m Retrieving list of players for Real Betis in Oct \u001b[1;36m8\u001b[0m, \u001b[1;36m2024\u001b[0m edition \u001b]8;id=805326;file:///opt/anaconda3/lib/python3.11/site-packages/soccerdata/sofifa.py\u001b\\\u001b[2msofifa.py\u001b[0m\u001b]8;;\u001b\\\u001b[2m:\u001b[0m\u001b]8;id=740745;file:///opt/anaconda3/lib/python3.11/site-packages/soccerdata/sofifa.py#264\u001b\\\u001b[2m264\u001b[0m\u001b]8;;\u001b\\\n"
      ]
     },
     "metadata": {},
     "output_type": "display_data"
    },
    {
     "data": {
      "text/html": [
       "<pre style=\"white-space:pre;overflow-x:auto;line-height:normal;font-family:Menlo,'DejaVu Sans Mono',consolas,'Courier New',monospace\"><span style=\"color: #7fbfbf; text-decoration-color: #7fbfbf\">                    </span><span style=\"color: #000080; text-decoration-color: #000080\">INFO    </span> <span style=\"font-weight: bold\">[</span><span style=\"color: #008080; text-decoration-color: #008080; font-weight: bold\">28</span>/<span style=\"color: #008080; text-decoration-color: #008080; font-weight: bold\">96</span><span style=\"font-weight: bold\">]</span> Retrieving list of players for Valencia in Oct <span style=\"color: #008080; text-decoration-color: #008080; font-weight: bold\">8</span>, <span style=\"color: #008080; text-decoration-color: #008080; font-weight: bold\">2024</span> edition   <a href=\"file:///opt/anaconda3/lib/python3.11/site-packages/soccerdata/sofifa.py\" target=\"_blank\"><span style=\"color: #7f7f7f; text-decoration-color: #7f7f7f\">sofifa.py</span></a><span style=\"color: #7f7f7f; text-decoration-color: #7f7f7f\">:</span><a href=\"file:///opt/anaconda3/lib/python3.11/site-packages/soccerdata/sofifa.py#264\" target=\"_blank\"><span style=\"color: #7f7f7f; text-decoration-color: #7f7f7f\">264</span></a>\n",
       "</pre>\n"
      ],
      "text/plain": [
       "\u001b[2;36m                   \u001b[0m\u001b[2;36m \u001b[0m\u001b[34mINFO    \u001b[0m \u001b[1m[\u001b[0m\u001b[1;36m28\u001b[0m/\u001b[1;36m96\u001b[0m\u001b[1m]\u001b[0m Retrieving list of players for Valencia in Oct \u001b[1;36m8\u001b[0m, \u001b[1;36m2024\u001b[0m edition   \u001b]8;id=208510;file:///opt/anaconda3/lib/python3.11/site-packages/soccerdata/sofifa.py\u001b\\\u001b[2msofifa.py\u001b[0m\u001b]8;;\u001b\\\u001b[2m:\u001b[0m\u001b]8;id=293909;file:///opt/anaconda3/lib/python3.11/site-packages/soccerdata/sofifa.py#264\u001b\\\u001b[2m264\u001b[0m\u001b]8;;\u001b\\\n"
      ]
     },
     "metadata": {},
     "output_type": "display_data"
    },
    {
     "data": {
      "text/html": [
       "<pre style=\"white-space:pre;overflow-x:auto;line-height:normal;font-family:Menlo,'DejaVu Sans Mono',consolas,'Courier New',monospace\"><span style=\"color: #7fbfbf; text-decoration-color: #7fbfbf\">                    </span><span style=\"color: #000080; text-decoration-color: #000080\">INFO    </span> <span style=\"font-weight: bold\">[</span><span style=\"color: #008080; text-decoration-color: #008080; font-weight: bold\">29</span>/<span style=\"color: #008080; text-decoration-color: #008080; font-weight: bold\">96</span><span style=\"font-weight: bold\">]</span> Retrieving list of players for Sevilla in Oct <span style=\"color: #008080; text-decoration-color: #008080; font-weight: bold\">8</span>, <span style=\"color: #008080; text-decoration-color: #008080; font-weight: bold\">2024</span> edition    <a href=\"file:///opt/anaconda3/lib/python3.11/site-packages/soccerdata/sofifa.py\" target=\"_blank\"><span style=\"color: #7f7f7f; text-decoration-color: #7f7f7f\">sofifa.py</span></a><span style=\"color: #7f7f7f; text-decoration-color: #7f7f7f\">:</span><a href=\"file:///opt/anaconda3/lib/python3.11/site-packages/soccerdata/sofifa.py#264\" target=\"_blank\"><span style=\"color: #7f7f7f; text-decoration-color: #7f7f7f\">264</span></a>\n",
       "</pre>\n"
      ],
      "text/plain": [
       "\u001b[2;36m                   \u001b[0m\u001b[2;36m \u001b[0m\u001b[34mINFO    \u001b[0m \u001b[1m[\u001b[0m\u001b[1;36m29\u001b[0m/\u001b[1;36m96\u001b[0m\u001b[1m]\u001b[0m Retrieving list of players for Sevilla in Oct \u001b[1;36m8\u001b[0m, \u001b[1;36m2024\u001b[0m edition    \u001b]8;id=276849;file:///opt/anaconda3/lib/python3.11/site-packages/soccerdata/sofifa.py\u001b\\\u001b[2msofifa.py\u001b[0m\u001b]8;;\u001b\\\u001b[2m:\u001b[0m\u001b]8;id=54135;file:///opt/anaconda3/lib/python3.11/site-packages/soccerdata/sofifa.py#264\u001b\\\u001b[2m264\u001b[0m\u001b]8;;\u001b\\\n"
      ]
     },
     "metadata": {},
     "output_type": "display_data"
    },
    {
     "data": {
      "text/html": [
       "<pre style=\"white-space:pre;overflow-x:auto;line-height:normal;font-family:Menlo,'DejaVu Sans Mono',consolas,'Courier New',monospace\"><span style=\"color: #7fbfbf; text-decoration-color: #7fbfbf\">                    </span><span style=\"color: #000080; text-decoration-color: #000080\">INFO    </span> <span style=\"font-weight: bold\">[</span><span style=\"color: #008080; text-decoration-color: #008080; font-weight: bold\">30</span>/<span style=\"color: #008080; text-decoration-color: #008080; font-weight: bold\">96</span><span style=\"font-weight: bold\">]</span> Retrieving list of players for Villarreal in Oct <span style=\"color: #008080; text-decoration-color: #008080; font-weight: bold\">8</span>, <span style=\"color: #008080; text-decoration-color: #008080; font-weight: bold\">2024</span> edition <a href=\"file:///opt/anaconda3/lib/python3.11/site-packages/soccerdata/sofifa.py\" target=\"_blank\"><span style=\"color: #7f7f7f; text-decoration-color: #7f7f7f\">sofifa.py</span></a><span style=\"color: #7f7f7f; text-decoration-color: #7f7f7f\">:</span><a href=\"file:///opt/anaconda3/lib/python3.11/site-packages/soccerdata/sofifa.py#264\" target=\"_blank\"><span style=\"color: #7f7f7f; text-decoration-color: #7f7f7f\">264</span></a>\n",
       "</pre>\n"
      ],
      "text/plain": [
       "\u001b[2;36m                   \u001b[0m\u001b[2;36m \u001b[0m\u001b[34mINFO    \u001b[0m \u001b[1m[\u001b[0m\u001b[1;36m30\u001b[0m/\u001b[1;36m96\u001b[0m\u001b[1m]\u001b[0m Retrieving list of players for Villarreal in Oct \u001b[1;36m8\u001b[0m, \u001b[1;36m2024\u001b[0m edition \u001b]8;id=624106;file:///opt/anaconda3/lib/python3.11/site-packages/soccerdata/sofifa.py\u001b\\\u001b[2msofifa.py\u001b[0m\u001b]8;;\u001b\\\u001b[2m:\u001b[0m\u001b]8;id=154128;file:///opt/anaconda3/lib/python3.11/site-packages/soccerdata/sofifa.py#264\u001b\\\u001b[2m264\u001b[0m\u001b]8;;\u001b\\\n"
      ]
     },
     "metadata": {},
     "output_type": "display_data"
    },
    {
     "data": {
      "text/html": [
       "<pre style=\"white-space:pre;overflow-x:auto;line-height:normal;font-family:Menlo,'DejaVu Sans Mono',consolas,'Courier New',monospace\"><span style=\"color: #7fbfbf; text-decoration-color: #7fbfbf\">                    </span><span style=\"color: #000080; text-decoration-color: #000080\">INFO    </span> <span style=\"font-weight: bold\">[</span><span style=\"color: #008080; text-decoration-color: #008080; font-weight: bold\">31</span>/<span style=\"color: #008080; text-decoration-color: #008080; font-weight: bold\">96</span><span style=\"font-weight: bold\">]</span> Retrieving list of players for Mallorca in Oct <span style=\"color: #008080; text-decoration-color: #008080; font-weight: bold\">8</span>, <span style=\"color: #008080; text-decoration-color: #008080; font-weight: bold\">2024</span> edition   <a href=\"file:///opt/anaconda3/lib/python3.11/site-packages/soccerdata/sofifa.py\" target=\"_blank\"><span style=\"color: #7f7f7f; text-decoration-color: #7f7f7f\">sofifa.py</span></a><span style=\"color: #7f7f7f; text-decoration-color: #7f7f7f\">:</span><a href=\"file:///opt/anaconda3/lib/python3.11/site-packages/soccerdata/sofifa.py#264\" target=\"_blank\"><span style=\"color: #7f7f7f; text-decoration-color: #7f7f7f\">264</span></a>\n",
       "</pre>\n"
      ],
      "text/plain": [
       "\u001b[2;36m                   \u001b[0m\u001b[2;36m \u001b[0m\u001b[34mINFO    \u001b[0m \u001b[1m[\u001b[0m\u001b[1;36m31\u001b[0m/\u001b[1;36m96\u001b[0m\u001b[1m]\u001b[0m Retrieving list of players for Mallorca in Oct \u001b[1;36m8\u001b[0m, \u001b[1;36m2024\u001b[0m edition   \u001b]8;id=191344;file:///opt/anaconda3/lib/python3.11/site-packages/soccerdata/sofifa.py\u001b\\\u001b[2msofifa.py\u001b[0m\u001b]8;;\u001b\\\u001b[2m:\u001b[0m\u001b]8;id=425593;file:///opt/anaconda3/lib/python3.11/site-packages/soccerdata/sofifa.py#264\u001b\\\u001b[2m264\u001b[0m\u001b]8;;\u001b\\\n"
      ]
     },
     "metadata": {},
     "output_type": "display_data"
    },
    {
     "data": {
      "text/html": [
       "<pre style=\"white-space:pre;overflow-x:auto;line-height:normal;font-family:Menlo,'DejaVu Sans Mono',consolas,'Courier New',monospace\"><span style=\"color: #7fbfbf; text-decoration-color: #7fbfbf\">                    </span><span style=\"color: #000080; text-decoration-color: #000080\">INFO    </span> <span style=\"font-weight: bold\">[</span><span style=\"color: #008080; text-decoration-color: #008080; font-weight: bold\">32</span>/<span style=\"color: #008080; text-decoration-color: #008080; font-weight: bold\">96</span><span style=\"font-weight: bold\">]</span> Retrieving list of players for Osasuna in Oct <span style=\"color: #008080; text-decoration-color: #008080; font-weight: bold\">8</span>, <span style=\"color: #008080; text-decoration-color: #008080; font-weight: bold\">2024</span> edition    <a href=\"file:///opt/anaconda3/lib/python3.11/site-packages/soccerdata/sofifa.py\" target=\"_blank\"><span style=\"color: #7f7f7f; text-decoration-color: #7f7f7f\">sofifa.py</span></a><span style=\"color: #7f7f7f; text-decoration-color: #7f7f7f\">:</span><a href=\"file:///opt/anaconda3/lib/python3.11/site-packages/soccerdata/sofifa.py#264\" target=\"_blank\"><span style=\"color: #7f7f7f; text-decoration-color: #7f7f7f\">264</span></a>\n",
       "</pre>\n"
      ],
      "text/plain": [
       "\u001b[2;36m                   \u001b[0m\u001b[2;36m \u001b[0m\u001b[34mINFO    \u001b[0m \u001b[1m[\u001b[0m\u001b[1;36m32\u001b[0m/\u001b[1;36m96\u001b[0m\u001b[1m]\u001b[0m Retrieving list of players for Osasuna in Oct \u001b[1;36m8\u001b[0m, \u001b[1;36m2024\u001b[0m edition    \u001b]8;id=507783;file:///opt/anaconda3/lib/python3.11/site-packages/soccerdata/sofifa.py\u001b\\\u001b[2msofifa.py\u001b[0m\u001b]8;;\u001b\\\u001b[2m:\u001b[0m\u001b]8;id=546779;file:///opt/anaconda3/lib/python3.11/site-packages/soccerdata/sofifa.py#264\u001b\\\u001b[2m264\u001b[0m\u001b]8;;\u001b\\\n"
      ]
     },
     "metadata": {},
     "output_type": "display_data"
    },
    {
     "data": {
      "text/html": [
       "<pre style=\"white-space:pre;overflow-x:auto;line-height:normal;font-family:Menlo,'DejaVu Sans Mono',consolas,'Courier New',monospace\"><span style=\"color: #7fbfbf; text-decoration-color: #7fbfbf\">                    </span><span style=\"color: #000080; text-decoration-color: #000080\">INFO    </span> <span style=\"font-weight: bold\">[</span><span style=\"color: #008080; text-decoration-color: #008080; font-weight: bold\">33</span>/<span style=\"color: #008080; text-decoration-color: #008080; font-weight: bold\">96</span><span style=\"font-weight: bold\">]</span> Retrieving list of players for Rayo Vallecano in Oct <span style=\"color: #008080; text-decoration-color: #008080; font-weight: bold\">8</span>, <span style=\"color: #008080; text-decoration-color: #008080; font-weight: bold\">2024</span>     <a href=\"file:///opt/anaconda3/lib/python3.11/site-packages/soccerdata/sofifa.py\" target=\"_blank\"><span style=\"color: #7f7f7f; text-decoration-color: #7f7f7f\">sofifa.py</span></a><span style=\"color: #7f7f7f; text-decoration-color: #7f7f7f\">:</span><a href=\"file:///opt/anaconda3/lib/python3.11/site-packages/soccerdata/sofifa.py#264\" target=\"_blank\"><span style=\"color: #7f7f7f; text-decoration-color: #7f7f7f\">264</span></a>\n",
       "<span style=\"color: #7fbfbf; text-decoration-color: #7fbfbf\">                    </span>         edition                                                                  <span style=\"color: #7f7f7f; text-decoration-color: #7f7f7f\">             </span>\n",
       "</pre>\n"
      ],
      "text/plain": [
       "\u001b[2;36m                   \u001b[0m\u001b[2;36m \u001b[0m\u001b[34mINFO    \u001b[0m \u001b[1m[\u001b[0m\u001b[1;36m33\u001b[0m/\u001b[1;36m96\u001b[0m\u001b[1m]\u001b[0m Retrieving list of players for Rayo Vallecano in Oct \u001b[1;36m8\u001b[0m, \u001b[1;36m2024\u001b[0m     \u001b]8;id=902019;file:///opt/anaconda3/lib/python3.11/site-packages/soccerdata/sofifa.py\u001b\\\u001b[2msofifa.py\u001b[0m\u001b]8;;\u001b\\\u001b[2m:\u001b[0m\u001b]8;id=445624;file:///opt/anaconda3/lib/python3.11/site-packages/soccerdata/sofifa.py#264\u001b\\\u001b[2m264\u001b[0m\u001b]8;;\u001b\\\n",
       "\u001b[2;36m                    \u001b[0m         edition                                                                  \u001b[2m             \u001b[0m\n"
      ]
     },
     "metadata": {},
     "output_type": "display_data"
    },
    {
     "data": {
      "text/html": [
       "<pre style=\"white-space:pre;overflow-x:auto;line-height:normal;font-family:Menlo,'DejaVu Sans Mono',consolas,'Courier New',monospace\"><span style=\"color: #7fbfbf; text-decoration-color: #7fbfbf\">                    </span><span style=\"color: #000080; text-decoration-color: #000080\">INFO    </span> <span style=\"font-weight: bold\">[</span><span style=\"color: #008080; text-decoration-color: #008080; font-weight: bold\">34</span>/<span style=\"color: #008080; text-decoration-color: #008080; font-weight: bold\">96</span><span style=\"font-weight: bold\">]</span> Retrieving list of players for Celta de Vigo in Oct <span style=\"color: #008080; text-decoration-color: #008080; font-weight: bold\">8</span>, <span style=\"color: #008080; text-decoration-color: #008080; font-weight: bold\">2024</span>      <a href=\"file:///opt/anaconda3/lib/python3.11/site-packages/soccerdata/sofifa.py\" target=\"_blank\"><span style=\"color: #7f7f7f; text-decoration-color: #7f7f7f\">sofifa.py</span></a><span style=\"color: #7f7f7f; text-decoration-color: #7f7f7f\">:</span><a href=\"file:///opt/anaconda3/lib/python3.11/site-packages/soccerdata/sofifa.py#264\" target=\"_blank\"><span style=\"color: #7f7f7f; text-decoration-color: #7f7f7f\">264</span></a>\n",
       "<span style=\"color: #7fbfbf; text-decoration-color: #7fbfbf\">                    </span>         edition                                                                  <span style=\"color: #7f7f7f; text-decoration-color: #7f7f7f\">             </span>\n",
       "</pre>\n"
      ],
      "text/plain": [
       "\u001b[2;36m                   \u001b[0m\u001b[2;36m \u001b[0m\u001b[34mINFO    \u001b[0m \u001b[1m[\u001b[0m\u001b[1;36m34\u001b[0m/\u001b[1;36m96\u001b[0m\u001b[1m]\u001b[0m Retrieving list of players for Celta de Vigo in Oct \u001b[1;36m8\u001b[0m, \u001b[1;36m2024\u001b[0m      \u001b]8;id=131831;file:///opt/anaconda3/lib/python3.11/site-packages/soccerdata/sofifa.py\u001b\\\u001b[2msofifa.py\u001b[0m\u001b]8;;\u001b\\\u001b[2m:\u001b[0m\u001b]8;id=603106;file:///opt/anaconda3/lib/python3.11/site-packages/soccerdata/sofifa.py#264\u001b\\\u001b[2m264\u001b[0m\u001b]8;;\u001b\\\n",
       "\u001b[2;36m                    \u001b[0m         edition                                                                  \u001b[2m             \u001b[0m\n"
      ]
     },
     "metadata": {},
     "output_type": "display_data"
    },
    {
     "data": {
      "text/html": [
       "<pre style=\"white-space:pre;overflow-x:auto;line-height:normal;font-family:Menlo,'DejaVu Sans Mono',consolas,'Courier New',monospace\"><span style=\"color: #7fbfbf; text-decoration-color: #7fbfbf\">                    </span><span style=\"color: #000080; text-decoration-color: #000080\">INFO    </span> <span style=\"font-weight: bold\">[</span><span style=\"color: #008080; text-decoration-color: #008080; font-weight: bold\">35</span>/<span style=\"color: #008080; text-decoration-color: #008080; font-weight: bold\">96</span><span style=\"font-weight: bold\">]</span> Retrieving list of players for Las Palmas in Oct <span style=\"color: #008080; text-decoration-color: #008080; font-weight: bold\">8</span>, <span style=\"color: #008080; text-decoration-color: #008080; font-weight: bold\">2024</span> edition <a href=\"file:///opt/anaconda3/lib/python3.11/site-packages/soccerdata/sofifa.py\" target=\"_blank\"><span style=\"color: #7f7f7f; text-decoration-color: #7f7f7f\">sofifa.py</span></a><span style=\"color: #7f7f7f; text-decoration-color: #7f7f7f\">:</span><a href=\"file:///opt/anaconda3/lib/python3.11/site-packages/soccerdata/sofifa.py#264\" target=\"_blank\"><span style=\"color: #7f7f7f; text-decoration-color: #7f7f7f\">264</span></a>\n",
       "</pre>\n"
      ],
      "text/plain": [
       "\u001b[2;36m                   \u001b[0m\u001b[2;36m \u001b[0m\u001b[34mINFO    \u001b[0m \u001b[1m[\u001b[0m\u001b[1;36m35\u001b[0m/\u001b[1;36m96\u001b[0m\u001b[1m]\u001b[0m Retrieving list of players for Las Palmas in Oct \u001b[1;36m8\u001b[0m, \u001b[1;36m2024\u001b[0m edition \u001b]8;id=115365;file:///opt/anaconda3/lib/python3.11/site-packages/soccerdata/sofifa.py\u001b\\\u001b[2msofifa.py\u001b[0m\u001b]8;;\u001b\\\u001b[2m:\u001b[0m\u001b]8;id=421432;file:///opt/anaconda3/lib/python3.11/site-packages/soccerdata/sofifa.py#264\u001b\\\u001b[2m264\u001b[0m\u001b]8;;\u001b\\\n"
      ]
     },
     "metadata": {},
     "output_type": "display_data"
    },
    {
     "data": {
      "text/html": [
       "<pre style=\"white-space:pre;overflow-x:auto;line-height:normal;font-family:Menlo,'DejaVu Sans Mono',consolas,'Courier New',monospace\"><span style=\"color: #7fbfbf; text-decoration-color: #7fbfbf\">                    </span><span style=\"color: #000080; text-decoration-color: #000080\">INFO    </span> <span style=\"font-weight: bold\">[</span><span style=\"color: #008080; text-decoration-color: #008080; font-weight: bold\">36</span>/<span style=\"color: #008080; text-decoration-color: #008080; font-weight: bold\">96</span><span style=\"font-weight: bold\">]</span> Retrieving list of players for Leganés in Oct <span style=\"color: #008080; text-decoration-color: #008080; font-weight: bold\">8</span>, <span style=\"color: #008080; text-decoration-color: #008080; font-weight: bold\">2024</span> edition    <a href=\"file:///opt/anaconda3/lib/python3.11/site-packages/soccerdata/sofifa.py\" target=\"_blank\"><span style=\"color: #7f7f7f; text-decoration-color: #7f7f7f\">sofifa.py</span></a><span style=\"color: #7f7f7f; text-decoration-color: #7f7f7f\">:</span><a href=\"file:///opt/anaconda3/lib/python3.11/site-packages/soccerdata/sofifa.py#264\" target=\"_blank\"><span style=\"color: #7f7f7f; text-decoration-color: #7f7f7f\">264</span></a>\n",
       "</pre>\n"
      ],
      "text/plain": [
       "\u001b[2;36m                   \u001b[0m\u001b[2;36m \u001b[0m\u001b[34mINFO    \u001b[0m \u001b[1m[\u001b[0m\u001b[1;36m36\u001b[0m/\u001b[1;36m96\u001b[0m\u001b[1m]\u001b[0m Retrieving list of players for Leganés in Oct \u001b[1;36m8\u001b[0m, \u001b[1;36m2024\u001b[0m edition    \u001b]8;id=252194;file:///opt/anaconda3/lib/python3.11/site-packages/soccerdata/sofifa.py\u001b\\\u001b[2msofifa.py\u001b[0m\u001b]8;;\u001b\\\u001b[2m:\u001b[0m\u001b]8;id=961465;file:///opt/anaconda3/lib/python3.11/site-packages/soccerdata/sofifa.py#264\u001b\\\u001b[2m264\u001b[0m\u001b]8;;\u001b\\\n"
      ]
     },
     "metadata": {},
     "output_type": "display_data"
    },
    {
     "data": {
      "text/html": [
       "<pre style=\"white-space:pre;overflow-x:auto;line-height:normal;font-family:Menlo,'DejaVu Sans Mono',consolas,'Courier New',monospace\"><span style=\"color: #7fbfbf; text-decoration-color: #7fbfbf\">                    </span><span style=\"color: #000080; text-decoration-color: #000080\">INFO    </span> <span style=\"font-weight: bold\">[</span><span style=\"color: #008080; text-decoration-color: #008080; font-weight: bold\">37</span>/<span style=\"color: #008080; text-decoration-color: #008080; font-weight: bold\">96</span><span style=\"font-weight: bold\">]</span> Retrieving list of players for Getafe in Oct <span style=\"color: #008080; text-decoration-color: #008080; font-weight: bold\">8</span>, <span style=\"color: #008080; text-decoration-color: #008080; font-weight: bold\">2024</span> edition     <a href=\"file:///opt/anaconda3/lib/python3.11/site-packages/soccerdata/sofifa.py\" target=\"_blank\"><span style=\"color: #7f7f7f; text-decoration-color: #7f7f7f\">sofifa.py</span></a><span style=\"color: #7f7f7f; text-decoration-color: #7f7f7f\">:</span><a href=\"file:///opt/anaconda3/lib/python3.11/site-packages/soccerdata/sofifa.py#264\" target=\"_blank\"><span style=\"color: #7f7f7f; text-decoration-color: #7f7f7f\">264</span></a>\n",
       "</pre>\n"
      ],
      "text/plain": [
       "\u001b[2;36m                   \u001b[0m\u001b[2;36m \u001b[0m\u001b[34mINFO    \u001b[0m \u001b[1m[\u001b[0m\u001b[1;36m37\u001b[0m/\u001b[1;36m96\u001b[0m\u001b[1m]\u001b[0m Retrieving list of players for Getafe in Oct \u001b[1;36m8\u001b[0m, \u001b[1;36m2024\u001b[0m edition     \u001b]8;id=836743;file:///opt/anaconda3/lib/python3.11/site-packages/soccerdata/sofifa.py\u001b\\\u001b[2msofifa.py\u001b[0m\u001b]8;;\u001b\\\u001b[2m:\u001b[0m\u001b]8;id=125629;file:///opt/anaconda3/lib/python3.11/site-packages/soccerdata/sofifa.py#264\u001b\\\u001b[2m264\u001b[0m\u001b]8;;\u001b\\\n"
      ]
     },
     "metadata": {},
     "output_type": "display_data"
    },
    {
     "data": {
      "text/html": [
       "<pre style=\"white-space:pre;overflow-x:auto;line-height:normal;font-family:Menlo,'DejaVu Sans Mono',consolas,'Courier New',monospace\"><span style=\"color: #7fbfbf; text-decoration-color: #7fbfbf\">                    </span><span style=\"color: #000080; text-decoration-color: #000080\">INFO    </span> <span style=\"font-weight: bold\">[</span><span style=\"color: #008080; text-decoration-color: #008080; font-weight: bold\">38</span>/<span style=\"color: #008080; text-decoration-color: #008080; font-weight: bold\">96</span><span style=\"font-weight: bold\">]</span> Retrieving list of players for Espanyol in Oct <span style=\"color: #008080; text-decoration-color: #008080; font-weight: bold\">8</span>, <span style=\"color: #008080; text-decoration-color: #008080; font-weight: bold\">2024</span> edition   <a href=\"file:///opt/anaconda3/lib/python3.11/site-packages/soccerdata/sofifa.py\" target=\"_blank\"><span style=\"color: #7f7f7f; text-decoration-color: #7f7f7f\">sofifa.py</span></a><span style=\"color: #7f7f7f; text-decoration-color: #7f7f7f\">:</span><a href=\"file:///opt/anaconda3/lib/python3.11/site-packages/soccerdata/sofifa.py#264\" target=\"_blank\"><span style=\"color: #7f7f7f; text-decoration-color: #7f7f7f\">264</span></a>\n",
       "</pre>\n"
      ],
      "text/plain": [
       "\u001b[2;36m                   \u001b[0m\u001b[2;36m \u001b[0m\u001b[34mINFO    \u001b[0m \u001b[1m[\u001b[0m\u001b[1;36m38\u001b[0m/\u001b[1;36m96\u001b[0m\u001b[1m]\u001b[0m Retrieving list of players for Espanyol in Oct \u001b[1;36m8\u001b[0m, \u001b[1;36m2024\u001b[0m edition   \u001b]8;id=804457;file:///opt/anaconda3/lib/python3.11/site-packages/soccerdata/sofifa.py\u001b\\\u001b[2msofifa.py\u001b[0m\u001b]8;;\u001b\\\u001b[2m:\u001b[0m\u001b]8;id=339467;file:///opt/anaconda3/lib/python3.11/site-packages/soccerdata/sofifa.py#264\u001b\\\u001b[2m264\u001b[0m\u001b]8;;\u001b\\\n"
      ]
     },
     "metadata": {},
     "output_type": "display_data"
    },
    {
     "data": {
      "text/html": [
       "<pre style=\"white-space:pre;overflow-x:auto;line-height:normal;font-family:Menlo,'DejaVu Sans Mono',consolas,'Courier New',monospace\"><span style=\"color: #7fbfbf; text-decoration-color: #7fbfbf\">                    </span><span style=\"color: #000080; text-decoration-color: #000080\">INFO    </span> <span style=\"font-weight: bold\">[</span><span style=\"color: #008080; text-decoration-color: #008080; font-weight: bold\">39</span>/<span style=\"color: #008080; text-decoration-color: #008080; font-weight: bold\">96</span><span style=\"font-weight: bold\">]</span> Retrieving list of players for Deportivo Alavés in Oct <span style=\"color: #008080; text-decoration-color: #008080; font-weight: bold\">8</span>, <span style=\"color: #008080; text-decoration-color: #008080; font-weight: bold\">2024</span>   <a href=\"file:///opt/anaconda3/lib/python3.11/site-packages/soccerdata/sofifa.py\" target=\"_blank\"><span style=\"color: #7f7f7f; text-decoration-color: #7f7f7f\">sofifa.py</span></a><span style=\"color: #7f7f7f; text-decoration-color: #7f7f7f\">:</span><a href=\"file:///opt/anaconda3/lib/python3.11/site-packages/soccerdata/sofifa.py#264\" target=\"_blank\"><span style=\"color: #7f7f7f; text-decoration-color: #7f7f7f\">264</span></a>\n",
       "<span style=\"color: #7fbfbf; text-decoration-color: #7fbfbf\">                    </span>         edition                                                                  <span style=\"color: #7f7f7f; text-decoration-color: #7f7f7f\">             </span>\n",
       "</pre>\n"
      ],
      "text/plain": [
       "\u001b[2;36m                   \u001b[0m\u001b[2;36m \u001b[0m\u001b[34mINFO    \u001b[0m \u001b[1m[\u001b[0m\u001b[1;36m39\u001b[0m/\u001b[1;36m96\u001b[0m\u001b[1m]\u001b[0m Retrieving list of players for Deportivo Alavés in Oct \u001b[1;36m8\u001b[0m, \u001b[1;36m2024\u001b[0m   \u001b]8;id=315670;file:///opt/anaconda3/lib/python3.11/site-packages/soccerdata/sofifa.py\u001b\\\u001b[2msofifa.py\u001b[0m\u001b]8;;\u001b\\\u001b[2m:\u001b[0m\u001b]8;id=406518;file:///opt/anaconda3/lib/python3.11/site-packages/soccerdata/sofifa.py#264\u001b\\\u001b[2m264\u001b[0m\u001b]8;;\u001b\\\n",
       "\u001b[2;36m                    \u001b[0m         edition                                                                  \u001b[2m             \u001b[0m\n"
      ]
     },
     "metadata": {},
     "output_type": "display_data"
    },
    {
     "data": {
      "text/html": [
       "<pre style=\"white-space:pre;overflow-x:auto;line-height:normal;font-family:Menlo,'DejaVu Sans Mono',consolas,'Courier New',monospace\"><span style=\"color: #7fbfbf; text-decoration-color: #7fbfbf\">                    </span><span style=\"color: #000080; text-decoration-color: #000080\">INFO    </span> <span style=\"font-weight: bold\">[</span><span style=\"color: #008080; text-decoration-color: #008080; font-weight: bold\">40</span>/<span style=\"color: #008080; text-decoration-color: #008080; font-weight: bold\">96</span><span style=\"font-weight: bold\">]</span> Retrieving list of players for Real Valladolid in Oct <span style=\"color: #008080; text-decoration-color: #008080; font-weight: bold\">8</span>, <span style=\"color: #008080; text-decoration-color: #008080; font-weight: bold\">2024</span>    <a href=\"file:///opt/anaconda3/lib/python3.11/site-packages/soccerdata/sofifa.py\" target=\"_blank\"><span style=\"color: #7f7f7f; text-decoration-color: #7f7f7f\">sofifa.py</span></a><span style=\"color: #7f7f7f; text-decoration-color: #7f7f7f\">:</span><a href=\"file:///opt/anaconda3/lib/python3.11/site-packages/soccerdata/sofifa.py#264\" target=\"_blank\"><span style=\"color: #7f7f7f; text-decoration-color: #7f7f7f\">264</span></a>\n",
       "<span style=\"color: #7fbfbf; text-decoration-color: #7fbfbf\">                    </span>         edition                                                                  <span style=\"color: #7f7f7f; text-decoration-color: #7f7f7f\">             </span>\n",
       "</pre>\n"
      ],
      "text/plain": [
       "\u001b[2;36m                   \u001b[0m\u001b[2;36m \u001b[0m\u001b[34mINFO    \u001b[0m \u001b[1m[\u001b[0m\u001b[1;36m40\u001b[0m/\u001b[1;36m96\u001b[0m\u001b[1m]\u001b[0m Retrieving list of players for Real Valladolid in Oct \u001b[1;36m8\u001b[0m, \u001b[1;36m2024\u001b[0m    \u001b]8;id=152178;file:///opt/anaconda3/lib/python3.11/site-packages/soccerdata/sofifa.py\u001b\\\u001b[2msofifa.py\u001b[0m\u001b]8;;\u001b\\\u001b[2m:\u001b[0m\u001b]8;id=490879;file:///opt/anaconda3/lib/python3.11/site-packages/soccerdata/sofifa.py#264\u001b\\\u001b[2m264\u001b[0m\u001b]8;;\u001b\\\n",
       "\u001b[2;36m                    \u001b[0m         edition                                                                  \u001b[2m             \u001b[0m\n"
      ]
     },
     "metadata": {},
     "output_type": "display_data"
    },
    {
     "data": {
      "text/html": [
       "<pre style=\"white-space:pre;overflow-x:auto;line-height:normal;font-family:Menlo,'DejaVu Sans Mono',consolas,'Courier New',monospace\"><span style=\"color: #7fbfbf; text-decoration-color: #7fbfbf\">                    </span><span style=\"color: #000080; text-decoration-color: #000080\">INFO    </span> <span style=\"font-weight: bold\">[</span><span style=\"color: #008080; text-decoration-color: #008080; font-weight: bold\">41</span>/<span style=\"color: #008080; text-decoration-color: #008080; font-weight: bold\">96</span><span style=\"font-weight: bold\">]</span> Retrieving list of players for Paris Saint Germain in Oct <span style=\"color: #008080; text-decoration-color: #008080; font-weight: bold\">8</span>,     <a href=\"file:///opt/anaconda3/lib/python3.11/site-packages/soccerdata/sofifa.py\" target=\"_blank\"><span style=\"color: #7f7f7f; text-decoration-color: #7f7f7f\">sofifa.py</span></a><span style=\"color: #7f7f7f; text-decoration-color: #7f7f7f\">:</span><a href=\"file:///opt/anaconda3/lib/python3.11/site-packages/soccerdata/sofifa.py#264\" target=\"_blank\"><span style=\"color: #7f7f7f; text-decoration-color: #7f7f7f\">264</span></a>\n",
       "<span style=\"color: #7fbfbf; text-decoration-color: #7fbfbf\">                    </span>         <span style=\"color: #008080; text-decoration-color: #008080; font-weight: bold\">2024</span> edition                                                             <span style=\"color: #7f7f7f; text-decoration-color: #7f7f7f\">             </span>\n",
       "</pre>\n"
      ],
      "text/plain": [
       "\u001b[2;36m                   \u001b[0m\u001b[2;36m \u001b[0m\u001b[34mINFO    \u001b[0m \u001b[1m[\u001b[0m\u001b[1;36m41\u001b[0m/\u001b[1;36m96\u001b[0m\u001b[1m]\u001b[0m Retrieving list of players for Paris Saint Germain in Oct \u001b[1;36m8\u001b[0m,     \u001b]8;id=395250;file:///opt/anaconda3/lib/python3.11/site-packages/soccerdata/sofifa.py\u001b\\\u001b[2msofifa.py\u001b[0m\u001b]8;;\u001b\\\u001b[2m:\u001b[0m\u001b]8;id=206231;file:///opt/anaconda3/lib/python3.11/site-packages/soccerdata/sofifa.py#264\u001b\\\u001b[2m264\u001b[0m\u001b]8;;\u001b\\\n",
       "\u001b[2;36m                    \u001b[0m         \u001b[1;36m2024\u001b[0m edition                                                             \u001b[2m             \u001b[0m\n"
      ]
     },
     "metadata": {},
     "output_type": "display_data"
    },
    {
     "data": {
      "text/html": [
       "<pre style=\"white-space:pre;overflow-x:auto;line-height:normal;font-family:Menlo,'DejaVu Sans Mono',consolas,'Courier New',monospace\"><span style=\"color: #7fbfbf; text-decoration-color: #7fbfbf\">                    </span><span style=\"color: #000080; text-decoration-color: #000080\">INFO    </span> <span style=\"font-weight: bold\">[</span><span style=\"color: #008080; text-decoration-color: #008080; font-weight: bold\">42</span>/<span style=\"color: #008080; text-decoration-color: #008080; font-weight: bold\">96</span><span style=\"font-weight: bold\">]</span> Retrieving list of players for LOSC Lille in Oct <span style=\"color: #008080; text-decoration-color: #008080; font-weight: bold\">8</span>, <span style=\"color: #008080; text-decoration-color: #008080; font-weight: bold\">2024</span> edition <a href=\"file:///opt/anaconda3/lib/python3.11/site-packages/soccerdata/sofifa.py\" target=\"_blank\"><span style=\"color: #7f7f7f; text-decoration-color: #7f7f7f\">sofifa.py</span></a><span style=\"color: #7f7f7f; text-decoration-color: #7f7f7f\">:</span><a href=\"file:///opt/anaconda3/lib/python3.11/site-packages/soccerdata/sofifa.py#264\" target=\"_blank\"><span style=\"color: #7f7f7f; text-decoration-color: #7f7f7f\">264</span></a>\n",
       "</pre>\n"
      ],
      "text/plain": [
       "\u001b[2;36m                   \u001b[0m\u001b[2;36m \u001b[0m\u001b[34mINFO    \u001b[0m \u001b[1m[\u001b[0m\u001b[1;36m42\u001b[0m/\u001b[1;36m96\u001b[0m\u001b[1m]\u001b[0m Retrieving list of players for LOSC Lille in Oct \u001b[1;36m8\u001b[0m, \u001b[1;36m2024\u001b[0m edition \u001b]8;id=69248;file:///opt/anaconda3/lib/python3.11/site-packages/soccerdata/sofifa.py\u001b\\\u001b[2msofifa.py\u001b[0m\u001b]8;;\u001b\\\u001b[2m:\u001b[0m\u001b]8;id=697304;file:///opt/anaconda3/lib/python3.11/site-packages/soccerdata/sofifa.py#264\u001b\\\u001b[2m264\u001b[0m\u001b]8;;\u001b\\\n"
      ]
     },
     "metadata": {},
     "output_type": "display_data"
    },
    {
     "data": {
      "text/html": [
       "<pre style=\"white-space:pre;overflow-x:auto;line-height:normal;font-family:Menlo,'DejaVu Sans Mono',consolas,'Courier New',monospace\"><span style=\"color: #7fbfbf; text-decoration-color: #7fbfbf\">                    </span><span style=\"color: #000080; text-decoration-color: #000080\">INFO    </span> <span style=\"font-weight: bold\">[</span><span style=\"color: #008080; text-decoration-color: #008080; font-weight: bold\">43</span>/<span style=\"color: #008080; text-decoration-color: #008080; font-weight: bold\">96</span><span style=\"font-weight: bold\">]</span> Retrieving list of players for Olympique Lyonnais in Oct <span style=\"color: #008080; text-decoration-color: #008080; font-weight: bold\">8</span>, <span style=\"color: #008080; text-decoration-color: #008080; font-weight: bold\">2024</span> <a href=\"file:///opt/anaconda3/lib/python3.11/site-packages/soccerdata/sofifa.py\" target=\"_blank\"><span style=\"color: #7f7f7f; text-decoration-color: #7f7f7f\">sofifa.py</span></a><span style=\"color: #7f7f7f; text-decoration-color: #7f7f7f\">:</span><a href=\"file:///opt/anaconda3/lib/python3.11/site-packages/soccerdata/sofifa.py#264\" target=\"_blank\"><span style=\"color: #7f7f7f; text-decoration-color: #7f7f7f\">264</span></a>\n",
       "<span style=\"color: #7fbfbf; text-decoration-color: #7fbfbf\">                    </span>         edition                                                                  <span style=\"color: #7f7f7f; text-decoration-color: #7f7f7f\">             </span>\n",
       "</pre>\n"
      ],
      "text/plain": [
       "\u001b[2;36m                   \u001b[0m\u001b[2;36m \u001b[0m\u001b[34mINFO    \u001b[0m \u001b[1m[\u001b[0m\u001b[1;36m43\u001b[0m/\u001b[1;36m96\u001b[0m\u001b[1m]\u001b[0m Retrieving list of players for Olympique Lyonnais in Oct \u001b[1;36m8\u001b[0m, \u001b[1;36m2024\u001b[0m \u001b]8;id=382979;file:///opt/anaconda3/lib/python3.11/site-packages/soccerdata/sofifa.py\u001b\\\u001b[2msofifa.py\u001b[0m\u001b]8;;\u001b\\\u001b[2m:\u001b[0m\u001b]8;id=718863;file:///opt/anaconda3/lib/python3.11/site-packages/soccerdata/sofifa.py#264\u001b\\\u001b[2m264\u001b[0m\u001b]8;;\u001b\\\n",
       "\u001b[2;36m                    \u001b[0m         edition                                                                  \u001b[2m             \u001b[0m\n"
      ]
     },
     "metadata": {},
     "output_type": "display_data"
    },
    {
     "data": {
      "text/html": [
       "<pre style=\"white-space:pre;overflow-x:auto;line-height:normal;font-family:Menlo,'DejaVu Sans Mono',consolas,'Courier New',monospace\"><span style=\"color: #7fbfbf; text-decoration-color: #7fbfbf\">                    </span><span style=\"color: #000080; text-decoration-color: #000080\">INFO    </span> <span style=\"font-weight: bold\">[</span><span style=\"color: #008080; text-decoration-color: #008080; font-weight: bold\">44</span>/<span style=\"color: #008080; text-decoration-color: #008080; font-weight: bold\">96</span><span style=\"font-weight: bold\">]</span> Retrieving list of players for Monaco in Oct <span style=\"color: #008080; text-decoration-color: #008080; font-weight: bold\">8</span>, <span style=\"color: #008080; text-decoration-color: #008080; font-weight: bold\">2024</span> edition     <a href=\"file:///opt/anaconda3/lib/python3.11/site-packages/soccerdata/sofifa.py\" target=\"_blank\"><span style=\"color: #7f7f7f; text-decoration-color: #7f7f7f\">sofifa.py</span></a><span style=\"color: #7f7f7f; text-decoration-color: #7f7f7f\">:</span><a href=\"file:///opt/anaconda3/lib/python3.11/site-packages/soccerdata/sofifa.py#264\" target=\"_blank\"><span style=\"color: #7f7f7f; text-decoration-color: #7f7f7f\">264</span></a>\n",
       "</pre>\n"
      ],
      "text/plain": [
       "\u001b[2;36m                   \u001b[0m\u001b[2;36m \u001b[0m\u001b[34mINFO    \u001b[0m \u001b[1m[\u001b[0m\u001b[1;36m44\u001b[0m/\u001b[1;36m96\u001b[0m\u001b[1m]\u001b[0m Retrieving list of players for Monaco in Oct \u001b[1;36m8\u001b[0m, \u001b[1;36m2024\u001b[0m edition     \u001b]8;id=834844;file:///opt/anaconda3/lib/python3.11/site-packages/soccerdata/sofifa.py\u001b\\\u001b[2msofifa.py\u001b[0m\u001b]8;;\u001b\\\u001b[2m:\u001b[0m\u001b]8;id=543762;file:///opt/anaconda3/lib/python3.11/site-packages/soccerdata/sofifa.py#264\u001b\\\u001b[2m264\u001b[0m\u001b]8;;\u001b\\\n"
      ]
     },
     "metadata": {},
     "output_type": "display_data"
    },
    {
     "data": {
      "text/html": [
       "<pre style=\"white-space:pre;overflow-x:auto;line-height:normal;font-family:Menlo,'DejaVu Sans Mono',consolas,'Courier New',monospace\"><span style=\"color: #7fbfbf; text-decoration-color: #7fbfbf\">                    </span><span style=\"color: #000080; text-decoration-color: #000080\">INFO    </span> <span style=\"font-weight: bold\">[</span><span style=\"color: #008080; text-decoration-color: #008080; font-weight: bold\">45</span>/<span style=\"color: #008080; text-decoration-color: #008080; font-weight: bold\">96</span><span style=\"font-weight: bold\">]</span> Retrieving list of players for Olympique de Marseille in Oct <span style=\"color: #008080; text-decoration-color: #008080; font-weight: bold\">8</span>,  <a href=\"file:///opt/anaconda3/lib/python3.11/site-packages/soccerdata/sofifa.py\" target=\"_blank\"><span style=\"color: #7f7f7f; text-decoration-color: #7f7f7f\">sofifa.py</span></a><span style=\"color: #7f7f7f; text-decoration-color: #7f7f7f\">:</span><a href=\"file:///opt/anaconda3/lib/python3.11/site-packages/soccerdata/sofifa.py#264\" target=\"_blank\"><span style=\"color: #7f7f7f; text-decoration-color: #7f7f7f\">264</span></a>\n",
       "<span style=\"color: #7fbfbf; text-decoration-color: #7fbfbf\">                    </span>         <span style=\"color: #008080; text-decoration-color: #008080; font-weight: bold\">2024</span> edition                                                             <span style=\"color: #7f7f7f; text-decoration-color: #7f7f7f\">             </span>\n",
       "</pre>\n"
      ],
      "text/plain": [
       "\u001b[2;36m                   \u001b[0m\u001b[2;36m \u001b[0m\u001b[34mINFO    \u001b[0m \u001b[1m[\u001b[0m\u001b[1;36m45\u001b[0m/\u001b[1;36m96\u001b[0m\u001b[1m]\u001b[0m Retrieving list of players for Olympique de Marseille in Oct \u001b[1;36m8\u001b[0m,  \u001b]8;id=119882;file:///opt/anaconda3/lib/python3.11/site-packages/soccerdata/sofifa.py\u001b\\\u001b[2msofifa.py\u001b[0m\u001b]8;;\u001b\\\u001b[2m:\u001b[0m\u001b]8;id=409318;file:///opt/anaconda3/lib/python3.11/site-packages/soccerdata/sofifa.py#264\u001b\\\u001b[2m264\u001b[0m\u001b]8;;\u001b\\\n",
       "\u001b[2;36m                    \u001b[0m         \u001b[1;36m2024\u001b[0m edition                                                             \u001b[2m             \u001b[0m\n"
      ]
     },
     "metadata": {},
     "output_type": "display_data"
    },
    {
     "data": {
      "text/html": [
       "<pre style=\"white-space:pre;overflow-x:auto;line-height:normal;font-family:Menlo,'DejaVu Sans Mono',consolas,'Courier New',monospace\"><span style=\"color: #7fbfbf; text-decoration-color: #7fbfbf\">                    </span><span style=\"color: #000080; text-decoration-color: #000080\">INFO    </span> <span style=\"font-weight: bold\">[</span><span style=\"color: #008080; text-decoration-color: #008080; font-weight: bold\">46</span>/<span style=\"color: #008080; text-decoration-color: #008080; font-weight: bold\">96</span><span style=\"font-weight: bold\">]</span> Retrieving list of players for Lens in Oct <span style=\"color: #008080; text-decoration-color: #008080; font-weight: bold\">8</span>, <span style=\"color: #008080; text-decoration-color: #008080; font-weight: bold\">2024</span> edition       <a href=\"file:///opt/anaconda3/lib/python3.11/site-packages/soccerdata/sofifa.py\" target=\"_blank\"><span style=\"color: #7f7f7f; text-decoration-color: #7f7f7f\">sofifa.py</span></a><span style=\"color: #7f7f7f; text-decoration-color: #7f7f7f\">:</span><a href=\"file:///opt/anaconda3/lib/python3.11/site-packages/soccerdata/sofifa.py#264\" target=\"_blank\"><span style=\"color: #7f7f7f; text-decoration-color: #7f7f7f\">264</span></a>\n",
       "</pre>\n"
      ],
      "text/plain": [
       "\u001b[2;36m                   \u001b[0m\u001b[2;36m \u001b[0m\u001b[34mINFO    \u001b[0m \u001b[1m[\u001b[0m\u001b[1;36m46\u001b[0m/\u001b[1;36m96\u001b[0m\u001b[1m]\u001b[0m Retrieving list of players for Lens in Oct \u001b[1;36m8\u001b[0m, \u001b[1;36m2024\u001b[0m edition       \u001b]8;id=79855;file:///opt/anaconda3/lib/python3.11/site-packages/soccerdata/sofifa.py\u001b\\\u001b[2msofifa.py\u001b[0m\u001b]8;;\u001b\\\u001b[2m:\u001b[0m\u001b]8;id=928636;file:///opt/anaconda3/lib/python3.11/site-packages/soccerdata/sofifa.py#264\u001b\\\u001b[2m264\u001b[0m\u001b]8;;\u001b\\\n"
      ]
     },
     "metadata": {},
     "output_type": "display_data"
    },
    {
     "data": {
      "text/html": [
       "<pre style=\"white-space:pre;overflow-x:auto;line-height:normal;font-family:Menlo,'DejaVu Sans Mono',consolas,'Courier New',monospace\"><span style=\"color: #7fbfbf; text-decoration-color: #7fbfbf\">                    </span><span style=\"color: #000080; text-decoration-color: #000080\">INFO    </span> <span style=\"font-weight: bold\">[</span><span style=\"color: #008080; text-decoration-color: #008080; font-weight: bold\">47</span>/<span style=\"color: #008080; text-decoration-color: #008080; font-weight: bold\">96</span><span style=\"font-weight: bold\">]</span> Retrieving list of players for Nice in Oct <span style=\"color: #008080; text-decoration-color: #008080; font-weight: bold\">8</span>, <span style=\"color: #008080; text-decoration-color: #008080; font-weight: bold\">2024</span> edition       <a href=\"file:///opt/anaconda3/lib/python3.11/site-packages/soccerdata/sofifa.py\" target=\"_blank\"><span style=\"color: #7f7f7f; text-decoration-color: #7f7f7f\">sofifa.py</span></a><span style=\"color: #7f7f7f; text-decoration-color: #7f7f7f\">:</span><a href=\"file:///opt/anaconda3/lib/python3.11/site-packages/soccerdata/sofifa.py#264\" target=\"_blank\"><span style=\"color: #7f7f7f; text-decoration-color: #7f7f7f\">264</span></a>\n",
       "</pre>\n"
      ],
      "text/plain": [
       "\u001b[2;36m                   \u001b[0m\u001b[2;36m \u001b[0m\u001b[34mINFO    \u001b[0m \u001b[1m[\u001b[0m\u001b[1;36m47\u001b[0m/\u001b[1;36m96\u001b[0m\u001b[1m]\u001b[0m Retrieving list of players for Nice in Oct \u001b[1;36m8\u001b[0m, \u001b[1;36m2024\u001b[0m edition       \u001b]8;id=186633;file:///opt/anaconda3/lib/python3.11/site-packages/soccerdata/sofifa.py\u001b\\\u001b[2msofifa.py\u001b[0m\u001b]8;;\u001b\\\u001b[2m:\u001b[0m\u001b]8;id=317319;file:///opt/anaconda3/lib/python3.11/site-packages/soccerdata/sofifa.py#264\u001b\\\u001b[2m264\u001b[0m\u001b]8;;\u001b\\\n"
      ]
     },
     "metadata": {},
     "output_type": "display_data"
    },
    {
     "data": {
      "text/html": [
       "<pre style=\"white-space:pre;overflow-x:auto;line-height:normal;font-family:Menlo,'DejaVu Sans Mono',consolas,'Courier New',monospace\"><span style=\"color: #7fbfbf; text-decoration-color: #7fbfbf\">                    </span><span style=\"color: #000080; text-decoration-color: #000080\">INFO    </span> <span style=\"font-weight: bold\">[</span><span style=\"color: #008080; text-decoration-color: #008080; font-weight: bold\">48</span>/<span style=\"color: #008080; text-decoration-color: #008080; font-weight: bold\">96</span><span style=\"font-weight: bold\">]</span> Retrieving list of players for Rennes in Oct <span style=\"color: #008080; text-decoration-color: #008080; font-weight: bold\">8</span>, <span style=\"color: #008080; text-decoration-color: #008080; font-weight: bold\">2024</span> edition     <a href=\"file:///opt/anaconda3/lib/python3.11/site-packages/soccerdata/sofifa.py\" target=\"_blank\"><span style=\"color: #7f7f7f; text-decoration-color: #7f7f7f\">sofifa.py</span></a><span style=\"color: #7f7f7f; text-decoration-color: #7f7f7f\">:</span><a href=\"file:///opt/anaconda3/lib/python3.11/site-packages/soccerdata/sofifa.py#264\" target=\"_blank\"><span style=\"color: #7f7f7f; text-decoration-color: #7f7f7f\">264</span></a>\n",
       "</pre>\n"
      ],
      "text/plain": [
       "\u001b[2;36m                   \u001b[0m\u001b[2;36m \u001b[0m\u001b[34mINFO    \u001b[0m \u001b[1m[\u001b[0m\u001b[1;36m48\u001b[0m/\u001b[1;36m96\u001b[0m\u001b[1m]\u001b[0m Retrieving list of players for Rennes in Oct \u001b[1;36m8\u001b[0m, \u001b[1;36m2024\u001b[0m edition     \u001b]8;id=657341;file:///opt/anaconda3/lib/python3.11/site-packages/soccerdata/sofifa.py\u001b\\\u001b[2msofifa.py\u001b[0m\u001b]8;;\u001b\\\u001b[2m:\u001b[0m\u001b]8;id=658661;file:///opt/anaconda3/lib/python3.11/site-packages/soccerdata/sofifa.py#264\u001b\\\u001b[2m264\u001b[0m\u001b]8;;\u001b\\\n"
      ]
     },
     "metadata": {},
     "output_type": "display_data"
    },
    {
     "data": {
      "text/html": [
       "<pre style=\"white-space:pre;overflow-x:auto;line-height:normal;font-family:Menlo,'DejaVu Sans Mono',consolas,'Courier New',monospace\"><span style=\"color: #7fbfbf; text-decoration-color: #7fbfbf\">                    </span><span style=\"color: #000080; text-decoration-color: #000080\">INFO    </span> <span style=\"font-weight: bold\">[</span><span style=\"color: #008080; text-decoration-color: #008080; font-weight: bold\">49</span>/<span style=\"color: #008080; text-decoration-color: #008080; font-weight: bold\">96</span><span style=\"font-weight: bold\">]</span> Retrieving list of players for Stade Brestois <span style=\"color: #008080; text-decoration-color: #008080; font-weight: bold\">29</span> in Oct <span style=\"color: #008080; text-decoration-color: #008080; font-weight: bold\">8</span>, <span style=\"color: #008080; text-decoration-color: #008080; font-weight: bold\">2024</span>  <a href=\"file:///opt/anaconda3/lib/python3.11/site-packages/soccerdata/sofifa.py\" target=\"_blank\"><span style=\"color: #7f7f7f; text-decoration-color: #7f7f7f\">sofifa.py</span></a><span style=\"color: #7f7f7f; text-decoration-color: #7f7f7f\">:</span><a href=\"file:///opt/anaconda3/lib/python3.11/site-packages/soccerdata/sofifa.py#264\" target=\"_blank\"><span style=\"color: #7f7f7f; text-decoration-color: #7f7f7f\">264</span></a>\n",
       "<span style=\"color: #7fbfbf; text-decoration-color: #7fbfbf\">                    </span>         edition                                                                  <span style=\"color: #7f7f7f; text-decoration-color: #7f7f7f\">             </span>\n",
       "</pre>\n"
      ],
      "text/plain": [
       "\u001b[2;36m                   \u001b[0m\u001b[2;36m \u001b[0m\u001b[34mINFO    \u001b[0m \u001b[1m[\u001b[0m\u001b[1;36m49\u001b[0m/\u001b[1;36m96\u001b[0m\u001b[1m]\u001b[0m Retrieving list of players for Stade Brestois \u001b[1;36m29\u001b[0m in Oct \u001b[1;36m8\u001b[0m, \u001b[1;36m2024\u001b[0m  \u001b]8;id=778665;file:///opt/anaconda3/lib/python3.11/site-packages/soccerdata/sofifa.py\u001b\\\u001b[2msofifa.py\u001b[0m\u001b]8;;\u001b\\\u001b[2m:\u001b[0m\u001b]8;id=603058;file:///opt/anaconda3/lib/python3.11/site-packages/soccerdata/sofifa.py#264\u001b\\\u001b[2m264\u001b[0m\u001b]8;;\u001b\\\n",
       "\u001b[2;36m                    \u001b[0m         edition                                                                  \u001b[2m             \u001b[0m\n"
      ]
     },
     "metadata": {},
     "output_type": "display_data"
    },
    {
     "data": {
      "text/html": [
       "<pre style=\"white-space:pre;overflow-x:auto;line-height:normal;font-family:Menlo,'DejaVu Sans Mono',consolas,'Courier New',monospace\"><span style=\"color: #7fbfbf; text-decoration-color: #7fbfbf\">                    </span><span style=\"color: #000080; text-decoration-color: #000080\">INFO    </span> <span style=\"font-weight: bold\">[</span><span style=\"color: #008080; text-decoration-color: #008080; font-weight: bold\">50</span>/<span style=\"color: #008080; text-decoration-color: #008080; font-weight: bold\">96</span><span style=\"font-weight: bold\">]</span> Retrieving list of players for Montpellier in Oct <span style=\"color: #008080; text-decoration-color: #008080; font-weight: bold\">8</span>, <span style=\"color: #008080; text-decoration-color: #008080; font-weight: bold\">2024</span>        <a href=\"file:///opt/anaconda3/lib/python3.11/site-packages/soccerdata/sofifa.py\" target=\"_blank\"><span style=\"color: #7f7f7f; text-decoration-color: #7f7f7f\">sofifa.py</span></a><span style=\"color: #7f7f7f; text-decoration-color: #7f7f7f\">:</span><a href=\"file:///opt/anaconda3/lib/python3.11/site-packages/soccerdata/sofifa.py#264\" target=\"_blank\"><span style=\"color: #7f7f7f; text-decoration-color: #7f7f7f\">264</span></a>\n",
       "<span style=\"color: #7fbfbf; text-decoration-color: #7fbfbf\">                    </span>         edition                                                                  <span style=\"color: #7f7f7f; text-decoration-color: #7f7f7f\">             </span>\n",
       "</pre>\n"
      ],
      "text/plain": [
       "\u001b[2;36m                   \u001b[0m\u001b[2;36m \u001b[0m\u001b[34mINFO    \u001b[0m \u001b[1m[\u001b[0m\u001b[1;36m50\u001b[0m/\u001b[1;36m96\u001b[0m\u001b[1m]\u001b[0m Retrieving list of players for Montpellier in Oct \u001b[1;36m8\u001b[0m, \u001b[1;36m2024\u001b[0m        \u001b]8;id=460945;file:///opt/anaconda3/lib/python3.11/site-packages/soccerdata/sofifa.py\u001b\\\u001b[2msofifa.py\u001b[0m\u001b]8;;\u001b\\\u001b[2m:\u001b[0m\u001b]8;id=434792;file:///opt/anaconda3/lib/python3.11/site-packages/soccerdata/sofifa.py#264\u001b\\\u001b[2m264\u001b[0m\u001b]8;;\u001b\\\n",
       "\u001b[2;36m                    \u001b[0m         edition                                                                  \u001b[2m             \u001b[0m\n"
      ]
     },
     "metadata": {},
     "output_type": "display_data"
    },
    {
     "data": {
      "text/html": [
       "<pre style=\"white-space:pre;overflow-x:auto;line-height:normal;font-family:Menlo,'DejaVu Sans Mono',consolas,'Courier New',monospace\"><span style=\"color: #7fbfbf; text-decoration-color: #7fbfbf\">                    </span><span style=\"color: #000080; text-decoration-color: #000080\">INFO    </span> <span style=\"font-weight: bold\">[</span><span style=\"color: #008080; text-decoration-color: #008080; font-weight: bold\">51</span>/<span style=\"color: #008080; text-decoration-color: #008080; font-weight: bold\">96</span><span style=\"font-weight: bold\">]</span> Retrieving list of players for Stade de Reims  in Oct <span style=\"color: #008080; text-decoration-color: #008080; font-weight: bold\">8</span>, <span style=\"color: #008080; text-decoration-color: #008080; font-weight: bold\">2024</span>    <a href=\"file:///opt/anaconda3/lib/python3.11/site-packages/soccerdata/sofifa.py\" target=\"_blank\"><span style=\"color: #7f7f7f; text-decoration-color: #7f7f7f\">sofifa.py</span></a><span style=\"color: #7f7f7f; text-decoration-color: #7f7f7f\">:</span><a href=\"file:///opt/anaconda3/lib/python3.11/site-packages/soccerdata/sofifa.py#264\" target=\"_blank\"><span style=\"color: #7f7f7f; text-decoration-color: #7f7f7f\">264</span></a>\n",
       "<span style=\"color: #7fbfbf; text-decoration-color: #7fbfbf\">                    </span>         edition                                                                  <span style=\"color: #7f7f7f; text-decoration-color: #7f7f7f\">             </span>\n",
       "</pre>\n"
      ],
      "text/plain": [
       "\u001b[2;36m                   \u001b[0m\u001b[2;36m \u001b[0m\u001b[34mINFO    \u001b[0m \u001b[1m[\u001b[0m\u001b[1;36m51\u001b[0m/\u001b[1;36m96\u001b[0m\u001b[1m]\u001b[0m Retrieving list of players for Stade de Reims  in Oct \u001b[1;36m8\u001b[0m, \u001b[1;36m2024\u001b[0m    \u001b]8;id=203875;file:///opt/anaconda3/lib/python3.11/site-packages/soccerdata/sofifa.py\u001b\\\u001b[2msofifa.py\u001b[0m\u001b]8;;\u001b\\\u001b[2m:\u001b[0m\u001b]8;id=12787;file:///opt/anaconda3/lib/python3.11/site-packages/soccerdata/sofifa.py#264\u001b\\\u001b[2m264\u001b[0m\u001b]8;;\u001b\\\n",
       "\u001b[2;36m                    \u001b[0m         edition                                                                  \u001b[2m             \u001b[0m\n"
      ]
     },
     "metadata": {},
     "output_type": "display_data"
    },
    {
     "data": {
      "text/html": [
       "<pre style=\"white-space:pre;overflow-x:auto;line-height:normal;font-family:Menlo,'DejaVu Sans Mono',consolas,'Courier New',monospace\"><span style=\"color: #7fbfbf; text-decoration-color: #7fbfbf\">                    </span><span style=\"color: #000080; text-decoration-color: #000080\">INFO    </span> <span style=\"font-weight: bold\">[</span><span style=\"color: #008080; text-decoration-color: #008080; font-weight: bold\">52</span>/<span style=\"color: #008080; text-decoration-color: #008080; font-weight: bold\">96</span><span style=\"font-weight: bold\">]</span> Retrieving list of players for Toulouse in Oct <span style=\"color: #008080; text-decoration-color: #008080; font-weight: bold\">8</span>, <span style=\"color: #008080; text-decoration-color: #008080; font-weight: bold\">2024</span> edition   <a href=\"file:///opt/anaconda3/lib/python3.11/site-packages/soccerdata/sofifa.py\" target=\"_blank\"><span style=\"color: #7f7f7f; text-decoration-color: #7f7f7f\">sofifa.py</span></a><span style=\"color: #7f7f7f; text-decoration-color: #7f7f7f\">:</span><a href=\"file:///opt/anaconda3/lib/python3.11/site-packages/soccerdata/sofifa.py#264\" target=\"_blank\"><span style=\"color: #7f7f7f; text-decoration-color: #7f7f7f\">264</span></a>\n",
       "</pre>\n"
      ],
      "text/plain": [
       "\u001b[2;36m                   \u001b[0m\u001b[2;36m \u001b[0m\u001b[34mINFO    \u001b[0m \u001b[1m[\u001b[0m\u001b[1;36m52\u001b[0m/\u001b[1;36m96\u001b[0m\u001b[1m]\u001b[0m Retrieving list of players for Toulouse in Oct \u001b[1;36m8\u001b[0m, \u001b[1;36m2024\u001b[0m edition   \u001b]8;id=132046;file:///opt/anaconda3/lib/python3.11/site-packages/soccerdata/sofifa.py\u001b\\\u001b[2msofifa.py\u001b[0m\u001b]8;;\u001b\\\u001b[2m:\u001b[0m\u001b]8;id=990052;file:///opt/anaconda3/lib/python3.11/site-packages/soccerdata/sofifa.py#264\u001b\\\u001b[2m264\u001b[0m\u001b]8;;\u001b\\\n"
      ]
     },
     "metadata": {},
     "output_type": "display_data"
    },
    {
     "data": {
      "text/html": [
       "<pre style=\"white-space:pre;overflow-x:auto;line-height:normal;font-family:Menlo,'DejaVu Sans Mono',consolas,'Courier New',monospace\"><span style=\"color: #7fbfbf; text-decoration-color: #7fbfbf\">                    </span><span style=\"color: #000080; text-decoration-color: #000080\">INFO    </span> <span style=\"font-weight: bold\">[</span><span style=\"color: #008080; text-decoration-color: #008080; font-weight: bold\">53</span>/<span style=\"color: #008080; text-decoration-color: #008080; font-weight: bold\">96</span><span style=\"font-weight: bold\">]</span> Retrieving list of players for Nantes in Oct <span style=\"color: #008080; text-decoration-color: #008080; font-weight: bold\">8</span>, <span style=\"color: #008080; text-decoration-color: #008080; font-weight: bold\">2024</span> edition     <a href=\"file:///opt/anaconda3/lib/python3.11/site-packages/soccerdata/sofifa.py\" target=\"_blank\"><span style=\"color: #7f7f7f; text-decoration-color: #7f7f7f\">sofifa.py</span></a><span style=\"color: #7f7f7f; text-decoration-color: #7f7f7f\">:</span><a href=\"file:///opt/anaconda3/lib/python3.11/site-packages/soccerdata/sofifa.py#264\" target=\"_blank\"><span style=\"color: #7f7f7f; text-decoration-color: #7f7f7f\">264</span></a>\n",
       "</pre>\n"
      ],
      "text/plain": [
       "\u001b[2;36m                   \u001b[0m\u001b[2;36m \u001b[0m\u001b[34mINFO    \u001b[0m \u001b[1m[\u001b[0m\u001b[1;36m53\u001b[0m/\u001b[1;36m96\u001b[0m\u001b[1m]\u001b[0m Retrieving list of players for Nantes in Oct \u001b[1;36m8\u001b[0m, \u001b[1;36m2024\u001b[0m edition     \u001b]8;id=692243;file:///opt/anaconda3/lib/python3.11/site-packages/soccerdata/sofifa.py\u001b\\\u001b[2msofifa.py\u001b[0m\u001b]8;;\u001b\\\u001b[2m:\u001b[0m\u001b]8;id=286761;file:///opt/anaconda3/lib/python3.11/site-packages/soccerdata/sofifa.py#264\u001b\\\u001b[2m264\u001b[0m\u001b]8;;\u001b\\\n"
      ]
     },
     "metadata": {},
     "output_type": "display_data"
    },
    {
     "data": {
      "text/html": [
       "<pre style=\"white-space:pre;overflow-x:auto;line-height:normal;font-family:Menlo,'DejaVu Sans Mono',consolas,'Courier New',monospace\"><span style=\"color: #7fbfbf; text-decoration-color: #7fbfbf\">                    </span><span style=\"color: #000080; text-decoration-color: #000080\">INFO    </span> <span style=\"font-weight: bold\">[</span><span style=\"color: #008080; text-decoration-color: #008080; font-weight: bold\">54</span>/<span style=\"color: #008080; text-decoration-color: #008080; font-weight: bold\">96</span><span style=\"font-weight: bold\">]</span> Retrieving list of players for Strasbourg in Oct <span style=\"color: #008080; text-decoration-color: #008080; font-weight: bold\">8</span>, <span style=\"color: #008080; text-decoration-color: #008080; font-weight: bold\">2024</span> edition <a href=\"file:///opt/anaconda3/lib/python3.11/site-packages/soccerdata/sofifa.py\" target=\"_blank\"><span style=\"color: #7f7f7f; text-decoration-color: #7f7f7f\">sofifa.py</span></a><span style=\"color: #7f7f7f; text-decoration-color: #7f7f7f\">:</span><a href=\"file:///opt/anaconda3/lib/python3.11/site-packages/soccerdata/sofifa.py#264\" target=\"_blank\"><span style=\"color: #7f7f7f; text-decoration-color: #7f7f7f\">264</span></a>\n",
       "</pre>\n"
      ],
      "text/plain": [
       "\u001b[2;36m                   \u001b[0m\u001b[2;36m \u001b[0m\u001b[34mINFO    \u001b[0m \u001b[1m[\u001b[0m\u001b[1;36m54\u001b[0m/\u001b[1;36m96\u001b[0m\u001b[1m]\u001b[0m Retrieving list of players for Strasbourg in Oct \u001b[1;36m8\u001b[0m, \u001b[1;36m2024\u001b[0m edition \u001b]8;id=918902;file:///opt/anaconda3/lib/python3.11/site-packages/soccerdata/sofifa.py\u001b\\\u001b[2msofifa.py\u001b[0m\u001b]8;;\u001b\\\u001b[2m:\u001b[0m\u001b]8;id=136042;file:///opt/anaconda3/lib/python3.11/site-packages/soccerdata/sofifa.py#264\u001b\\\u001b[2m264\u001b[0m\u001b]8;;\u001b\\\n"
      ]
     },
     "metadata": {},
     "output_type": "display_data"
    },
    {
     "data": {
      "text/html": [
       "<pre style=\"white-space:pre;overflow-x:auto;line-height:normal;font-family:Menlo,'DejaVu Sans Mono',consolas,'Courier New',monospace\"><span style=\"color: #7fbfbf; text-decoration-color: #7fbfbf\">                    </span><span style=\"color: #000080; text-decoration-color: #000080\">INFO    </span> <span style=\"font-weight: bold\">[</span><span style=\"color: #008080; text-decoration-color: #008080; font-weight: bold\">55</span>/<span style=\"color: #008080; text-decoration-color: #008080; font-weight: bold\">96</span><span style=\"font-weight: bold\">]</span> Retrieving list of players for Le Havre in Oct <span style=\"color: #008080; text-decoration-color: #008080; font-weight: bold\">8</span>, <span style=\"color: #008080; text-decoration-color: #008080; font-weight: bold\">2024</span> edition   <a href=\"file:///opt/anaconda3/lib/python3.11/site-packages/soccerdata/sofifa.py\" target=\"_blank\"><span style=\"color: #7f7f7f; text-decoration-color: #7f7f7f\">sofifa.py</span></a><span style=\"color: #7f7f7f; text-decoration-color: #7f7f7f\">:</span><a href=\"file:///opt/anaconda3/lib/python3.11/site-packages/soccerdata/sofifa.py#264\" target=\"_blank\"><span style=\"color: #7f7f7f; text-decoration-color: #7f7f7f\">264</span></a>\n",
       "</pre>\n"
      ],
      "text/plain": [
       "\u001b[2;36m                   \u001b[0m\u001b[2;36m \u001b[0m\u001b[34mINFO    \u001b[0m \u001b[1m[\u001b[0m\u001b[1;36m55\u001b[0m/\u001b[1;36m96\u001b[0m\u001b[1m]\u001b[0m Retrieving list of players for Le Havre in Oct \u001b[1;36m8\u001b[0m, \u001b[1;36m2024\u001b[0m edition   \u001b]8;id=697613;file:///opt/anaconda3/lib/python3.11/site-packages/soccerdata/sofifa.py\u001b\\\u001b[2msofifa.py\u001b[0m\u001b]8;;\u001b\\\u001b[2m:\u001b[0m\u001b]8;id=708507;file:///opt/anaconda3/lib/python3.11/site-packages/soccerdata/sofifa.py#264\u001b\\\u001b[2m264\u001b[0m\u001b]8;;\u001b\\\n"
      ]
     },
     "metadata": {},
     "output_type": "display_data"
    },
    {
     "data": {
      "text/html": [
       "<pre style=\"white-space:pre;overflow-x:auto;line-height:normal;font-family:Menlo,'DejaVu Sans Mono',consolas,'Courier New',monospace\"><span style=\"color: #7fbfbf; text-decoration-color: #7fbfbf\">                    </span><span style=\"color: #000080; text-decoration-color: #000080\">INFO    </span> <span style=\"font-weight: bold\">[</span><span style=\"color: #008080; text-decoration-color: #008080; font-weight: bold\">56</span>/<span style=\"color: #008080; text-decoration-color: #008080; font-weight: bold\">96</span><span style=\"font-weight: bold\">]</span> Retrieving list of players for Saint-Étienne in Oct <span style=\"color: #008080; text-decoration-color: #008080; font-weight: bold\">8</span>, <span style=\"color: #008080; text-decoration-color: #008080; font-weight: bold\">2024</span>      <a href=\"file:///opt/anaconda3/lib/python3.11/site-packages/soccerdata/sofifa.py\" target=\"_blank\"><span style=\"color: #7f7f7f; text-decoration-color: #7f7f7f\">sofifa.py</span></a><span style=\"color: #7f7f7f; text-decoration-color: #7f7f7f\">:</span><a href=\"file:///opt/anaconda3/lib/python3.11/site-packages/soccerdata/sofifa.py#264\" target=\"_blank\"><span style=\"color: #7f7f7f; text-decoration-color: #7f7f7f\">264</span></a>\n",
       "<span style=\"color: #7fbfbf; text-decoration-color: #7fbfbf\">                    </span>         edition                                                                  <span style=\"color: #7f7f7f; text-decoration-color: #7f7f7f\">             </span>\n",
       "</pre>\n"
      ],
      "text/plain": [
       "\u001b[2;36m                   \u001b[0m\u001b[2;36m \u001b[0m\u001b[34mINFO    \u001b[0m \u001b[1m[\u001b[0m\u001b[1;36m56\u001b[0m/\u001b[1;36m96\u001b[0m\u001b[1m]\u001b[0m Retrieving list of players for Saint-Étienne in Oct \u001b[1;36m8\u001b[0m, \u001b[1;36m2024\u001b[0m      \u001b]8;id=908091;file:///opt/anaconda3/lib/python3.11/site-packages/soccerdata/sofifa.py\u001b\\\u001b[2msofifa.py\u001b[0m\u001b]8;;\u001b\\\u001b[2m:\u001b[0m\u001b]8;id=392587;file:///opt/anaconda3/lib/python3.11/site-packages/soccerdata/sofifa.py#264\u001b\\\u001b[2m264\u001b[0m\u001b]8;;\u001b\\\n",
       "\u001b[2;36m                    \u001b[0m         edition                                                                  \u001b[2m             \u001b[0m\n"
      ]
     },
     "metadata": {},
     "output_type": "display_data"
    },
    {
     "data": {
      "text/html": [
       "<pre style=\"white-space:pre;overflow-x:auto;line-height:normal;font-family:Menlo,'DejaVu Sans Mono',consolas,'Courier New',monospace\"><span style=\"color: #7fbfbf; text-decoration-color: #7fbfbf\">                    </span><span style=\"color: #000080; text-decoration-color: #000080\">INFO    </span> <span style=\"font-weight: bold\">[</span><span style=\"color: #008080; text-decoration-color: #008080; font-weight: bold\">57</span>/<span style=\"color: #008080; text-decoration-color: #008080; font-weight: bold\">96</span><span style=\"font-weight: bold\">]</span> Retrieving list of players for Auxerre in Oct <span style=\"color: #008080; text-decoration-color: #008080; font-weight: bold\">8</span>, <span style=\"color: #008080; text-decoration-color: #008080; font-weight: bold\">2024</span> edition    <a href=\"file:///opt/anaconda3/lib/python3.11/site-packages/soccerdata/sofifa.py\" target=\"_blank\"><span style=\"color: #7f7f7f; text-decoration-color: #7f7f7f\">sofifa.py</span></a><span style=\"color: #7f7f7f; text-decoration-color: #7f7f7f\">:</span><a href=\"file:///opt/anaconda3/lib/python3.11/site-packages/soccerdata/sofifa.py#264\" target=\"_blank\"><span style=\"color: #7f7f7f; text-decoration-color: #7f7f7f\">264</span></a>\n",
       "</pre>\n"
      ],
      "text/plain": [
       "\u001b[2;36m                   \u001b[0m\u001b[2;36m \u001b[0m\u001b[34mINFO    \u001b[0m \u001b[1m[\u001b[0m\u001b[1;36m57\u001b[0m/\u001b[1;36m96\u001b[0m\u001b[1m]\u001b[0m Retrieving list of players for Auxerre in Oct \u001b[1;36m8\u001b[0m, \u001b[1;36m2024\u001b[0m edition    \u001b]8;id=971936;file:///opt/anaconda3/lib/python3.11/site-packages/soccerdata/sofifa.py\u001b\\\u001b[2msofifa.py\u001b[0m\u001b]8;;\u001b\\\u001b[2m:\u001b[0m\u001b]8;id=64704;file:///opt/anaconda3/lib/python3.11/site-packages/soccerdata/sofifa.py#264\u001b\\\u001b[2m264\u001b[0m\u001b]8;;\u001b\\\n"
      ]
     },
     "metadata": {},
     "output_type": "display_data"
    },
    {
     "data": {
      "text/html": [
       "<pre style=\"white-space:pre;overflow-x:auto;line-height:normal;font-family:Menlo,'DejaVu Sans Mono',consolas,'Courier New',monospace\"><span style=\"color: #7fbfbf; text-decoration-color: #7fbfbf\">                    </span><span style=\"color: #000080; text-decoration-color: #000080\">INFO    </span> <span style=\"font-weight: bold\">[</span><span style=\"color: #008080; text-decoration-color: #008080; font-weight: bold\">58</span>/<span style=\"color: #008080; text-decoration-color: #008080; font-weight: bold\">96</span><span style=\"font-weight: bold\">]</span> Retrieving list of players for Angers SCO in Oct <span style=\"color: #008080; text-decoration-color: #008080; font-weight: bold\">8</span>, <span style=\"color: #008080; text-decoration-color: #008080; font-weight: bold\">2024</span> edition <a href=\"file:///opt/anaconda3/lib/python3.11/site-packages/soccerdata/sofifa.py\" target=\"_blank\"><span style=\"color: #7f7f7f; text-decoration-color: #7f7f7f\">sofifa.py</span></a><span style=\"color: #7f7f7f; text-decoration-color: #7f7f7f\">:</span><a href=\"file:///opt/anaconda3/lib/python3.11/site-packages/soccerdata/sofifa.py#264\" target=\"_blank\"><span style=\"color: #7f7f7f; text-decoration-color: #7f7f7f\">264</span></a>\n",
       "</pre>\n"
      ],
      "text/plain": [
       "\u001b[2;36m                   \u001b[0m\u001b[2;36m \u001b[0m\u001b[34mINFO    \u001b[0m \u001b[1m[\u001b[0m\u001b[1;36m58\u001b[0m/\u001b[1;36m96\u001b[0m\u001b[1m]\u001b[0m Retrieving list of players for Angers SCO in Oct \u001b[1;36m8\u001b[0m, \u001b[1;36m2024\u001b[0m edition \u001b]8;id=955861;file:///opt/anaconda3/lib/python3.11/site-packages/soccerdata/sofifa.py\u001b\\\u001b[2msofifa.py\u001b[0m\u001b]8;;\u001b\\\u001b[2m:\u001b[0m\u001b]8;id=37651;file:///opt/anaconda3/lib/python3.11/site-packages/soccerdata/sofifa.py#264\u001b\\\u001b[2m264\u001b[0m\u001b]8;;\u001b\\\n"
      ]
     },
     "metadata": {},
     "output_type": "display_data"
    },
    {
     "data": {
      "text/html": [
       "<pre style=\"white-space:pre;overflow-x:auto;line-height:normal;font-family:Menlo,'DejaVu Sans Mono',consolas,'Courier New',monospace\"><span style=\"color: #7fbfbf; text-decoration-color: #7fbfbf\">                    </span><span style=\"color: #000080; text-decoration-color: #000080\">INFO    </span> <span style=\"font-weight: bold\">[</span><span style=\"color: #008080; text-decoration-color: #008080; font-weight: bold\">59</span>/<span style=\"color: #008080; text-decoration-color: #008080; font-weight: bold\">96</span><span style=\"font-weight: bold\">]</span> Retrieving list of players for FC Bayern München in Oct <span style=\"color: #008080; text-decoration-color: #008080; font-weight: bold\">8</span>, <span style=\"color: #008080; text-decoration-color: #008080; font-weight: bold\">2024</span>  <a href=\"file:///opt/anaconda3/lib/python3.11/site-packages/soccerdata/sofifa.py\" target=\"_blank\"><span style=\"color: #7f7f7f; text-decoration-color: #7f7f7f\">sofifa.py</span></a><span style=\"color: #7f7f7f; text-decoration-color: #7f7f7f\">:</span><a href=\"file:///opt/anaconda3/lib/python3.11/site-packages/soccerdata/sofifa.py#264\" target=\"_blank\"><span style=\"color: #7f7f7f; text-decoration-color: #7f7f7f\">264</span></a>\n",
       "<span style=\"color: #7fbfbf; text-decoration-color: #7fbfbf\">                    </span>         edition                                                                  <span style=\"color: #7f7f7f; text-decoration-color: #7f7f7f\">             </span>\n",
       "</pre>\n"
      ],
      "text/plain": [
       "\u001b[2;36m                   \u001b[0m\u001b[2;36m \u001b[0m\u001b[34mINFO    \u001b[0m \u001b[1m[\u001b[0m\u001b[1;36m59\u001b[0m/\u001b[1;36m96\u001b[0m\u001b[1m]\u001b[0m Retrieving list of players for FC Bayern München in Oct \u001b[1;36m8\u001b[0m, \u001b[1;36m2024\u001b[0m  \u001b]8;id=690896;file:///opt/anaconda3/lib/python3.11/site-packages/soccerdata/sofifa.py\u001b\\\u001b[2msofifa.py\u001b[0m\u001b]8;;\u001b\\\u001b[2m:\u001b[0m\u001b]8;id=274625;file:///opt/anaconda3/lib/python3.11/site-packages/soccerdata/sofifa.py#264\u001b\\\u001b[2m264\u001b[0m\u001b]8;;\u001b\\\n",
       "\u001b[2;36m                    \u001b[0m         edition                                                                  \u001b[2m             \u001b[0m\n"
      ]
     },
     "metadata": {},
     "output_type": "display_data"
    },
    {
     "data": {
      "text/html": [
       "<pre style=\"white-space:pre;overflow-x:auto;line-height:normal;font-family:Menlo,'DejaVu Sans Mono',consolas,'Courier New',monospace\"><span style=\"color: #7fbfbf; text-decoration-color: #7fbfbf\">                    </span><span style=\"color: #000080; text-decoration-color: #000080\">INFO    </span> <span style=\"font-weight: bold\">[</span><span style=\"color: #008080; text-decoration-color: #008080; font-weight: bold\">60</span>/<span style=\"color: #008080; text-decoration-color: #008080; font-weight: bold\">96</span><span style=\"font-weight: bold\">]</span> Retrieving list of players for Bayer <span style=\"color: #008080; text-decoration-color: #008080; font-weight: bold\">04</span> Leverkusen in Oct <span style=\"color: #008080; text-decoration-color: #008080; font-weight: bold\">8</span>,     <a href=\"file:///opt/anaconda3/lib/python3.11/site-packages/soccerdata/sofifa.py\" target=\"_blank\"><span style=\"color: #7f7f7f; text-decoration-color: #7f7f7f\">sofifa.py</span></a><span style=\"color: #7f7f7f; text-decoration-color: #7f7f7f\">:</span><a href=\"file:///opt/anaconda3/lib/python3.11/site-packages/soccerdata/sofifa.py#264\" target=\"_blank\"><span style=\"color: #7f7f7f; text-decoration-color: #7f7f7f\">264</span></a>\n",
       "<span style=\"color: #7fbfbf; text-decoration-color: #7fbfbf\">                    </span>         <span style=\"color: #008080; text-decoration-color: #008080; font-weight: bold\">2024</span> edition                                                             <span style=\"color: #7f7f7f; text-decoration-color: #7f7f7f\">             </span>\n",
       "</pre>\n"
      ],
      "text/plain": [
       "\u001b[2;36m                   \u001b[0m\u001b[2;36m \u001b[0m\u001b[34mINFO    \u001b[0m \u001b[1m[\u001b[0m\u001b[1;36m60\u001b[0m/\u001b[1;36m96\u001b[0m\u001b[1m]\u001b[0m Retrieving list of players for Bayer \u001b[1;36m04\u001b[0m Leverkusen in Oct \u001b[1;36m8\u001b[0m,     \u001b]8;id=850743;file:///opt/anaconda3/lib/python3.11/site-packages/soccerdata/sofifa.py\u001b\\\u001b[2msofifa.py\u001b[0m\u001b]8;;\u001b\\\u001b[2m:\u001b[0m\u001b]8;id=950071;file:///opt/anaconda3/lib/python3.11/site-packages/soccerdata/sofifa.py#264\u001b\\\u001b[2m264\u001b[0m\u001b]8;;\u001b\\\n",
       "\u001b[2;36m                    \u001b[0m         \u001b[1;36m2024\u001b[0m edition                                                             \u001b[2m             \u001b[0m\n"
      ]
     },
     "metadata": {},
     "output_type": "display_data"
    },
    {
     "data": {
      "text/html": [
       "<pre style=\"white-space:pre;overflow-x:auto;line-height:normal;font-family:Menlo,'DejaVu Sans Mono',consolas,'Courier New',monospace\"><span style=\"color: #7fbfbf; text-decoration-color: #7fbfbf\">                    </span><span style=\"color: #000080; text-decoration-color: #000080\">INFO    </span> <span style=\"font-weight: bold\">[</span><span style=\"color: #008080; text-decoration-color: #008080; font-weight: bold\">61</span>/<span style=\"color: #008080; text-decoration-color: #008080; font-weight: bold\">96</span><span style=\"font-weight: bold\">]</span> Retrieving list of players for Borussia Dortmund in Oct <span style=\"color: #008080; text-decoration-color: #008080; font-weight: bold\">8</span>, <span style=\"color: #008080; text-decoration-color: #008080; font-weight: bold\">2024</span>  <a href=\"file:///opt/anaconda3/lib/python3.11/site-packages/soccerdata/sofifa.py\" target=\"_blank\"><span style=\"color: #7f7f7f; text-decoration-color: #7f7f7f\">sofifa.py</span></a><span style=\"color: #7f7f7f; text-decoration-color: #7f7f7f\">:</span><a href=\"file:///opt/anaconda3/lib/python3.11/site-packages/soccerdata/sofifa.py#264\" target=\"_blank\"><span style=\"color: #7f7f7f; text-decoration-color: #7f7f7f\">264</span></a>\n",
       "<span style=\"color: #7fbfbf; text-decoration-color: #7fbfbf\">                    </span>         edition                                                                  <span style=\"color: #7f7f7f; text-decoration-color: #7f7f7f\">             </span>\n",
       "</pre>\n"
      ],
      "text/plain": [
       "\u001b[2;36m                   \u001b[0m\u001b[2;36m \u001b[0m\u001b[34mINFO    \u001b[0m \u001b[1m[\u001b[0m\u001b[1;36m61\u001b[0m/\u001b[1;36m96\u001b[0m\u001b[1m]\u001b[0m Retrieving list of players for Borussia Dortmund in Oct \u001b[1;36m8\u001b[0m, \u001b[1;36m2024\u001b[0m  \u001b]8;id=343887;file:///opt/anaconda3/lib/python3.11/site-packages/soccerdata/sofifa.py\u001b\\\u001b[2msofifa.py\u001b[0m\u001b]8;;\u001b\\\u001b[2m:\u001b[0m\u001b]8;id=223760;file:///opt/anaconda3/lib/python3.11/site-packages/soccerdata/sofifa.py#264\u001b\\\u001b[2m264\u001b[0m\u001b]8;;\u001b\\\n",
       "\u001b[2;36m                    \u001b[0m         edition                                                                  \u001b[2m             \u001b[0m\n"
      ]
     },
     "metadata": {},
     "output_type": "display_data"
    },
    {
     "data": {
      "text/html": [
       "<pre style=\"white-space:pre;overflow-x:auto;line-height:normal;font-family:Menlo,'DejaVu Sans Mono',consolas,'Courier New',monospace\"><span style=\"color: #7fbfbf; text-decoration-color: #7fbfbf\">                    </span><span style=\"color: #000080; text-decoration-color: #000080\">INFO    </span> <span style=\"font-weight: bold\">[</span><span style=\"color: #008080; text-decoration-color: #008080; font-weight: bold\">62</span>/<span style=\"color: #008080; text-decoration-color: #008080; font-weight: bold\">96</span><span style=\"font-weight: bold\">]</span> Retrieving list of players for RB Leipzig in Oct <span style=\"color: #008080; text-decoration-color: #008080; font-weight: bold\">8</span>, <span style=\"color: #008080; text-decoration-color: #008080; font-weight: bold\">2024</span> edition <a href=\"file:///opt/anaconda3/lib/python3.11/site-packages/soccerdata/sofifa.py\" target=\"_blank\"><span style=\"color: #7f7f7f; text-decoration-color: #7f7f7f\">sofifa.py</span></a><span style=\"color: #7f7f7f; text-decoration-color: #7f7f7f\">:</span><a href=\"file:///opt/anaconda3/lib/python3.11/site-packages/soccerdata/sofifa.py#264\" target=\"_blank\"><span style=\"color: #7f7f7f; text-decoration-color: #7f7f7f\">264</span></a>\n",
       "</pre>\n"
      ],
      "text/plain": [
       "\u001b[2;36m                   \u001b[0m\u001b[2;36m \u001b[0m\u001b[34mINFO    \u001b[0m \u001b[1m[\u001b[0m\u001b[1;36m62\u001b[0m/\u001b[1;36m96\u001b[0m\u001b[1m]\u001b[0m Retrieving list of players for RB Leipzig in Oct \u001b[1;36m8\u001b[0m, \u001b[1;36m2024\u001b[0m edition \u001b]8;id=771536;file:///opt/anaconda3/lib/python3.11/site-packages/soccerdata/sofifa.py\u001b\\\u001b[2msofifa.py\u001b[0m\u001b]8;;\u001b\\\u001b[2m:\u001b[0m\u001b]8;id=528401;file:///opt/anaconda3/lib/python3.11/site-packages/soccerdata/sofifa.py#264\u001b\\\u001b[2m264\u001b[0m\u001b]8;;\u001b\\\n"
      ]
     },
     "metadata": {},
     "output_type": "display_data"
    },
    {
     "data": {
      "text/html": [
       "<pre style=\"white-space:pre;overflow-x:auto;line-height:normal;font-family:Menlo,'DejaVu Sans Mono',consolas,'Courier New',monospace\"><span style=\"color: #7fbfbf; text-decoration-color: #7fbfbf\">                    </span><span style=\"color: #000080; text-decoration-color: #000080\">INFO    </span> <span style=\"font-weight: bold\">[</span><span style=\"color: #008080; text-decoration-color: #008080; font-weight: bold\">63</span>/<span style=\"color: #008080; text-decoration-color: #008080; font-weight: bold\">96</span><span style=\"font-weight: bold\">]</span> Retrieving list of players for Eintracht Frankfurt in Oct <span style=\"color: #008080; text-decoration-color: #008080; font-weight: bold\">8</span>,     <a href=\"file:///opt/anaconda3/lib/python3.11/site-packages/soccerdata/sofifa.py\" target=\"_blank\"><span style=\"color: #7f7f7f; text-decoration-color: #7f7f7f\">sofifa.py</span></a><span style=\"color: #7f7f7f; text-decoration-color: #7f7f7f\">:</span><a href=\"file:///opt/anaconda3/lib/python3.11/site-packages/soccerdata/sofifa.py#264\" target=\"_blank\"><span style=\"color: #7f7f7f; text-decoration-color: #7f7f7f\">264</span></a>\n",
       "<span style=\"color: #7fbfbf; text-decoration-color: #7fbfbf\">                    </span>         <span style=\"color: #008080; text-decoration-color: #008080; font-weight: bold\">2024</span> edition                                                             <span style=\"color: #7f7f7f; text-decoration-color: #7f7f7f\">             </span>\n",
       "</pre>\n"
      ],
      "text/plain": [
       "\u001b[2;36m                   \u001b[0m\u001b[2;36m \u001b[0m\u001b[34mINFO    \u001b[0m \u001b[1m[\u001b[0m\u001b[1;36m63\u001b[0m/\u001b[1;36m96\u001b[0m\u001b[1m]\u001b[0m Retrieving list of players for Eintracht Frankfurt in Oct \u001b[1;36m8\u001b[0m,     \u001b]8;id=372326;file:///opt/anaconda3/lib/python3.11/site-packages/soccerdata/sofifa.py\u001b\\\u001b[2msofifa.py\u001b[0m\u001b]8;;\u001b\\\u001b[2m:\u001b[0m\u001b]8;id=887768;file:///opt/anaconda3/lib/python3.11/site-packages/soccerdata/sofifa.py#264\u001b\\\u001b[2m264\u001b[0m\u001b]8;;\u001b\\\n",
       "\u001b[2;36m                    \u001b[0m         \u001b[1;36m2024\u001b[0m edition                                                             \u001b[2m             \u001b[0m\n"
      ]
     },
     "metadata": {},
     "output_type": "display_data"
    },
    {
     "data": {
      "text/html": [
       "<pre style=\"white-space:pre;overflow-x:auto;line-height:normal;font-family:Menlo,'DejaVu Sans Mono',consolas,'Courier New',monospace\"><span style=\"color: #7fbfbf; text-decoration-color: #7fbfbf\">                    </span><span style=\"color: #000080; text-decoration-color: #000080\">INFO    </span> <span style=\"font-weight: bold\">[</span><span style=\"color: #008080; text-decoration-color: #008080; font-weight: bold\">64</span>/<span style=\"color: #008080; text-decoration-color: #008080; font-weight: bold\">96</span><span style=\"font-weight: bold\">]</span> Retrieving list of players for SC Freiburg in Oct <span style=\"color: #008080; text-decoration-color: #008080; font-weight: bold\">8</span>, <span style=\"color: #008080; text-decoration-color: #008080; font-weight: bold\">2024</span>        <a href=\"file:///opt/anaconda3/lib/python3.11/site-packages/soccerdata/sofifa.py\" target=\"_blank\"><span style=\"color: #7f7f7f; text-decoration-color: #7f7f7f\">sofifa.py</span></a><span style=\"color: #7f7f7f; text-decoration-color: #7f7f7f\">:</span><a href=\"file:///opt/anaconda3/lib/python3.11/site-packages/soccerdata/sofifa.py#264\" target=\"_blank\"><span style=\"color: #7f7f7f; text-decoration-color: #7f7f7f\">264</span></a>\n",
       "<span style=\"color: #7fbfbf; text-decoration-color: #7fbfbf\">                    </span>         edition                                                                  <span style=\"color: #7f7f7f; text-decoration-color: #7f7f7f\">             </span>\n",
       "</pre>\n"
      ],
      "text/plain": [
       "\u001b[2;36m                   \u001b[0m\u001b[2;36m \u001b[0m\u001b[34mINFO    \u001b[0m \u001b[1m[\u001b[0m\u001b[1;36m64\u001b[0m/\u001b[1;36m96\u001b[0m\u001b[1m]\u001b[0m Retrieving list of players for SC Freiburg in Oct \u001b[1;36m8\u001b[0m, \u001b[1;36m2024\u001b[0m        \u001b]8;id=912425;file:///opt/anaconda3/lib/python3.11/site-packages/soccerdata/sofifa.py\u001b\\\u001b[2msofifa.py\u001b[0m\u001b]8;;\u001b\\\u001b[2m:\u001b[0m\u001b]8;id=416433;file:///opt/anaconda3/lib/python3.11/site-packages/soccerdata/sofifa.py#264\u001b\\\u001b[2m264\u001b[0m\u001b]8;;\u001b\\\n",
       "\u001b[2;36m                    \u001b[0m         edition                                                                  \u001b[2m             \u001b[0m\n"
      ]
     },
     "metadata": {},
     "output_type": "display_data"
    },
    {
     "data": {
      "text/html": [
       "<pre style=\"white-space:pre;overflow-x:auto;line-height:normal;font-family:Menlo,'DejaVu Sans Mono',consolas,'Courier New',monospace\"><span style=\"color: #7fbfbf; text-decoration-color: #7fbfbf\">                    </span><span style=\"color: #000080; text-decoration-color: #000080\">INFO    </span> <span style=\"font-weight: bold\">[</span><span style=\"color: #008080; text-decoration-color: #008080; font-weight: bold\">65</span>/<span style=\"color: #008080; text-decoration-color: #008080; font-weight: bold\">96</span><span style=\"font-weight: bold\">]</span> Retrieving list of players for VfB Stuttgart in Oct <span style=\"color: #008080; text-decoration-color: #008080; font-weight: bold\">8</span>, <span style=\"color: #008080; text-decoration-color: #008080; font-weight: bold\">2024</span>      <a href=\"file:///opt/anaconda3/lib/python3.11/site-packages/soccerdata/sofifa.py\" target=\"_blank\"><span style=\"color: #7f7f7f; text-decoration-color: #7f7f7f\">sofifa.py</span></a><span style=\"color: #7f7f7f; text-decoration-color: #7f7f7f\">:</span><a href=\"file:///opt/anaconda3/lib/python3.11/site-packages/soccerdata/sofifa.py#264\" target=\"_blank\"><span style=\"color: #7f7f7f; text-decoration-color: #7f7f7f\">264</span></a>\n",
       "<span style=\"color: #7fbfbf; text-decoration-color: #7fbfbf\">                    </span>         edition                                                                  <span style=\"color: #7f7f7f; text-decoration-color: #7f7f7f\">             </span>\n",
       "</pre>\n"
      ],
      "text/plain": [
       "\u001b[2;36m                   \u001b[0m\u001b[2;36m \u001b[0m\u001b[34mINFO    \u001b[0m \u001b[1m[\u001b[0m\u001b[1;36m65\u001b[0m/\u001b[1;36m96\u001b[0m\u001b[1m]\u001b[0m Retrieving list of players for VfB Stuttgart in Oct \u001b[1;36m8\u001b[0m, \u001b[1;36m2024\u001b[0m      \u001b]8;id=22657;file:///opt/anaconda3/lib/python3.11/site-packages/soccerdata/sofifa.py\u001b\\\u001b[2msofifa.py\u001b[0m\u001b]8;;\u001b\\\u001b[2m:\u001b[0m\u001b]8;id=505120;file:///opt/anaconda3/lib/python3.11/site-packages/soccerdata/sofifa.py#264\u001b\\\u001b[2m264\u001b[0m\u001b]8;;\u001b\\\n",
       "\u001b[2;36m                    \u001b[0m         edition                                                                  \u001b[2m             \u001b[0m\n"
      ]
     },
     "metadata": {},
     "output_type": "display_data"
    },
    {
     "data": {
      "text/html": [
       "<pre style=\"white-space:pre;overflow-x:auto;line-height:normal;font-family:Menlo,'DejaVu Sans Mono',consolas,'Courier New',monospace\"><span style=\"color: #7fbfbf; text-decoration-color: #7fbfbf\">                    </span><span style=\"color: #000080; text-decoration-color: #000080\">INFO    </span> <span style=\"font-weight: bold\">[</span><span style=\"color: #008080; text-decoration-color: #008080; font-weight: bold\">66</span>/<span style=\"color: #008080; text-decoration-color: #008080; font-weight: bold\">96</span><span style=\"font-weight: bold\">]</span> Retrieving list of players for TSG Hoffenheim in Oct <span style=\"color: #008080; text-decoration-color: #008080; font-weight: bold\">8</span>, <span style=\"color: #008080; text-decoration-color: #008080; font-weight: bold\">2024</span>     <a href=\"file:///opt/anaconda3/lib/python3.11/site-packages/soccerdata/sofifa.py\" target=\"_blank\"><span style=\"color: #7f7f7f; text-decoration-color: #7f7f7f\">sofifa.py</span></a><span style=\"color: #7f7f7f; text-decoration-color: #7f7f7f\">:</span><a href=\"file:///opt/anaconda3/lib/python3.11/site-packages/soccerdata/sofifa.py#264\" target=\"_blank\"><span style=\"color: #7f7f7f; text-decoration-color: #7f7f7f\">264</span></a>\n",
       "<span style=\"color: #7fbfbf; text-decoration-color: #7fbfbf\">                    </span>         edition                                                                  <span style=\"color: #7f7f7f; text-decoration-color: #7f7f7f\">             </span>\n",
       "</pre>\n"
      ],
      "text/plain": [
       "\u001b[2;36m                   \u001b[0m\u001b[2;36m \u001b[0m\u001b[34mINFO    \u001b[0m \u001b[1m[\u001b[0m\u001b[1;36m66\u001b[0m/\u001b[1;36m96\u001b[0m\u001b[1m]\u001b[0m Retrieving list of players for TSG Hoffenheim in Oct \u001b[1;36m8\u001b[0m, \u001b[1;36m2024\u001b[0m     \u001b]8;id=318538;file:///opt/anaconda3/lib/python3.11/site-packages/soccerdata/sofifa.py\u001b\\\u001b[2msofifa.py\u001b[0m\u001b]8;;\u001b\\\u001b[2m:\u001b[0m\u001b]8;id=130494;file:///opt/anaconda3/lib/python3.11/site-packages/soccerdata/sofifa.py#264\u001b\\\u001b[2m264\u001b[0m\u001b]8;;\u001b\\\n",
       "\u001b[2;36m                    \u001b[0m         edition                                                                  \u001b[2m             \u001b[0m\n"
      ]
     },
     "metadata": {},
     "output_type": "display_data"
    },
    {
     "data": {
      "text/html": [
       "<pre style=\"white-space:pre;overflow-x:auto;line-height:normal;font-family:Menlo,'DejaVu Sans Mono',consolas,'Courier New',monospace\"><span style=\"color: #7fbfbf; text-decoration-color: #7fbfbf\">                    </span><span style=\"color: #000080; text-decoration-color: #000080\">INFO    </span> <span style=\"font-weight: bold\">[</span><span style=\"color: #008080; text-decoration-color: #008080; font-weight: bold\">67</span>/<span style=\"color: #008080; text-decoration-color: #008080; font-weight: bold\">96</span><span style=\"font-weight: bold\">]</span> Retrieving list of players for VfL Wolfsburg in Oct <span style=\"color: #008080; text-decoration-color: #008080; font-weight: bold\">8</span>, <span style=\"color: #008080; text-decoration-color: #008080; font-weight: bold\">2024</span>      <a href=\"file:///opt/anaconda3/lib/python3.11/site-packages/soccerdata/sofifa.py\" target=\"_blank\"><span style=\"color: #7f7f7f; text-decoration-color: #7f7f7f\">sofifa.py</span></a><span style=\"color: #7f7f7f; text-decoration-color: #7f7f7f\">:</span><a href=\"file:///opt/anaconda3/lib/python3.11/site-packages/soccerdata/sofifa.py#264\" target=\"_blank\"><span style=\"color: #7f7f7f; text-decoration-color: #7f7f7f\">264</span></a>\n",
       "<span style=\"color: #7fbfbf; text-decoration-color: #7fbfbf\">                    </span>         edition                                                                  <span style=\"color: #7f7f7f; text-decoration-color: #7f7f7f\">             </span>\n",
       "</pre>\n"
      ],
      "text/plain": [
       "\u001b[2;36m                   \u001b[0m\u001b[2;36m \u001b[0m\u001b[34mINFO    \u001b[0m \u001b[1m[\u001b[0m\u001b[1;36m67\u001b[0m/\u001b[1;36m96\u001b[0m\u001b[1m]\u001b[0m Retrieving list of players for VfL Wolfsburg in Oct \u001b[1;36m8\u001b[0m, \u001b[1;36m2024\u001b[0m      \u001b]8;id=336485;file:///opt/anaconda3/lib/python3.11/site-packages/soccerdata/sofifa.py\u001b\\\u001b[2msofifa.py\u001b[0m\u001b]8;;\u001b\\\u001b[2m:\u001b[0m\u001b]8;id=765958;file:///opt/anaconda3/lib/python3.11/site-packages/soccerdata/sofifa.py#264\u001b\\\u001b[2m264\u001b[0m\u001b]8;;\u001b\\\n",
       "\u001b[2;36m                    \u001b[0m         edition                                                                  \u001b[2m             \u001b[0m\n"
      ]
     },
     "metadata": {},
     "output_type": "display_data"
    },
    {
     "data": {
      "text/html": [
       "<pre style=\"white-space:pre;overflow-x:auto;line-height:normal;font-family:Menlo,'DejaVu Sans Mono',consolas,'Courier New',monospace\"><span style=\"color: #7fbfbf; text-decoration-color: #7fbfbf\">                    </span><span style=\"color: #000080; text-decoration-color: #000080\">INFO    </span> <span style=\"font-weight: bold\">[</span><span style=\"color: #008080; text-decoration-color: #008080; font-weight: bold\">68</span>/<span style=\"color: #008080; text-decoration-color: #008080; font-weight: bold\">96</span><span style=\"font-weight: bold\">]</span> Retrieving list of players for Borussia Mönchengladbach in Oct   <a href=\"file:///opt/anaconda3/lib/python3.11/site-packages/soccerdata/sofifa.py\" target=\"_blank\"><span style=\"color: #7f7f7f; text-decoration-color: #7f7f7f\">sofifa.py</span></a><span style=\"color: #7f7f7f; text-decoration-color: #7f7f7f\">:</span><a href=\"file:///opt/anaconda3/lib/python3.11/site-packages/soccerdata/sofifa.py#264\" target=\"_blank\"><span style=\"color: #7f7f7f; text-decoration-color: #7f7f7f\">264</span></a>\n",
       "<span style=\"color: #7fbfbf; text-decoration-color: #7fbfbf\">                    </span>         <span style=\"color: #008080; text-decoration-color: #008080; font-weight: bold\">8</span>, <span style=\"color: #008080; text-decoration-color: #008080; font-weight: bold\">2024</span> edition                                                          <span style=\"color: #7f7f7f; text-decoration-color: #7f7f7f\">             </span>\n",
       "</pre>\n"
      ],
      "text/plain": [
       "\u001b[2;36m                   \u001b[0m\u001b[2;36m \u001b[0m\u001b[34mINFO    \u001b[0m \u001b[1m[\u001b[0m\u001b[1;36m68\u001b[0m/\u001b[1;36m96\u001b[0m\u001b[1m]\u001b[0m Retrieving list of players for Borussia Mönchengladbach in Oct   \u001b]8;id=123180;file:///opt/anaconda3/lib/python3.11/site-packages/soccerdata/sofifa.py\u001b\\\u001b[2msofifa.py\u001b[0m\u001b]8;;\u001b\\\u001b[2m:\u001b[0m\u001b]8;id=616850;file:///opt/anaconda3/lib/python3.11/site-packages/soccerdata/sofifa.py#264\u001b\\\u001b[2m264\u001b[0m\u001b]8;;\u001b\\\n",
       "\u001b[2;36m                    \u001b[0m         \u001b[1;36m8\u001b[0m, \u001b[1;36m2024\u001b[0m edition                                                          \u001b[2m             \u001b[0m\n"
      ]
     },
     "metadata": {},
     "output_type": "display_data"
    },
    {
     "data": {
      "text/html": [
       "<pre style=\"white-space:pre;overflow-x:auto;line-height:normal;font-family:Menlo,'DejaVu Sans Mono',consolas,'Courier New',monospace\"><span style=\"color: #7fbfbf; text-decoration-color: #7fbfbf\">                    </span><span style=\"color: #000080; text-decoration-color: #000080\">INFO    </span> <span style=\"font-weight: bold\">[</span><span style=\"color: #008080; text-decoration-color: #008080; font-weight: bold\">69</span>/<span style=\"color: #008080; text-decoration-color: #008080; font-weight: bold\">96</span><span style=\"font-weight: bold\">]</span> Retrieving list of players for FC Union Berlin in Oct <span style=\"color: #008080; text-decoration-color: #008080; font-weight: bold\">8</span>, <span style=\"color: #008080; text-decoration-color: #008080; font-weight: bold\">2024</span>    <a href=\"file:///opt/anaconda3/lib/python3.11/site-packages/soccerdata/sofifa.py\" target=\"_blank\"><span style=\"color: #7f7f7f; text-decoration-color: #7f7f7f\">sofifa.py</span></a><span style=\"color: #7f7f7f; text-decoration-color: #7f7f7f\">:</span><a href=\"file:///opt/anaconda3/lib/python3.11/site-packages/soccerdata/sofifa.py#264\" target=\"_blank\"><span style=\"color: #7f7f7f; text-decoration-color: #7f7f7f\">264</span></a>\n",
       "<span style=\"color: #7fbfbf; text-decoration-color: #7fbfbf\">                    </span>         edition                                                                  <span style=\"color: #7f7f7f; text-decoration-color: #7f7f7f\">             </span>\n",
       "</pre>\n"
      ],
      "text/plain": [
       "\u001b[2;36m                   \u001b[0m\u001b[2;36m \u001b[0m\u001b[34mINFO    \u001b[0m \u001b[1m[\u001b[0m\u001b[1;36m69\u001b[0m/\u001b[1;36m96\u001b[0m\u001b[1m]\u001b[0m Retrieving list of players for FC Union Berlin in Oct \u001b[1;36m8\u001b[0m, \u001b[1;36m2024\u001b[0m    \u001b]8;id=188487;file:///opt/anaconda3/lib/python3.11/site-packages/soccerdata/sofifa.py\u001b\\\u001b[2msofifa.py\u001b[0m\u001b]8;;\u001b\\\u001b[2m:\u001b[0m\u001b]8;id=450378;file:///opt/anaconda3/lib/python3.11/site-packages/soccerdata/sofifa.py#264\u001b\\\u001b[2m264\u001b[0m\u001b]8;;\u001b\\\n",
       "\u001b[2;36m                    \u001b[0m         edition                                                                  \u001b[2m             \u001b[0m\n"
      ]
     },
     "metadata": {},
     "output_type": "display_data"
    },
    {
     "data": {
      "text/html": [
       "<pre style=\"white-space:pre;overflow-x:auto;line-height:normal;font-family:Menlo,'DejaVu Sans Mono',consolas,'Courier New',monospace\"><span style=\"color: #7fbfbf; text-decoration-color: #7fbfbf\">                    </span><span style=\"color: #000080; text-decoration-color: #000080\">INFO    </span> <span style=\"font-weight: bold\">[</span><span style=\"color: #008080; text-decoration-color: #008080; font-weight: bold\">70</span>/<span style=\"color: #008080; text-decoration-color: #008080; font-weight: bold\">96</span><span style=\"font-weight: bold\">]</span> Retrieving list of players for Werder Bremen in Oct <span style=\"color: #008080; text-decoration-color: #008080; font-weight: bold\">8</span>, <span style=\"color: #008080; text-decoration-color: #008080; font-weight: bold\">2024</span>      <a href=\"file:///opt/anaconda3/lib/python3.11/site-packages/soccerdata/sofifa.py\" target=\"_blank\"><span style=\"color: #7f7f7f; text-decoration-color: #7f7f7f\">sofifa.py</span></a><span style=\"color: #7f7f7f; text-decoration-color: #7f7f7f\">:</span><a href=\"file:///opt/anaconda3/lib/python3.11/site-packages/soccerdata/sofifa.py#264\" target=\"_blank\"><span style=\"color: #7f7f7f; text-decoration-color: #7f7f7f\">264</span></a>\n",
       "<span style=\"color: #7fbfbf; text-decoration-color: #7fbfbf\">                    </span>         edition                                                                  <span style=\"color: #7f7f7f; text-decoration-color: #7f7f7f\">             </span>\n",
       "</pre>\n"
      ],
      "text/plain": [
       "\u001b[2;36m                   \u001b[0m\u001b[2;36m \u001b[0m\u001b[34mINFO    \u001b[0m \u001b[1m[\u001b[0m\u001b[1;36m70\u001b[0m/\u001b[1;36m96\u001b[0m\u001b[1m]\u001b[0m Retrieving list of players for Werder Bremen in Oct \u001b[1;36m8\u001b[0m, \u001b[1;36m2024\u001b[0m      \u001b]8;id=185164;file:///opt/anaconda3/lib/python3.11/site-packages/soccerdata/sofifa.py\u001b\\\u001b[2msofifa.py\u001b[0m\u001b]8;;\u001b\\\u001b[2m:\u001b[0m\u001b]8;id=264738;file:///opt/anaconda3/lib/python3.11/site-packages/soccerdata/sofifa.py#264\u001b\\\u001b[2m264\u001b[0m\u001b]8;;\u001b\\\n",
       "\u001b[2;36m                    \u001b[0m         edition                                                                  \u001b[2m             \u001b[0m\n"
      ]
     },
     "metadata": {},
     "output_type": "display_data"
    },
    {
     "data": {
      "text/html": [
       "<pre style=\"white-space:pre;overflow-x:auto;line-height:normal;font-family:Menlo,'DejaVu Sans Mono',consolas,'Courier New',monospace\"><span style=\"color: #7fbfbf; text-decoration-color: #7fbfbf\">                    </span><span style=\"color: #000080; text-decoration-color: #000080\">INFO    </span> <span style=\"font-weight: bold\">[</span><span style=\"color: #008080; text-decoration-color: #008080; font-weight: bold\">71</span>/<span style=\"color: #008080; text-decoration-color: #008080; font-weight: bold\">96</span><span style=\"font-weight: bold\">]</span> Retrieving list of players for FC Augsburg in Oct <span style=\"color: #008080; text-decoration-color: #008080; font-weight: bold\">8</span>, <span style=\"color: #008080; text-decoration-color: #008080; font-weight: bold\">2024</span>        <a href=\"file:///opt/anaconda3/lib/python3.11/site-packages/soccerdata/sofifa.py\" target=\"_blank\"><span style=\"color: #7f7f7f; text-decoration-color: #7f7f7f\">sofifa.py</span></a><span style=\"color: #7f7f7f; text-decoration-color: #7f7f7f\">:</span><a href=\"file:///opt/anaconda3/lib/python3.11/site-packages/soccerdata/sofifa.py#264\" target=\"_blank\"><span style=\"color: #7f7f7f; text-decoration-color: #7f7f7f\">264</span></a>\n",
       "<span style=\"color: #7fbfbf; text-decoration-color: #7fbfbf\">                    </span>         edition                                                                  <span style=\"color: #7f7f7f; text-decoration-color: #7f7f7f\">             </span>\n",
       "</pre>\n"
      ],
      "text/plain": [
       "\u001b[2;36m                   \u001b[0m\u001b[2;36m \u001b[0m\u001b[34mINFO    \u001b[0m \u001b[1m[\u001b[0m\u001b[1;36m71\u001b[0m/\u001b[1;36m96\u001b[0m\u001b[1m]\u001b[0m Retrieving list of players for FC Augsburg in Oct \u001b[1;36m8\u001b[0m, \u001b[1;36m2024\u001b[0m        \u001b]8;id=145137;file:///opt/anaconda3/lib/python3.11/site-packages/soccerdata/sofifa.py\u001b\\\u001b[2msofifa.py\u001b[0m\u001b]8;;\u001b\\\u001b[2m:\u001b[0m\u001b]8;id=318436;file:///opt/anaconda3/lib/python3.11/site-packages/soccerdata/sofifa.py#264\u001b\\\u001b[2m264\u001b[0m\u001b]8;;\u001b\\\n",
       "\u001b[2;36m                    \u001b[0m         edition                                                                  \u001b[2m             \u001b[0m\n"
      ]
     },
     "metadata": {},
     "output_type": "display_data"
    },
    {
     "data": {
      "text/html": [
       "<pre style=\"white-space:pre;overflow-x:auto;line-height:normal;font-family:Menlo,'DejaVu Sans Mono',consolas,'Courier New',monospace\"><span style=\"color: #7fbfbf; text-decoration-color: #7fbfbf\">                    </span><span style=\"color: #000080; text-decoration-color: #000080\">INFO    </span> <span style=\"font-weight: bold\">[</span><span style=\"color: #008080; text-decoration-color: #008080; font-weight: bold\">72</span>/<span style=\"color: #008080; text-decoration-color: #008080; font-weight: bold\">96</span><span style=\"font-weight: bold\">]</span> Retrieving list of players for FSV Mainz <span style=\"color: #008080; text-decoration-color: #008080; font-weight: bold\">05</span> in Oct <span style=\"color: #008080; text-decoration-color: #008080; font-weight: bold\">8</span>, <span style=\"color: #008080; text-decoration-color: #008080; font-weight: bold\">2024</span>       <a href=\"file:///opt/anaconda3/lib/python3.11/site-packages/soccerdata/sofifa.py\" target=\"_blank\"><span style=\"color: #7f7f7f; text-decoration-color: #7f7f7f\">sofifa.py</span></a><span style=\"color: #7f7f7f; text-decoration-color: #7f7f7f\">:</span><a href=\"file:///opt/anaconda3/lib/python3.11/site-packages/soccerdata/sofifa.py#264\" target=\"_blank\"><span style=\"color: #7f7f7f; text-decoration-color: #7f7f7f\">264</span></a>\n",
       "<span style=\"color: #7fbfbf; text-decoration-color: #7fbfbf\">                    </span>         edition                                                                  <span style=\"color: #7f7f7f; text-decoration-color: #7f7f7f\">             </span>\n",
       "</pre>\n"
      ],
      "text/plain": [
       "\u001b[2;36m                   \u001b[0m\u001b[2;36m \u001b[0m\u001b[34mINFO    \u001b[0m \u001b[1m[\u001b[0m\u001b[1;36m72\u001b[0m/\u001b[1;36m96\u001b[0m\u001b[1m]\u001b[0m Retrieving list of players for FSV Mainz \u001b[1;36m05\u001b[0m in Oct \u001b[1;36m8\u001b[0m, \u001b[1;36m2024\u001b[0m       \u001b]8;id=704181;file:///opt/anaconda3/lib/python3.11/site-packages/soccerdata/sofifa.py\u001b\\\u001b[2msofifa.py\u001b[0m\u001b]8;;\u001b\\\u001b[2m:\u001b[0m\u001b]8;id=362416;file:///opt/anaconda3/lib/python3.11/site-packages/soccerdata/sofifa.py#264\u001b\\\u001b[2m264\u001b[0m\u001b]8;;\u001b\\\n",
       "\u001b[2;36m                    \u001b[0m         edition                                                                  \u001b[2m             \u001b[0m\n"
      ]
     },
     "metadata": {},
     "output_type": "display_data"
    },
    {
     "data": {
      "text/html": [
       "<pre style=\"white-space:pre;overflow-x:auto;line-height:normal;font-family:Menlo,'DejaVu Sans Mono',consolas,'Courier New',monospace\"><span style=\"color: #7fbfbf; text-decoration-color: #7fbfbf\">                    </span><span style=\"color: #000080; text-decoration-color: #000080\">INFO    </span> <span style=\"font-weight: bold\">[</span><span style=\"color: #008080; text-decoration-color: #008080; font-weight: bold\">73</span>/<span style=\"color: #008080; text-decoration-color: #008080; font-weight: bold\">96</span><span style=\"font-weight: bold\">]</span> Retrieving list of players for Heidenheim in Oct <span style=\"color: #008080; text-decoration-color: #008080; font-weight: bold\">8</span>, <span style=\"color: #008080; text-decoration-color: #008080; font-weight: bold\">2024</span> edition <a href=\"file:///opt/anaconda3/lib/python3.11/site-packages/soccerdata/sofifa.py\" target=\"_blank\"><span style=\"color: #7f7f7f; text-decoration-color: #7f7f7f\">sofifa.py</span></a><span style=\"color: #7f7f7f; text-decoration-color: #7f7f7f\">:</span><a href=\"file:///opt/anaconda3/lib/python3.11/site-packages/soccerdata/sofifa.py#264\" target=\"_blank\"><span style=\"color: #7f7f7f; text-decoration-color: #7f7f7f\">264</span></a>\n",
       "</pre>\n"
      ],
      "text/plain": [
       "\u001b[2;36m                   \u001b[0m\u001b[2;36m \u001b[0m\u001b[34mINFO    \u001b[0m \u001b[1m[\u001b[0m\u001b[1;36m73\u001b[0m/\u001b[1;36m96\u001b[0m\u001b[1m]\u001b[0m Retrieving list of players for Heidenheim in Oct \u001b[1;36m8\u001b[0m, \u001b[1;36m2024\u001b[0m edition \u001b]8;id=380519;file:///opt/anaconda3/lib/python3.11/site-packages/soccerdata/sofifa.py\u001b\\\u001b[2msofifa.py\u001b[0m\u001b]8;;\u001b\\\u001b[2m:\u001b[0m\u001b]8;id=504431;file:///opt/anaconda3/lib/python3.11/site-packages/soccerdata/sofifa.py#264\u001b\\\u001b[2m264\u001b[0m\u001b]8;;\u001b\\\n"
      ]
     },
     "metadata": {},
     "output_type": "display_data"
    },
    {
     "data": {
      "text/html": [
       "<pre style=\"white-space:pre;overflow-x:auto;line-height:normal;font-family:Menlo,'DejaVu Sans Mono',consolas,'Courier New',monospace\"><span style=\"color: #7fbfbf; text-decoration-color: #7fbfbf\">                    </span><span style=\"color: #000080; text-decoration-color: #000080\">INFO    </span> <span style=\"font-weight: bold\">[</span><span style=\"color: #008080; text-decoration-color: #008080; font-weight: bold\">74</span>/<span style=\"color: #008080; text-decoration-color: #008080; font-weight: bold\">96</span><span style=\"font-weight: bold\">]</span> Retrieving list of players for VfL Bochum <span style=\"color: #008080; text-decoration-color: #008080; font-weight: bold\">1848</span> in Oct <span style=\"color: #008080; text-decoration-color: #008080; font-weight: bold\">8</span>, <span style=\"color: #008080; text-decoration-color: #008080; font-weight: bold\">2024</span>    <a href=\"file:///opt/anaconda3/lib/python3.11/site-packages/soccerdata/sofifa.py\" target=\"_blank\"><span style=\"color: #7f7f7f; text-decoration-color: #7f7f7f\">sofifa.py</span></a><span style=\"color: #7f7f7f; text-decoration-color: #7f7f7f\">:</span><a href=\"file:///opt/anaconda3/lib/python3.11/site-packages/soccerdata/sofifa.py#264\" target=\"_blank\"><span style=\"color: #7f7f7f; text-decoration-color: #7f7f7f\">264</span></a>\n",
       "<span style=\"color: #7fbfbf; text-decoration-color: #7fbfbf\">                    </span>         edition                                                                  <span style=\"color: #7f7f7f; text-decoration-color: #7f7f7f\">             </span>\n",
       "</pre>\n"
      ],
      "text/plain": [
       "\u001b[2;36m                   \u001b[0m\u001b[2;36m \u001b[0m\u001b[34mINFO    \u001b[0m \u001b[1m[\u001b[0m\u001b[1;36m74\u001b[0m/\u001b[1;36m96\u001b[0m\u001b[1m]\u001b[0m Retrieving list of players for VfL Bochum \u001b[1;36m1848\u001b[0m in Oct \u001b[1;36m8\u001b[0m, \u001b[1;36m2024\u001b[0m    \u001b]8;id=666296;file:///opt/anaconda3/lib/python3.11/site-packages/soccerdata/sofifa.py\u001b\\\u001b[2msofifa.py\u001b[0m\u001b]8;;\u001b\\\u001b[2m:\u001b[0m\u001b]8;id=648313;file:///opt/anaconda3/lib/python3.11/site-packages/soccerdata/sofifa.py#264\u001b\\\u001b[2m264\u001b[0m\u001b]8;;\u001b\\\n",
       "\u001b[2;36m                    \u001b[0m         edition                                                                  \u001b[2m             \u001b[0m\n"
      ]
     },
     "metadata": {},
     "output_type": "display_data"
    },
    {
     "data": {
      "text/html": [
       "<pre style=\"white-space:pre;overflow-x:auto;line-height:normal;font-family:Menlo,'DejaVu Sans Mono',consolas,'Courier New',monospace\"><span style=\"color: #7fbfbf; text-decoration-color: #7fbfbf\">                    </span><span style=\"color: #000080; text-decoration-color: #000080\">INFO    </span> <span style=\"font-weight: bold\">[</span><span style=\"color: #008080; text-decoration-color: #008080; font-weight: bold\">75</span>/<span style=\"color: #008080; text-decoration-color: #008080; font-weight: bold\">96</span><span style=\"font-weight: bold\">]</span> Retrieving list of players for St. Pauli in Oct <span style=\"color: #008080; text-decoration-color: #008080; font-weight: bold\">8</span>, <span style=\"color: #008080; text-decoration-color: #008080; font-weight: bold\">2024</span> edition  <a href=\"file:///opt/anaconda3/lib/python3.11/site-packages/soccerdata/sofifa.py\" target=\"_blank\"><span style=\"color: #7f7f7f; text-decoration-color: #7f7f7f\">sofifa.py</span></a><span style=\"color: #7f7f7f; text-decoration-color: #7f7f7f\">:</span><a href=\"file:///opt/anaconda3/lib/python3.11/site-packages/soccerdata/sofifa.py#264\" target=\"_blank\"><span style=\"color: #7f7f7f; text-decoration-color: #7f7f7f\">264</span></a>\n",
       "</pre>\n"
      ],
      "text/plain": [
       "\u001b[2;36m                   \u001b[0m\u001b[2;36m \u001b[0m\u001b[34mINFO    \u001b[0m \u001b[1m[\u001b[0m\u001b[1;36m75\u001b[0m/\u001b[1;36m96\u001b[0m\u001b[1m]\u001b[0m Retrieving list of players for St. Pauli in Oct \u001b[1;36m8\u001b[0m, \u001b[1;36m2024\u001b[0m edition  \u001b]8;id=946358;file:///opt/anaconda3/lib/python3.11/site-packages/soccerdata/sofifa.py\u001b\\\u001b[2msofifa.py\u001b[0m\u001b]8;;\u001b\\\u001b[2m:\u001b[0m\u001b]8;id=371348;file:///opt/anaconda3/lib/python3.11/site-packages/soccerdata/sofifa.py#264\u001b\\\u001b[2m264\u001b[0m\u001b]8;;\u001b\\\n"
      ]
     },
     "metadata": {},
     "output_type": "display_data"
    },
    {
     "data": {
      "text/html": [
       "<pre style=\"white-space:pre;overflow-x:auto;line-height:normal;font-family:Menlo,'DejaVu Sans Mono',consolas,'Courier New',monospace\"><span style=\"color: #7fbfbf; text-decoration-color: #7fbfbf\">                    </span><span style=\"color: #000080; text-decoration-color: #000080\">INFO    </span> <span style=\"font-weight: bold\">[</span><span style=\"color: #008080; text-decoration-color: #008080; font-weight: bold\">76</span>/<span style=\"color: #008080; text-decoration-color: #008080; font-weight: bold\">96</span><span style=\"font-weight: bold\">]</span> Retrieving list of players for Holstein Kiel in Oct <span style=\"color: #008080; text-decoration-color: #008080; font-weight: bold\">8</span>, <span style=\"color: #008080; text-decoration-color: #008080; font-weight: bold\">2024</span>      <a href=\"file:///opt/anaconda3/lib/python3.11/site-packages/soccerdata/sofifa.py\" target=\"_blank\"><span style=\"color: #7f7f7f; text-decoration-color: #7f7f7f\">sofifa.py</span></a><span style=\"color: #7f7f7f; text-decoration-color: #7f7f7f\">:</span><a href=\"file:///opt/anaconda3/lib/python3.11/site-packages/soccerdata/sofifa.py#264\" target=\"_blank\"><span style=\"color: #7f7f7f; text-decoration-color: #7f7f7f\">264</span></a>\n",
       "<span style=\"color: #7fbfbf; text-decoration-color: #7fbfbf\">                    </span>         edition                                                                  <span style=\"color: #7f7f7f; text-decoration-color: #7f7f7f\">             </span>\n",
       "</pre>\n"
      ],
      "text/plain": [
       "\u001b[2;36m                   \u001b[0m\u001b[2;36m \u001b[0m\u001b[34mINFO    \u001b[0m \u001b[1m[\u001b[0m\u001b[1;36m76\u001b[0m/\u001b[1;36m96\u001b[0m\u001b[1m]\u001b[0m Retrieving list of players for Holstein Kiel in Oct \u001b[1;36m8\u001b[0m, \u001b[1;36m2024\u001b[0m      \u001b]8;id=288777;file:///opt/anaconda3/lib/python3.11/site-packages/soccerdata/sofifa.py\u001b\\\u001b[2msofifa.py\u001b[0m\u001b]8;;\u001b\\\u001b[2m:\u001b[0m\u001b]8;id=342303;file:///opt/anaconda3/lib/python3.11/site-packages/soccerdata/sofifa.py#264\u001b\\\u001b[2m264\u001b[0m\u001b]8;;\u001b\\\n",
       "\u001b[2;36m                    \u001b[0m         edition                                                                  \u001b[2m             \u001b[0m\n"
      ]
     },
     "metadata": {},
     "output_type": "display_data"
    },
    {
     "data": {
      "text/html": [
       "<pre style=\"white-space:pre;overflow-x:auto;line-height:normal;font-family:Menlo,'DejaVu Sans Mono',consolas,'Courier New',monospace\"><span style=\"color: #7fbfbf; text-decoration-color: #7fbfbf\">                    </span><span style=\"color: #000080; text-decoration-color: #000080\">INFO    </span> <span style=\"font-weight: bold\">[</span><span style=\"color: #008080; text-decoration-color: #008080; font-weight: bold\">77</span>/<span style=\"color: #008080; text-decoration-color: #008080; font-weight: bold\">96</span><span style=\"font-weight: bold\">]</span> Retrieving list of players for Inter in Oct <span style=\"color: #008080; text-decoration-color: #008080; font-weight: bold\">8</span>, <span style=\"color: #008080; text-decoration-color: #008080; font-weight: bold\">2024</span> edition      <a href=\"file:///opt/anaconda3/lib/python3.11/site-packages/soccerdata/sofifa.py\" target=\"_blank\"><span style=\"color: #7f7f7f; text-decoration-color: #7f7f7f\">sofifa.py</span></a><span style=\"color: #7f7f7f; text-decoration-color: #7f7f7f\">:</span><a href=\"file:///opt/anaconda3/lib/python3.11/site-packages/soccerdata/sofifa.py#264\" target=\"_blank\"><span style=\"color: #7f7f7f; text-decoration-color: #7f7f7f\">264</span></a>\n",
       "</pre>\n"
      ],
      "text/plain": [
       "\u001b[2;36m                   \u001b[0m\u001b[2;36m \u001b[0m\u001b[34mINFO    \u001b[0m \u001b[1m[\u001b[0m\u001b[1;36m77\u001b[0m/\u001b[1;36m96\u001b[0m\u001b[1m]\u001b[0m Retrieving list of players for Inter in Oct \u001b[1;36m8\u001b[0m, \u001b[1;36m2024\u001b[0m edition      \u001b]8;id=178988;file:///opt/anaconda3/lib/python3.11/site-packages/soccerdata/sofifa.py\u001b\\\u001b[2msofifa.py\u001b[0m\u001b]8;;\u001b\\\u001b[2m:\u001b[0m\u001b]8;id=995824;file:///opt/anaconda3/lib/python3.11/site-packages/soccerdata/sofifa.py#264\u001b\\\u001b[2m264\u001b[0m\u001b]8;;\u001b\\\n"
      ]
     },
     "metadata": {},
     "output_type": "display_data"
    },
    {
     "data": {
      "text/html": [
       "<pre style=\"white-space:pre;overflow-x:auto;line-height:normal;font-family:Menlo,'DejaVu Sans Mono',consolas,'Courier New',monospace\"><span style=\"color: #7fbfbf; text-decoration-color: #7fbfbf\">                    </span><span style=\"color: #000080; text-decoration-color: #000080\">INFO    </span> <span style=\"font-weight: bold\">[</span><span style=\"color: #008080; text-decoration-color: #008080; font-weight: bold\">78</span>/<span style=\"color: #008080; text-decoration-color: #008080; font-weight: bold\">96</span><span style=\"font-weight: bold\">]</span> Retrieving list of players for Milan in Oct <span style=\"color: #008080; text-decoration-color: #008080; font-weight: bold\">8</span>, <span style=\"color: #008080; text-decoration-color: #008080; font-weight: bold\">2024</span> edition      <a href=\"file:///opt/anaconda3/lib/python3.11/site-packages/soccerdata/sofifa.py\" target=\"_blank\"><span style=\"color: #7f7f7f; text-decoration-color: #7f7f7f\">sofifa.py</span></a><span style=\"color: #7f7f7f; text-decoration-color: #7f7f7f\">:</span><a href=\"file:///opt/anaconda3/lib/python3.11/site-packages/soccerdata/sofifa.py#264\" target=\"_blank\"><span style=\"color: #7f7f7f; text-decoration-color: #7f7f7f\">264</span></a>\n",
       "</pre>\n"
      ],
      "text/plain": [
       "\u001b[2;36m                   \u001b[0m\u001b[2;36m \u001b[0m\u001b[34mINFO    \u001b[0m \u001b[1m[\u001b[0m\u001b[1;36m78\u001b[0m/\u001b[1;36m96\u001b[0m\u001b[1m]\u001b[0m Retrieving list of players for Milan in Oct \u001b[1;36m8\u001b[0m, \u001b[1;36m2024\u001b[0m edition      \u001b]8;id=440291;file:///opt/anaconda3/lib/python3.11/site-packages/soccerdata/sofifa.py\u001b\\\u001b[2msofifa.py\u001b[0m\u001b]8;;\u001b\\\u001b[2m:\u001b[0m\u001b]8;id=942202;file:///opt/anaconda3/lib/python3.11/site-packages/soccerdata/sofifa.py#264\u001b\\\u001b[2m264\u001b[0m\u001b]8;;\u001b\\\n"
      ]
     },
     "metadata": {},
     "output_type": "display_data"
    },
    {
     "data": {
      "text/html": [
       "<pre style=\"white-space:pre;overflow-x:auto;line-height:normal;font-family:Menlo,'DejaVu Sans Mono',consolas,'Courier New',monospace\"><span style=\"color: #7fbfbf; text-decoration-color: #7fbfbf\">                    </span><span style=\"color: #000080; text-decoration-color: #000080\">INFO    </span> <span style=\"font-weight: bold\">[</span><span style=\"color: #008080; text-decoration-color: #008080; font-weight: bold\">79</span>/<span style=\"color: #008080; text-decoration-color: #008080; font-weight: bold\">96</span><span style=\"font-weight: bold\">]</span> Retrieving list of players for Juventus in Oct <span style=\"color: #008080; text-decoration-color: #008080; font-weight: bold\">8</span>, <span style=\"color: #008080; text-decoration-color: #008080; font-weight: bold\">2024</span> edition   <a href=\"file:///opt/anaconda3/lib/python3.11/site-packages/soccerdata/sofifa.py\" target=\"_blank\"><span style=\"color: #7f7f7f; text-decoration-color: #7f7f7f\">sofifa.py</span></a><span style=\"color: #7f7f7f; text-decoration-color: #7f7f7f\">:</span><a href=\"file:///opt/anaconda3/lib/python3.11/site-packages/soccerdata/sofifa.py#264\" target=\"_blank\"><span style=\"color: #7f7f7f; text-decoration-color: #7f7f7f\">264</span></a>\n",
       "</pre>\n"
      ],
      "text/plain": [
       "\u001b[2;36m                   \u001b[0m\u001b[2;36m \u001b[0m\u001b[34mINFO    \u001b[0m \u001b[1m[\u001b[0m\u001b[1;36m79\u001b[0m/\u001b[1;36m96\u001b[0m\u001b[1m]\u001b[0m Retrieving list of players for Juventus in Oct \u001b[1;36m8\u001b[0m, \u001b[1;36m2024\u001b[0m edition   \u001b]8;id=202274;file:///opt/anaconda3/lib/python3.11/site-packages/soccerdata/sofifa.py\u001b\\\u001b[2msofifa.py\u001b[0m\u001b]8;;\u001b\\\u001b[2m:\u001b[0m\u001b]8;id=957028;file:///opt/anaconda3/lib/python3.11/site-packages/soccerdata/sofifa.py#264\u001b\\\u001b[2m264\u001b[0m\u001b]8;;\u001b\\\n"
      ]
     },
     "metadata": {},
     "output_type": "display_data"
    },
    {
     "data": {
      "text/html": [
       "<pre style=\"white-space:pre;overflow-x:auto;line-height:normal;font-family:Menlo,'DejaVu Sans Mono',consolas,'Courier New',monospace\"><span style=\"color: #7fbfbf; text-decoration-color: #7fbfbf\">                    </span><span style=\"color: #000080; text-decoration-color: #000080\">INFO    </span> <span style=\"font-weight: bold\">[</span><span style=\"color: #008080; text-decoration-color: #008080; font-weight: bold\">80</span>/<span style=\"color: #008080; text-decoration-color: #008080; font-weight: bold\">96</span><span style=\"font-weight: bold\">]</span> Retrieving list of players for Napoli in Oct <span style=\"color: #008080; text-decoration-color: #008080; font-weight: bold\">8</span>, <span style=\"color: #008080; text-decoration-color: #008080; font-weight: bold\">2024</span> edition     <a href=\"file:///opt/anaconda3/lib/python3.11/site-packages/soccerdata/sofifa.py\" target=\"_blank\"><span style=\"color: #7f7f7f; text-decoration-color: #7f7f7f\">sofifa.py</span></a><span style=\"color: #7f7f7f; text-decoration-color: #7f7f7f\">:</span><a href=\"file:///opt/anaconda3/lib/python3.11/site-packages/soccerdata/sofifa.py#264\" target=\"_blank\"><span style=\"color: #7f7f7f; text-decoration-color: #7f7f7f\">264</span></a>\n",
       "</pre>\n"
      ],
      "text/plain": [
       "\u001b[2;36m                   \u001b[0m\u001b[2;36m \u001b[0m\u001b[34mINFO    \u001b[0m \u001b[1m[\u001b[0m\u001b[1;36m80\u001b[0m/\u001b[1;36m96\u001b[0m\u001b[1m]\u001b[0m Retrieving list of players for Napoli in Oct \u001b[1;36m8\u001b[0m, \u001b[1;36m2024\u001b[0m edition     \u001b]8;id=504711;file:///opt/anaconda3/lib/python3.11/site-packages/soccerdata/sofifa.py\u001b\\\u001b[2msofifa.py\u001b[0m\u001b]8;;\u001b\\\u001b[2m:\u001b[0m\u001b]8;id=167213;file:///opt/anaconda3/lib/python3.11/site-packages/soccerdata/sofifa.py#264\u001b\\\u001b[2m264\u001b[0m\u001b]8;;\u001b\\\n"
      ]
     },
     "metadata": {},
     "output_type": "display_data"
    },
    {
     "data": {
      "text/html": [
       "<pre style=\"white-space:pre;overflow-x:auto;line-height:normal;font-family:Menlo,'DejaVu Sans Mono',consolas,'Courier New',monospace\"><span style=\"color: #7fbfbf; text-decoration-color: #7fbfbf\">                    </span><span style=\"color: #000080; text-decoration-color: #000080\">INFO    </span> <span style=\"font-weight: bold\">[</span><span style=\"color: #008080; text-decoration-color: #008080; font-weight: bold\">81</span>/<span style=\"color: #008080; text-decoration-color: #008080; font-weight: bold\">96</span><span style=\"font-weight: bold\">]</span> Retrieving list of players for Roma in Oct <span style=\"color: #008080; text-decoration-color: #008080; font-weight: bold\">8</span>, <span style=\"color: #008080; text-decoration-color: #008080; font-weight: bold\">2024</span> edition       <a href=\"file:///opt/anaconda3/lib/python3.11/site-packages/soccerdata/sofifa.py\" target=\"_blank\"><span style=\"color: #7f7f7f; text-decoration-color: #7f7f7f\">sofifa.py</span></a><span style=\"color: #7f7f7f; text-decoration-color: #7f7f7f\">:</span><a href=\"file:///opt/anaconda3/lib/python3.11/site-packages/soccerdata/sofifa.py#264\" target=\"_blank\"><span style=\"color: #7f7f7f; text-decoration-color: #7f7f7f\">264</span></a>\n",
       "</pre>\n"
      ],
      "text/plain": [
       "\u001b[2;36m                   \u001b[0m\u001b[2;36m \u001b[0m\u001b[34mINFO    \u001b[0m \u001b[1m[\u001b[0m\u001b[1;36m81\u001b[0m/\u001b[1;36m96\u001b[0m\u001b[1m]\u001b[0m Retrieving list of players for Roma in Oct \u001b[1;36m8\u001b[0m, \u001b[1;36m2024\u001b[0m edition       \u001b]8;id=87852;file:///opt/anaconda3/lib/python3.11/site-packages/soccerdata/sofifa.py\u001b\\\u001b[2msofifa.py\u001b[0m\u001b]8;;\u001b\\\u001b[2m:\u001b[0m\u001b]8;id=422988;file:///opt/anaconda3/lib/python3.11/site-packages/soccerdata/sofifa.py#264\u001b\\\u001b[2m264\u001b[0m\u001b]8;;\u001b\\\n"
      ]
     },
     "metadata": {},
     "output_type": "display_data"
    },
    {
     "data": {
      "text/html": [
       "<pre style=\"white-space:pre;overflow-x:auto;line-height:normal;font-family:Menlo,'DejaVu Sans Mono',consolas,'Courier New',monospace\"><span style=\"color: #7fbfbf; text-decoration-color: #7fbfbf\">                    </span><span style=\"color: #000080; text-decoration-color: #000080\">INFO    </span> <span style=\"font-weight: bold\">[</span><span style=\"color: #008080; text-decoration-color: #008080; font-weight: bold\">82</span>/<span style=\"color: #008080; text-decoration-color: #008080; font-weight: bold\">96</span><span style=\"font-weight: bold\">]</span> Retrieving list of players for Atalanta in Oct <span style=\"color: #008080; text-decoration-color: #008080; font-weight: bold\">8</span>, <span style=\"color: #008080; text-decoration-color: #008080; font-weight: bold\">2024</span> edition   <a href=\"file:///opt/anaconda3/lib/python3.11/site-packages/soccerdata/sofifa.py\" target=\"_blank\"><span style=\"color: #7f7f7f; text-decoration-color: #7f7f7f\">sofifa.py</span></a><span style=\"color: #7f7f7f; text-decoration-color: #7f7f7f\">:</span><a href=\"file:///opt/anaconda3/lib/python3.11/site-packages/soccerdata/sofifa.py#264\" target=\"_blank\"><span style=\"color: #7f7f7f; text-decoration-color: #7f7f7f\">264</span></a>\n",
       "</pre>\n"
      ],
      "text/plain": [
       "\u001b[2;36m                   \u001b[0m\u001b[2;36m \u001b[0m\u001b[34mINFO    \u001b[0m \u001b[1m[\u001b[0m\u001b[1;36m82\u001b[0m/\u001b[1;36m96\u001b[0m\u001b[1m]\u001b[0m Retrieving list of players for Atalanta in Oct \u001b[1;36m8\u001b[0m, \u001b[1;36m2024\u001b[0m edition   \u001b]8;id=183771;file:///opt/anaconda3/lib/python3.11/site-packages/soccerdata/sofifa.py\u001b\\\u001b[2msofifa.py\u001b[0m\u001b]8;;\u001b\\\u001b[2m:\u001b[0m\u001b]8;id=877368;file:///opt/anaconda3/lib/python3.11/site-packages/soccerdata/sofifa.py#264\u001b\\\u001b[2m264\u001b[0m\u001b]8;;\u001b\\\n"
      ]
     },
     "metadata": {},
     "output_type": "display_data"
    },
    {
     "data": {
      "text/html": [
       "<pre style=\"white-space:pre;overflow-x:auto;line-height:normal;font-family:Menlo,'DejaVu Sans Mono',consolas,'Courier New',monospace\"><span style=\"color: #7fbfbf; text-decoration-color: #7fbfbf\">                    </span><span style=\"color: #000080; text-decoration-color: #000080\">INFO    </span> <span style=\"font-weight: bold\">[</span><span style=\"color: #008080; text-decoration-color: #008080; font-weight: bold\">83</span>/<span style=\"color: #008080; text-decoration-color: #008080; font-weight: bold\">96</span><span style=\"font-weight: bold\">]</span> Retrieving list of players for Lazio in Oct <span style=\"color: #008080; text-decoration-color: #008080; font-weight: bold\">8</span>, <span style=\"color: #008080; text-decoration-color: #008080; font-weight: bold\">2024</span> edition      <a href=\"file:///opt/anaconda3/lib/python3.11/site-packages/soccerdata/sofifa.py\" target=\"_blank\"><span style=\"color: #7f7f7f; text-decoration-color: #7f7f7f\">sofifa.py</span></a><span style=\"color: #7f7f7f; text-decoration-color: #7f7f7f\">:</span><a href=\"file:///opt/anaconda3/lib/python3.11/site-packages/soccerdata/sofifa.py#264\" target=\"_blank\"><span style=\"color: #7f7f7f; text-decoration-color: #7f7f7f\">264</span></a>\n",
       "</pre>\n"
      ],
      "text/plain": [
       "\u001b[2;36m                   \u001b[0m\u001b[2;36m \u001b[0m\u001b[34mINFO    \u001b[0m \u001b[1m[\u001b[0m\u001b[1;36m83\u001b[0m/\u001b[1;36m96\u001b[0m\u001b[1m]\u001b[0m Retrieving list of players for Lazio in Oct \u001b[1;36m8\u001b[0m, \u001b[1;36m2024\u001b[0m edition      \u001b]8;id=484777;file:///opt/anaconda3/lib/python3.11/site-packages/soccerdata/sofifa.py\u001b\\\u001b[2msofifa.py\u001b[0m\u001b]8;;\u001b\\\u001b[2m:\u001b[0m\u001b]8;id=380476;file:///opt/anaconda3/lib/python3.11/site-packages/soccerdata/sofifa.py#264\u001b\\\u001b[2m264\u001b[0m\u001b]8;;\u001b\\\n"
      ]
     },
     "metadata": {},
     "output_type": "display_data"
    },
    {
     "data": {
      "text/html": [
       "<pre style=\"white-space:pre;overflow-x:auto;line-height:normal;font-family:Menlo,'DejaVu Sans Mono',consolas,'Courier New',monospace\"><span style=\"color: #7fbfbf; text-decoration-color: #7fbfbf\">                    </span><span style=\"color: #000080; text-decoration-color: #000080\">INFO    </span> <span style=\"font-weight: bold\">[</span><span style=\"color: #008080; text-decoration-color: #008080; font-weight: bold\">84</span>/<span style=\"color: #008080; text-decoration-color: #008080; font-weight: bold\">96</span><span style=\"font-weight: bold\">]</span> Retrieving list of players for Fiorentina in Oct <span style=\"color: #008080; text-decoration-color: #008080; font-weight: bold\">8</span>, <span style=\"color: #008080; text-decoration-color: #008080; font-weight: bold\">2024</span> edition <a href=\"file:///opt/anaconda3/lib/python3.11/site-packages/soccerdata/sofifa.py\" target=\"_blank\"><span style=\"color: #7f7f7f; text-decoration-color: #7f7f7f\">sofifa.py</span></a><span style=\"color: #7f7f7f; text-decoration-color: #7f7f7f\">:</span><a href=\"file:///opt/anaconda3/lib/python3.11/site-packages/soccerdata/sofifa.py#264\" target=\"_blank\"><span style=\"color: #7f7f7f; text-decoration-color: #7f7f7f\">264</span></a>\n",
       "</pre>\n"
      ],
      "text/plain": [
       "\u001b[2;36m                   \u001b[0m\u001b[2;36m \u001b[0m\u001b[34mINFO    \u001b[0m \u001b[1m[\u001b[0m\u001b[1;36m84\u001b[0m/\u001b[1;36m96\u001b[0m\u001b[1m]\u001b[0m Retrieving list of players for Fiorentina in Oct \u001b[1;36m8\u001b[0m, \u001b[1;36m2024\u001b[0m edition \u001b]8;id=976840;file:///opt/anaconda3/lib/python3.11/site-packages/soccerdata/sofifa.py\u001b\\\u001b[2msofifa.py\u001b[0m\u001b]8;;\u001b\\\u001b[2m:\u001b[0m\u001b]8;id=169257;file:///opt/anaconda3/lib/python3.11/site-packages/soccerdata/sofifa.py#264\u001b\\\u001b[2m264\u001b[0m\u001b]8;;\u001b\\\n"
      ]
     },
     "metadata": {},
     "output_type": "display_data"
    },
    {
     "data": {
      "text/html": [
       "<pre style=\"white-space:pre;overflow-x:auto;line-height:normal;font-family:Menlo,'DejaVu Sans Mono',consolas,'Courier New',monospace\"><span style=\"color: #7fbfbf; text-decoration-color: #7fbfbf\">                    </span><span style=\"color: #000080; text-decoration-color: #000080\">INFO    </span> <span style=\"font-weight: bold\">[</span><span style=\"color: #008080; text-decoration-color: #008080; font-weight: bold\">85</span>/<span style=\"color: #008080; text-decoration-color: #008080; font-weight: bold\">96</span><span style=\"font-weight: bold\">]</span> Retrieving list of players for Bologna in Oct <span style=\"color: #008080; text-decoration-color: #008080; font-weight: bold\">8</span>, <span style=\"color: #008080; text-decoration-color: #008080; font-weight: bold\">2024</span> edition    <a href=\"file:///opt/anaconda3/lib/python3.11/site-packages/soccerdata/sofifa.py\" target=\"_blank\"><span style=\"color: #7f7f7f; text-decoration-color: #7f7f7f\">sofifa.py</span></a><span style=\"color: #7f7f7f; text-decoration-color: #7f7f7f\">:</span><a href=\"file:///opt/anaconda3/lib/python3.11/site-packages/soccerdata/sofifa.py#264\" target=\"_blank\"><span style=\"color: #7f7f7f; text-decoration-color: #7f7f7f\">264</span></a>\n",
       "</pre>\n"
      ],
      "text/plain": [
       "\u001b[2;36m                   \u001b[0m\u001b[2;36m \u001b[0m\u001b[34mINFO    \u001b[0m \u001b[1m[\u001b[0m\u001b[1;36m85\u001b[0m/\u001b[1;36m96\u001b[0m\u001b[1m]\u001b[0m Retrieving list of players for Bologna in Oct \u001b[1;36m8\u001b[0m, \u001b[1;36m2024\u001b[0m edition    \u001b]8;id=611803;file:///opt/anaconda3/lib/python3.11/site-packages/soccerdata/sofifa.py\u001b\\\u001b[2msofifa.py\u001b[0m\u001b]8;;\u001b\\\u001b[2m:\u001b[0m\u001b]8;id=503774;file:///opt/anaconda3/lib/python3.11/site-packages/soccerdata/sofifa.py#264\u001b\\\u001b[2m264\u001b[0m\u001b]8;;\u001b\\\n"
      ]
     },
     "metadata": {},
     "output_type": "display_data"
    },
    {
     "data": {
      "text/html": [
       "<pre style=\"white-space:pre;overflow-x:auto;line-height:normal;font-family:Menlo,'DejaVu Sans Mono',consolas,'Courier New',monospace\"><span style=\"color: #7fbfbf; text-decoration-color: #7fbfbf\">                    </span><span style=\"color: #000080; text-decoration-color: #000080\">INFO    </span> <span style=\"font-weight: bold\">[</span><span style=\"color: #008080; text-decoration-color: #008080; font-weight: bold\">86</span>/<span style=\"color: #008080; text-decoration-color: #008080; font-weight: bold\">96</span><span style=\"font-weight: bold\">]</span> Retrieving list of players for Torino in Oct <span style=\"color: #008080; text-decoration-color: #008080; font-weight: bold\">8</span>, <span style=\"color: #008080; text-decoration-color: #008080; font-weight: bold\">2024</span> edition     <a href=\"file:///opt/anaconda3/lib/python3.11/site-packages/soccerdata/sofifa.py\" target=\"_blank\"><span style=\"color: #7f7f7f; text-decoration-color: #7f7f7f\">sofifa.py</span></a><span style=\"color: #7f7f7f; text-decoration-color: #7f7f7f\">:</span><a href=\"file:///opt/anaconda3/lib/python3.11/site-packages/soccerdata/sofifa.py#264\" target=\"_blank\"><span style=\"color: #7f7f7f; text-decoration-color: #7f7f7f\">264</span></a>\n",
       "</pre>\n"
      ],
      "text/plain": [
       "\u001b[2;36m                   \u001b[0m\u001b[2;36m \u001b[0m\u001b[34mINFO    \u001b[0m \u001b[1m[\u001b[0m\u001b[1;36m86\u001b[0m/\u001b[1;36m96\u001b[0m\u001b[1m]\u001b[0m Retrieving list of players for Torino in Oct \u001b[1;36m8\u001b[0m, \u001b[1;36m2024\u001b[0m edition     \u001b]8;id=810172;file:///opt/anaconda3/lib/python3.11/site-packages/soccerdata/sofifa.py\u001b\\\u001b[2msofifa.py\u001b[0m\u001b]8;;\u001b\\\u001b[2m:\u001b[0m\u001b]8;id=113384;file:///opt/anaconda3/lib/python3.11/site-packages/soccerdata/sofifa.py#264\u001b\\\u001b[2m264\u001b[0m\u001b]8;;\u001b\\\n"
      ]
     },
     "metadata": {},
     "output_type": "display_data"
    },
    {
     "data": {
      "text/html": [
       "<pre style=\"white-space:pre;overflow-x:auto;line-height:normal;font-family:Menlo,'DejaVu Sans Mono',consolas,'Courier New',monospace\"><span style=\"color: #7fbfbf; text-decoration-color: #7fbfbf\">                    </span><span style=\"color: #000080; text-decoration-color: #000080\">INFO    </span> <span style=\"font-weight: bold\">[</span><span style=\"color: #008080; text-decoration-color: #008080; font-weight: bold\">87</span>/<span style=\"color: #008080; text-decoration-color: #008080; font-weight: bold\">96</span><span style=\"font-weight: bold\">]</span> Retrieving list of players for Monza in Oct <span style=\"color: #008080; text-decoration-color: #008080; font-weight: bold\">8</span>, <span style=\"color: #008080; text-decoration-color: #008080; font-weight: bold\">2024</span> edition      <a href=\"file:///opt/anaconda3/lib/python3.11/site-packages/soccerdata/sofifa.py\" target=\"_blank\"><span style=\"color: #7f7f7f; text-decoration-color: #7f7f7f\">sofifa.py</span></a><span style=\"color: #7f7f7f; text-decoration-color: #7f7f7f\">:</span><a href=\"file:///opt/anaconda3/lib/python3.11/site-packages/soccerdata/sofifa.py#264\" target=\"_blank\"><span style=\"color: #7f7f7f; text-decoration-color: #7f7f7f\">264</span></a>\n",
       "</pre>\n"
      ],
      "text/plain": [
       "\u001b[2;36m                   \u001b[0m\u001b[2;36m \u001b[0m\u001b[34mINFO    \u001b[0m \u001b[1m[\u001b[0m\u001b[1;36m87\u001b[0m/\u001b[1;36m96\u001b[0m\u001b[1m]\u001b[0m Retrieving list of players for Monza in Oct \u001b[1;36m8\u001b[0m, \u001b[1;36m2024\u001b[0m edition      \u001b]8;id=714683;file:///opt/anaconda3/lib/python3.11/site-packages/soccerdata/sofifa.py\u001b\\\u001b[2msofifa.py\u001b[0m\u001b]8;;\u001b\\\u001b[2m:\u001b[0m\u001b]8;id=232403;file:///opt/anaconda3/lib/python3.11/site-packages/soccerdata/sofifa.py#264\u001b\\\u001b[2m264\u001b[0m\u001b]8;;\u001b\\\n"
      ]
     },
     "metadata": {},
     "output_type": "display_data"
    },
    {
     "data": {
      "text/html": [
       "<pre style=\"white-space:pre;overflow-x:auto;line-height:normal;font-family:Menlo,'DejaVu Sans Mono',consolas,'Courier New',monospace\"><span style=\"color: #7fbfbf; text-decoration-color: #7fbfbf\">                    </span><span style=\"color: #000080; text-decoration-color: #000080\">INFO    </span> <span style=\"font-weight: bold\">[</span><span style=\"color: #008080; text-decoration-color: #008080; font-weight: bold\">88</span>/<span style=\"color: #008080; text-decoration-color: #008080; font-weight: bold\">96</span><span style=\"font-weight: bold\">]</span> Retrieving list of players for Como in Oct <span style=\"color: #008080; text-decoration-color: #008080; font-weight: bold\">8</span>, <span style=\"color: #008080; text-decoration-color: #008080; font-weight: bold\">2024</span> edition       <a href=\"file:///opt/anaconda3/lib/python3.11/site-packages/soccerdata/sofifa.py\" target=\"_blank\"><span style=\"color: #7f7f7f; text-decoration-color: #7f7f7f\">sofifa.py</span></a><span style=\"color: #7f7f7f; text-decoration-color: #7f7f7f\">:</span><a href=\"file:///opt/anaconda3/lib/python3.11/site-packages/soccerdata/sofifa.py#264\" target=\"_blank\"><span style=\"color: #7f7f7f; text-decoration-color: #7f7f7f\">264</span></a>\n",
       "</pre>\n"
      ],
      "text/plain": [
       "\u001b[2;36m                   \u001b[0m\u001b[2;36m \u001b[0m\u001b[34mINFO    \u001b[0m \u001b[1m[\u001b[0m\u001b[1;36m88\u001b[0m/\u001b[1;36m96\u001b[0m\u001b[1m]\u001b[0m Retrieving list of players for Como in Oct \u001b[1;36m8\u001b[0m, \u001b[1;36m2024\u001b[0m edition       \u001b]8;id=371094;file:///opt/anaconda3/lib/python3.11/site-packages/soccerdata/sofifa.py\u001b\\\u001b[2msofifa.py\u001b[0m\u001b]8;;\u001b\\\u001b[2m:\u001b[0m\u001b]8;id=387324;file:///opt/anaconda3/lib/python3.11/site-packages/soccerdata/sofifa.py#264\u001b\\\u001b[2m264\u001b[0m\u001b]8;;\u001b\\\n"
      ]
     },
     "metadata": {},
     "output_type": "display_data"
    },
    {
     "data": {
      "text/html": [
       "<pre style=\"white-space:pre;overflow-x:auto;line-height:normal;font-family:Menlo,'DejaVu Sans Mono',consolas,'Courier New',monospace\"><span style=\"color: #7fbfbf; text-decoration-color: #7fbfbf\">                    </span><span style=\"color: #000080; text-decoration-color: #000080\">INFO    </span> <span style=\"font-weight: bold\">[</span><span style=\"color: #008080; text-decoration-color: #008080; font-weight: bold\">89</span>/<span style=\"color: #008080; text-decoration-color: #008080; font-weight: bold\">96</span><span style=\"font-weight: bold\">]</span> Retrieving list of players for Parma in Oct <span style=\"color: #008080; text-decoration-color: #008080; font-weight: bold\">8</span>, <span style=\"color: #008080; text-decoration-color: #008080; font-weight: bold\">2024</span> edition      <a href=\"file:///opt/anaconda3/lib/python3.11/site-packages/soccerdata/sofifa.py\" target=\"_blank\"><span style=\"color: #7f7f7f; text-decoration-color: #7f7f7f\">sofifa.py</span></a><span style=\"color: #7f7f7f; text-decoration-color: #7f7f7f\">:</span><a href=\"file:///opt/anaconda3/lib/python3.11/site-packages/soccerdata/sofifa.py#264\" target=\"_blank\"><span style=\"color: #7f7f7f; text-decoration-color: #7f7f7f\">264</span></a>\n",
       "</pre>\n"
      ],
      "text/plain": [
       "\u001b[2;36m                   \u001b[0m\u001b[2;36m \u001b[0m\u001b[34mINFO    \u001b[0m \u001b[1m[\u001b[0m\u001b[1;36m89\u001b[0m/\u001b[1;36m96\u001b[0m\u001b[1m]\u001b[0m Retrieving list of players for Parma in Oct \u001b[1;36m8\u001b[0m, \u001b[1;36m2024\u001b[0m edition      \u001b]8;id=386314;file:///opt/anaconda3/lib/python3.11/site-packages/soccerdata/sofifa.py\u001b\\\u001b[2msofifa.py\u001b[0m\u001b]8;;\u001b\\\u001b[2m:\u001b[0m\u001b]8;id=111172;file:///opt/anaconda3/lib/python3.11/site-packages/soccerdata/sofifa.py#264\u001b\\\u001b[2m264\u001b[0m\u001b]8;;\u001b\\\n"
      ]
     },
     "metadata": {},
     "output_type": "display_data"
    },
    {
     "data": {
      "text/html": [
       "<pre style=\"white-space:pre;overflow-x:auto;line-height:normal;font-family:Menlo,'DejaVu Sans Mono',consolas,'Courier New',monospace\"><span style=\"color: #7fbfbf; text-decoration-color: #7fbfbf\">                    </span><span style=\"color: #000080; text-decoration-color: #000080\">INFO    </span> <span style=\"font-weight: bold\">[</span><span style=\"color: #008080; text-decoration-color: #008080; font-weight: bold\">90</span>/<span style=\"color: #008080; text-decoration-color: #008080; font-weight: bold\">96</span><span style=\"font-weight: bold\">]</span> Retrieving list of players for Cagliari in Oct <span style=\"color: #008080; text-decoration-color: #008080; font-weight: bold\">8</span>, <span style=\"color: #008080; text-decoration-color: #008080; font-weight: bold\">2024</span> edition   <a href=\"file:///opt/anaconda3/lib/python3.11/site-packages/soccerdata/sofifa.py\" target=\"_blank\"><span style=\"color: #7f7f7f; text-decoration-color: #7f7f7f\">sofifa.py</span></a><span style=\"color: #7f7f7f; text-decoration-color: #7f7f7f\">:</span><a href=\"file:///opt/anaconda3/lib/python3.11/site-packages/soccerdata/sofifa.py#264\" target=\"_blank\"><span style=\"color: #7f7f7f; text-decoration-color: #7f7f7f\">264</span></a>\n",
       "</pre>\n"
      ],
      "text/plain": [
       "\u001b[2;36m                   \u001b[0m\u001b[2;36m \u001b[0m\u001b[34mINFO    \u001b[0m \u001b[1m[\u001b[0m\u001b[1;36m90\u001b[0m/\u001b[1;36m96\u001b[0m\u001b[1m]\u001b[0m Retrieving list of players for Cagliari in Oct \u001b[1;36m8\u001b[0m, \u001b[1;36m2024\u001b[0m edition   \u001b]8;id=198749;file:///opt/anaconda3/lib/python3.11/site-packages/soccerdata/sofifa.py\u001b\\\u001b[2msofifa.py\u001b[0m\u001b]8;;\u001b\\\u001b[2m:\u001b[0m\u001b]8;id=876851;file:///opt/anaconda3/lib/python3.11/site-packages/soccerdata/sofifa.py#264\u001b\\\u001b[2m264\u001b[0m\u001b]8;;\u001b\\\n"
      ]
     },
     "metadata": {},
     "output_type": "display_data"
    },
    {
     "data": {
      "text/html": [
       "<pre style=\"white-space:pre;overflow-x:auto;line-height:normal;font-family:Menlo,'DejaVu Sans Mono',consolas,'Courier New',monospace\"><span style=\"color: #7fbfbf; text-decoration-color: #7fbfbf\">                    </span><span style=\"color: #000080; text-decoration-color: #000080\">INFO    </span> <span style=\"font-weight: bold\">[</span><span style=\"color: #008080; text-decoration-color: #008080; font-weight: bold\">91</span>/<span style=\"color: #008080; text-decoration-color: #008080; font-weight: bold\">96</span><span style=\"font-weight: bold\">]</span> Retrieving list of players for Lecce in Oct <span style=\"color: #008080; text-decoration-color: #008080; font-weight: bold\">8</span>, <span style=\"color: #008080; text-decoration-color: #008080; font-weight: bold\">2024</span> edition      <a href=\"file:///opt/anaconda3/lib/python3.11/site-packages/soccerdata/sofifa.py\" target=\"_blank\"><span style=\"color: #7f7f7f; text-decoration-color: #7f7f7f\">sofifa.py</span></a><span style=\"color: #7f7f7f; text-decoration-color: #7f7f7f\">:</span><a href=\"file:///opt/anaconda3/lib/python3.11/site-packages/soccerdata/sofifa.py#264\" target=\"_blank\"><span style=\"color: #7f7f7f; text-decoration-color: #7f7f7f\">264</span></a>\n",
       "</pre>\n"
      ],
      "text/plain": [
       "\u001b[2;36m                   \u001b[0m\u001b[2;36m \u001b[0m\u001b[34mINFO    \u001b[0m \u001b[1m[\u001b[0m\u001b[1;36m91\u001b[0m/\u001b[1;36m96\u001b[0m\u001b[1m]\u001b[0m Retrieving list of players for Lecce in Oct \u001b[1;36m8\u001b[0m, \u001b[1;36m2024\u001b[0m edition      \u001b]8;id=383538;file:///opt/anaconda3/lib/python3.11/site-packages/soccerdata/sofifa.py\u001b\\\u001b[2msofifa.py\u001b[0m\u001b]8;;\u001b\\\u001b[2m:\u001b[0m\u001b]8;id=105485;file:///opt/anaconda3/lib/python3.11/site-packages/soccerdata/sofifa.py#264\u001b\\\u001b[2m264\u001b[0m\u001b]8;;\u001b\\\n"
      ]
     },
     "metadata": {},
     "output_type": "display_data"
    },
    {
     "data": {
      "text/html": [
       "<pre style=\"white-space:pre;overflow-x:auto;line-height:normal;font-family:Menlo,'DejaVu Sans Mono',consolas,'Courier New',monospace\"><span style=\"color: #7fbfbf; text-decoration-color: #7fbfbf\">                    </span><span style=\"color: #000080; text-decoration-color: #000080\">INFO    </span> <span style=\"font-weight: bold\">[</span><span style=\"color: #008080; text-decoration-color: #008080; font-weight: bold\">92</span>/<span style=\"color: #008080; text-decoration-color: #008080; font-weight: bold\">96</span><span style=\"font-weight: bold\">]</span> Retrieving list of players for Hellas Verona in Oct <span style=\"color: #008080; text-decoration-color: #008080; font-weight: bold\">8</span>, <span style=\"color: #008080; text-decoration-color: #008080; font-weight: bold\">2024</span>      <a href=\"file:///opt/anaconda3/lib/python3.11/site-packages/soccerdata/sofifa.py\" target=\"_blank\"><span style=\"color: #7f7f7f; text-decoration-color: #7f7f7f\">sofifa.py</span></a><span style=\"color: #7f7f7f; text-decoration-color: #7f7f7f\">:</span><a href=\"file:///opt/anaconda3/lib/python3.11/site-packages/soccerdata/sofifa.py#264\" target=\"_blank\"><span style=\"color: #7f7f7f; text-decoration-color: #7f7f7f\">264</span></a>\n",
       "<span style=\"color: #7fbfbf; text-decoration-color: #7fbfbf\">                    </span>         edition                                                                  <span style=\"color: #7f7f7f; text-decoration-color: #7f7f7f\">             </span>\n",
       "</pre>\n"
      ],
      "text/plain": [
       "\u001b[2;36m                   \u001b[0m\u001b[2;36m \u001b[0m\u001b[34mINFO    \u001b[0m \u001b[1m[\u001b[0m\u001b[1;36m92\u001b[0m/\u001b[1;36m96\u001b[0m\u001b[1m]\u001b[0m Retrieving list of players for Hellas Verona in Oct \u001b[1;36m8\u001b[0m, \u001b[1;36m2024\u001b[0m      \u001b]8;id=161369;file:///opt/anaconda3/lib/python3.11/site-packages/soccerdata/sofifa.py\u001b\\\u001b[2msofifa.py\u001b[0m\u001b]8;;\u001b\\\u001b[2m:\u001b[0m\u001b]8;id=324959;file:///opt/anaconda3/lib/python3.11/site-packages/soccerdata/sofifa.py#264\u001b\\\u001b[2m264\u001b[0m\u001b]8;;\u001b\\\n",
       "\u001b[2;36m                    \u001b[0m         edition                                                                  \u001b[2m             \u001b[0m\n"
      ]
     },
     "metadata": {},
     "output_type": "display_data"
    },
    {
     "data": {
      "text/html": [
       "<pre style=\"white-space:pre;overflow-x:auto;line-height:normal;font-family:Menlo,'DejaVu Sans Mono',consolas,'Courier New',monospace\"><span style=\"color: #7fbfbf; text-decoration-color: #7fbfbf\">                    </span><span style=\"color: #000080; text-decoration-color: #000080\">INFO    </span> <span style=\"font-weight: bold\">[</span><span style=\"color: #008080; text-decoration-color: #008080; font-weight: bold\">93</span>/<span style=\"color: #008080; text-decoration-color: #008080; font-weight: bold\">96</span><span style=\"font-weight: bold\">]</span> Retrieving list of players for Genoa in Oct <span style=\"color: #008080; text-decoration-color: #008080; font-weight: bold\">8</span>, <span style=\"color: #008080; text-decoration-color: #008080; font-weight: bold\">2024</span> edition      <a href=\"file:///opt/anaconda3/lib/python3.11/site-packages/soccerdata/sofifa.py\" target=\"_blank\"><span style=\"color: #7f7f7f; text-decoration-color: #7f7f7f\">sofifa.py</span></a><span style=\"color: #7f7f7f; text-decoration-color: #7f7f7f\">:</span><a href=\"file:///opt/anaconda3/lib/python3.11/site-packages/soccerdata/sofifa.py#264\" target=\"_blank\"><span style=\"color: #7f7f7f; text-decoration-color: #7f7f7f\">264</span></a>\n",
       "</pre>\n"
      ],
      "text/plain": [
       "\u001b[2;36m                   \u001b[0m\u001b[2;36m \u001b[0m\u001b[34mINFO    \u001b[0m \u001b[1m[\u001b[0m\u001b[1;36m93\u001b[0m/\u001b[1;36m96\u001b[0m\u001b[1m]\u001b[0m Retrieving list of players for Genoa in Oct \u001b[1;36m8\u001b[0m, \u001b[1;36m2024\u001b[0m edition      \u001b]8;id=252425;file:///opt/anaconda3/lib/python3.11/site-packages/soccerdata/sofifa.py\u001b\\\u001b[2msofifa.py\u001b[0m\u001b]8;;\u001b\\\u001b[2m:\u001b[0m\u001b]8;id=852168;file:///opt/anaconda3/lib/python3.11/site-packages/soccerdata/sofifa.py#264\u001b\\\u001b[2m264\u001b[0m\u001b]8;;\u001b\\\n"
      ]
     },
     "metadata": {},
     "output_type": "display_data"
    },
    {
     "data": {
      "text/html": [
       "<pre style=\"white-space:pre;overflow-x:auto;line-height:normal;font-family:Menlo,'DejaVu Sans Mono',consolas,'Courier New',monospace\"><span style=\"color: #7fbfbf; text-decoration-color: #7fbfbf\">                    </span><span style=\"color: #000080; text-decoration-color: #000080\">INFO    </span> <span style=\"font-weight: bold\">[</span><span style=\"color: #008080; text-decoration-color: #008080; font-weight: bold\">94</span>/<span style=\"color: #008080; text-decoration-color: #008080; font-weight: bold\">96</span><span style=\"font-weight: bold\">]</span> Retrieving list of players for Udinese in Oct <span style=\"color: #008080; text-decoration-color: #008080; font-weight: bold\">8</span>, <span style=\"color: #008080; text-decoration-color: #008080; font-weight: bold\">2024</span> edition    <a href=\"file:///opt/anaconda3/lib/python3.11/site-packages/soccerdata/sofifa.py\" target=\"_blank\"><span style=\"color: #7f7f7f; text-decoration-color: #7f7f7f\">sofifa.py</span></a><span style=\"color: #7f7f7f; text-decoration-color: #7f7f7f\">:</span><a href=\"file:///opt/anaconda3/lib/python3.11/site-packages/soccerdata/sofifa.py#264\" target=\"_blank\"><span style=\"color: #7f7f7f; text-decoration-color: #7f7f7f\">264</span></a>\n",
       "</pre>\n"
      ],
      "text/plain": [
       "\u001b[2;36m                   \u001b[0m\u001b[2;36m \u001b[0m\u001b[34mINFO    \u001b[0m \u001b[1m[\u001b[0m\u001b[1;36m94\u001b[0m/\u001b[1;36m96\u001b[0m\u001b[1m]\u001b[0m Retrieving list of players for Udinese in Oct \u001b[1;36m8\u001b[0m, \u001b[1;36m2024\u001b[0m edition    \u001b]8;id=14242;file:///opt/anaconda3/lib/python3.11/site-packages/soccerdata/sofifa.py\u001b\\\u001b[2msofifa.py\u001b[0m\u001b]8;;\u001b\\\u001b[2m:\u001b[0m\u001b]8;id=101586;file:///opt/anaconda3/lib/python3.11/site-packages/soccerdata/sofifa.py#264\u001b\\\u001b[2m264\u001b[0m\u001b]8;;\u001b\\\n"
      ]
     },
     "metadata": {},
     "output_type": "display_data"
    },
    {
     "data": {
      "text/html": [
       "<pre style=\"white-space:pre;overflow-x:auto;line-height:normal;font-family:Menlo,'DejaVu Sans Mono',consolas,'Courier New',monospace\"><span style=\"color: #7fbfbf; text-decoration-color: #7fbfbf\">                    </span><span style=\"color: #000080; text-decoration-color: #000080\">INFO    </span> <span style=\"font-weight: bold\">[</span><span style=\"color: #008080; text-decoration-color: #008080; font-weight: bold\">95</span>/<span style=\"color: #008080; text-decoration-color: #008080; font-weight: bold\">96</span><span style=\"font-weight: bold\">]</span> Retrieving list of players for Empoli in Oct <span style=\"color: #008080; text-decoration-color: #008080; font-weight: bold\">8</span>, <span style=\"color: #008080; text-decoration-color: #008080; font-weight: bold\">2024</span> edition     <a href=\"file:///opt/anaconda3/lib/python3.11/site-packages/soccerdata/sofifa.py\" target=\"_blank\"><span style=\"color: #7f7f7f; text-decoration-color: #7f7f7f\">sofifa.py</span></a><span style=\"color: #7f7f7f; text-decoration-color: #7f7f7f\">:</span><a href=\"file:///opt/anaconda3/lib/python3.11/site-packages/soccerdata/sofifa.py#264\" target=\"_blank\"><span style=\"color: #7f7f7f; text-decoration-color: #7f7f7f\">264</span></a>\n",
       "</pre>\n"
      ],
      "text/plain": [
       "\u001b[2;36m                   \u001b[0m\u001b[2;36m \u001b[0m\u001b[34mINFO    \u001b[0m \u001b[1m[\u001b[0m\u001b[1;36m95\u001b[0m/\u001b[1;36m96\u001b[0m\u001b[1m]\u001b[0m Retrieving list of players for Empoli in Oct \u001b[1;36m8\u001b[0m, \u001b[1;36m2024\u001b[0m edition     \u001b]8;id=373012;file:///opt/anaconda3/lib/python3.11/site-packages/soccerdata/sofifa.py\u001b\\\u001b[2msofifa.py\u001b[0m\u001b]8;;\u001b\\\u001b[2m:\u001b[0m\u001b]8;id=236485;file:///opt/anaconda3/lib/python3.11/site-packages/soccerdata/sofifa.py#264\u001b\\\u001b[2m264\u001b[0m\u001b]8;;\u001b\\\n"
      ]
     },
     "metadata": {},
     "output_type": "display_data"
    },
    {
     "data": {
      "text/html": [
       "<pre style=\"white-space:pre;overflow-x:auto;line-height:normal;font-family:Menlo,'DejaVu Sans Mono',consolas,'Courier New',monospace\"><span style=\"color: #7fbfbf; text-decoration-color: #7fbfbf\">                    </span><span style=\"color: #000080; text-decoration-color: #000080\">INFO    </span> <span style=\"font-weight: bold\">[</span><span style=\"color: #008080; text-decoration-color: #008080; font-weight: bold\">96</span>/<span style=\"color: #008080; text-decoration-color: #008080; font-weight: bold\">96</span><span style=\"font-weight: bold\">]</span> Retrieving list of players for Venezia in Oct <span style=\"color: #008080; text-decoration-color: #008080; font-weight: bold\">8</span>, <span style=\"color: #008080; text-decoration-color: #008080; font-weight: bold\">2024</span> edition    <a href=\"file:///opt/anaconda3/lib/python3.11/site-packages/soccerdata/sofifa.py\" target=\"_blank\"><span style=\"color: #7f7f7f; text-decoration-color: #7f7f7f\">sofifa.py</span></a><span style=\"color: #7f7f7f; text-decoration-color: #7f7f7f\">:</span><a href=\"file:///opt/anaconda3/lib/python3.11/site-packages/soccerdata/sofifa.py#264\" target=\"_blank\"><span style=\"color: #7f7f7f; text-decoration-color: #7f7f7f\">264</span></a>\n",
       "</pre>\n"
      ],
      "text/plain": [
       "\u001b[2;36m                   \u001b[0m\u001b[2;36m \u001b[0m\u001b[34mINFO    \u001b[0m \u001b[1m[\u001b[0m\u001b[1;36m96\u001b[0m/\u001b[1;36m96\u001b[0m\u001b[1m]\u001b[0m Retrieving list of players for Venezia in Oct \u001b[1;36m8\u001b[0m, \u001b[1;36m2024\u001b[0m edition    \u001b]8;id=958235;file:///opt/anaconda3/lib/python3.11/site-packages/soccerdata/sofifa.py\u001b\\\u001b[2msofifa.py\u001b[0m\u001b]8;;\u001b\\\u001b[2m:\u001b[0m\u001b]8;id=680581;file:///opt/anaconda3/lib/python3.11/site-packages/soccerdata/sofifa.py#264\u001b\\\u001b[2m264\u001b[0m\u001b]8;;\u001b\\\n"
      ]
     },
     "metadata": {},
     "output_type": "display_data"
    },
    {
     "data": {
      "text/html": [
       "<div>\n",
       "<style scoped>\n",
       "    .dataframe tbody tr th:only-of-type {\n",
       "        vertical-align: middle;\n",
       "    }\n",
       "\n",
       "    .dataframe tbody tr th {\n",
       "        vertical-align: top;\n",
       "    }\n",
       "\n",
       "    .dataframe thead th {\n",
       "        text-align: right;\n",
       "    }\n",
       "</style>\n",
       "<table border=\"1\" class=\"dataframe\">\n",
       "  <thead>\n",
       "    <tr style=\"text-align: right;\">\n",
       "      <th></th>\n",
       "      <th>player</th>\n",
       "      <th>team</th>\n",
       "      <th>league</th>\n",
       "      <th>fifa_edition</th>\n",
       "      <th>update</th>\n",
       "    </tr>\n",
       "    <tr>\n",
       "      <th>player_id</th>\n",
       "      <th></th>\n",
       "      <th></th>\n",
       "      <th></th>\n",
       "      <th></th>\n",
       "      <th></th>\n",
       "    </tr>\n",
       "  </thead>\n",
       "  <tbody>\n",
       "    <tr>\n",
       "      <th>210257</th>\n",
       "      <td>Ederson Santana de Moraes</td>\n",
       "      <td>Manchester City</td>\n",
       "      <td>ENG-Premier League</td>\n",
       "      <td>FC 25</td>\n",
       "      <td>Oct 8, 2024</td>\n",
       "    </tr>\n",
       "    <tr>\n",
       "      <th>271574</th>\n",
       "      <td>Rico Lewis</td>\n",
       "      <td>Manchester City</td>\n",
       "      <td>ENG-Premier League</td>\n",
       "      <td>FC 25</td>\n",
       "      <td>Oct 8, 2024</td>\n",
       "    </tr>\n",
       "    <tr>\n",
       "      <th>239818</th>\n",
       "      <td>Rúben Santos Gato Alves Dias</td>\n",
       "      <td>Manchester City</td>\n",
       "      <td>ENG-Premier League</td>\n",
       "      <td>FC 25</td>\n",
       "      <td>Oct 8, 2024</td>\n",
       "    </tr>\n",
       "    <tr>\n",
       "      <th>229237</th>\n",
       "      <td>Manuel Akanji</td>\n",
       "      <td>Manchester City</td>\n",
       "      <td>ENG-Premier League</td>\n",
       "      <td>FC 25</td>\n",
       "      <td>Oct 8, 2024</td>\n",
       "    </tr>\n",
       "    <tr>\n",
       "      <th>251517</th>\n",
       "      <td>Joško Gvardiol</td>\n",
       "      <td>Manchester City</td>\n",
       "      <td>ENG-Premier League</td>\n",
       "      <td>FC 25</td>\n",
       "      <td>Oct 8, 2024</td>\n",
       "    </tr>\n",
       "  </tbody>\n",
       "</table>\n",
       "</div>"
      ],
      "text/plain": [
       "                                 player             team              league  \\\n",
       "player_id                                                                      \n",
       "210257        Ederson Santana de Moraes  Manchester City  ENG-Premier League   \n",
       "271574                       Rico Lewis  Manchester City  ENG-Premier League   \n",
       "239818     Rúben Santos Gato Alves Dias  Manchester City  ENG-Premier League   \n",
       "229237                    Manuel Akanji  Manchester City  ENG-Premier League   \n",
       "251517                   Joško Gvardiol  Manchester City  ENG-Premier League   \n",
       "\n",
       "          fifa_edition       update  \n",
       "player_id                            \n",
       "210257           FC 25  Oct 8, 2024  \n",
       "271574           FC 25  Oct 8, 2024  \n",
       "239818           FC 25  Oct 8, 2024  \n",
       "229237           FC 25  Oct 8, 2024  \n",
       "251517           FC 25  Oct 8, 2024  "
      ]
     },
     "execution_count": 29,
     "metadata": {},
     "output_type": "execute_result"
    }
   ],
   "source": [
    "players = sofifa.read_players()\n",
    "players.head()"
   ]
  },
  {
   "cell_type": "code",
   "execution_count": 46,
   "metadata": {},
   "outputs": [],
   "source": [
    "players.to_csv(\"players.csv\", header=True)"
   ]
  },
  {
   "cell_type": "code",
   "execution_count": 47,
   "metadata": {},
   "outputs": [],
   "source": [
    "players = pd.read_csv(\"players.csv\")"
   ]
  },
  {
   "cell_type": "code",
   "execution_count": 48,
   "metadata": {},
   "outputs": [
    {
     "data": {
      "text/html": [
       "<div>\n",
       "<style scoped>\n",
       "    .dataframe tbody tr th:only-of-type {\n",
       "        vertical-align: middle;\n",
       "    }\n",
       "\n",
       "    .dataframe tbody tr th {\n",
       "        vertical-align: top;\n",
       "    }\n",
       "\n",
       "    .dataframe thead th {\n",
       "        text-align: right;\n",
       "    }\n",
       "</style>\n",
       "<table border=\"1\" class=\"dataframe\">\n",
       "  <thead>\n",
       "    <tr style=\"text-align: right;\">\n",
       "      <th></th>\n",
       "      <th>Unnamed: 0</th>\n",
       "      <th>player_id</th>\n",
       "      <th>player</th>\n",
       "      <th>team</th>\n",
       "      <th>league</th>\n",
       "      <th>fifa_edition</th>\n",
       "      <th>update</th>\n",
       "    </tr>\n",
       "  </thead>\n",
       "  <tbody>\n",
       "    <tr>\n",
       "      <th>0</th>\n",
       "      <td>0</td>\n",
       "      <td>210257</td>\n",
       "      <td>Ederson Santana de Moraes</td>\n",
       "      <td>Manchester City</td>\n",
       "      <td>ENG-Premier League</td>\n",
       "      <td>FC 25</td>\n",
       "      <td>Oct 8, 2024</td>\n",
       "    </tr>\n",
       "    <tr>\n",
       "      <th>1</th>\n",
       "      <td>1</td>\n",
       "      <td>271574</td>\n",
       "      <td>Rico Lewis</td>\n",
       "      <td>Manchester City</td>\n",
       "      <td>ENG-Premier League</td>\n",
       "      <td>FC 25</td>\n",
       "      <td>Oct 8, 2024</td>\n",
       "    </tr>\n",
       "    <tr>\n",
       "      <th>2</th>\n",
       "      <td>2</td>\n",
       "      <td>239818</td>\n",
       "      <td>Rúben Santos Gato Alves Dias</td>\n",
       "      <td>Manchester City</td>\n",
       "      <td>ENG-Premier League</td>\n",
       "      <td>FC 25</td>\n",
       "      <td>Oct 8, 2024</td>\n",
       "    </tr>\n",
       "    <tr>\n",
       "      <th>3</th>\n",
       "      <td>3</td>\n",
       "      <td>229237</td>\n",
       "      <td>Manuel Akanji</td>\n",
       "      <td>Manchester City</td>\n",
       "      <td>ENG-Premier League</td>\n",
       "      <td>FC 25</td>\n",
       "      <td>Oct 8, 2024</td>\n",
       "    </tr>\n",
       "    <tr>\n",
       "      <th>4</th>\n",
       "      <td>4</td>\n",
       "      <td>251517</td>\n",
       "      <td>Joško Gvardiol</td>\n",
       "      <td>Manchester City</td>\n",
       "      <td>ENG-Premier League</td>\n",
       "      <td>FC 25</td>\n",
       "      <td>Oct 8, 2024</td>\n",
       "    </tr>\n",
       "  </tbody>\n",
       "</table>\n",
       "</div>"
      ],
      "text/plain": [
       "   Unnamed: 0  player_id                        player             team  \\\n",
       "0           0     210257     Ederson Santana de Moraes  Manchester City   \n",
       "1           1     271574                    Rico Lewis  Manchester City   \n",
       "2           2     239818  Rúben Santos Gato Alves Dias  Manchester City   \n",
       "3           3     229237                 Manuel Akanji  Manchester City   \n",
       "4           4     251517                Joško Gvardiol  Manchester City   \n",
       "\n",
       "               league fifa_edition       update  \n",
       "0  ENG-Premier League        FC 25  Oct 8, 2024  \n",
       "1  ENG-Premier League        FC 25  Oct 8, 2024  \n",
       "2  ENG-Premier League        FC 25  Oct 8, 2024  \n",
       "3  ENG-Premier League        FC 25  Oct 8, 2024  \n",
       "4  ENG-Premier League        FC 25  Oct 8, 2024  "
      ]
     },
     "execution_count": 48,
     "metadata": {},
     "output_type": "execute_result"
    }
   ],
   "source": [
    "players.head()"
   ]
  },
  {
   "cell_type": "code",
   "execution_count": 49,
   "metadata": {},
   "outputs": [],
   "source": [
    "player_ratings = pd.read_csv('player_ratings.csv')"
   ]
  },
  {
   "cell_type": "code",
   "execution_count": null,
   "metadata": {},
   "outputs": [],
   "source": []
  },
  {
   "cell_type": "code",
   "execution_count": 50,
   "metadata": {},
   "outputs": [
    {
     "data": {
      "text/html": [
       "<div>\n",
       "<style scoped>\n",
       "    .dataframe tbody tr th:only-of-type {\n",
       "        vertical-align: middle;\n",
       "    }\n",
       "\n",
       "    .dataframe tbody tr th {\n",
       "        vertical-align: top;\n",
       "    }\n",
       "\n",
       "    .dataframe thead th {\n",
       "        text-align: right;\n",
       "    }\n",
       "</style>\n",
       "<table border=\"1\" class=\"dataframe\">\n",
       "  <thead>\n",
       "    <tr style=\"text-align: right;\">\n",
       "      <th></th>\n",
       "      <th>player</th>\n",
       "      <th>fifa_edition</th>\n",
       "      <th>update</th>\n",
       "      <th>overallrating</th>\n",
       "      <th>potential</th>\n",
       "      <th>crossing</th>\n",
       "      <th>finishing</th>\n",
       "      <th>headingaccuracy</th>\n",
       "      <th>shortpassing</th>\n",
       "      <th>volleys</th>\n",
       "      <th>dribbling</th>\n",
       "      <th>curve</th>\n",
       "      <th>fk_accuracy</th>\n",
       "      <th>longpassing</th>\n",
       "      <th>ballcontrol</th>\n",
       "      <th>acceleration</th>\n",
       "      <th>sprintspeed</th>\n",
       "      <th>agility</th>\n",
       "      <th>reactions</th>\n",
       "      <th>balance</th>\n",
       "      <th>shotpower</th>\n",
       "      <th>jumping</th>\n",
       "      <th>stamina</th>\n",
       "      <th>strength</th>\n",
       "      <th>longshots</th>\n",
       "      <th>aggression</th>\n",
       "      <th>interceptions</th>\n",
       "      <th>positioning</th>\n",
       "      <th>vision</th>\n",
       "      <th>penalties</th>\n",
       "      <th>composure</th>\n",
       "      <th>defensiveawareness</th>\n",
       "      <th>standingtackle</th>\n",
       "      <th>slidingtackle</th>\n",
       "      <th>gk_diving</th>\n",
       "      <th>gk_handling</th>\n",
       "      <th>gk_kicking</th>\n",
       "      <th>gk_positioning</th>\n",
       "      <th>gk_reflexes</th>\n",
       "    </tr>\n",
       "  </thead>\n",
       "  <tbody>\n",
       "    <tr>\n",
       "      <th>0</th>\n",
       "      <td>Aaron Buchanan Hickey</td>\n",
       "      <td>FC 25</td>\n",
       "      <td>Oct 8, 2024</td>\n",
       "      <td>76</td>\n",
       "      <td>82</td>\n",
       "      <td>74</td>\n",
       "      <td>48</td>\n",
       "      <td>67</td>\n",
       "      <td>75</td>\n",
       "      <td>56</td>\n",
       "      <td>77</td>\n",
       "      <td>61</td>\n",
       "      <td>40</td>\n",
       "      <td>68</td>\n",
       "      <td>74</td>\n",
       "      <td>72</td>\n",
       "      <td>75</td>\n",
       "      <td>71</td>\n",
       "      <td>73</td>\n",
       "      <td>64</td>\n",
       "      <td>63</td>\n",
       "      <td>71</td>\n",
       "      <td>78</td>\n",
       "      <td>59</td>\n",
       "      <td>60</td>\n",
       "      <td>78</td>\n",
       "      <td>72</td>\n",
       "      <td>13</td>\n",
       "      <td>67</td>\n",
       "      <td>47</td>\n",
       "      <td>72</td>\n",
       "      <td>75</td>\n",
       "      <td>76</td>\n",
       "      <td>75</td>\n",
       "      <td>13</td>\n",
       "      <td>14</td>\n",
       "      <td>8</td>\n",
       "      <td>13</td>\n",
       "      <td>5</td>\n",
       "    </tr>\n",
       "    <tr>\n",
       "      <th>1</th>\n",
       "      <td>Aaron Christopher Ramsdale</td>\n",
       "      <td>FC 25</td>\n",
       "      <td>Oct 8, 2024</td>\n",
       "      <td>81</td>\n",
       "      <td>83</td>\n",
       "      <td>15</td>\n",
       "      <td>14</td>\n",
       "      <td>15</td>\n",
       "      <td>54</td>\n",
       "      <td>16</td>\n",
       "      <td>18</td>\n",
       "      <td>17</td>\n",
       "      <td>16</td>\n",
       "      <td>53</td>\n",
       "      <td>33</td>\n",
       "      <td>47</td>\n",
       "      <td>50</td>\n",
       "      <td>53</td>\n",
       "      <td>79</td>\n",
       "      <td>49</td>\n",
       "      <td>64</td>\n",
       "      <td>64</td>\n",
       "      <td>35</td>\n",
       "      <td>59</td>\n",
       "      <td>15</td>\n",
       "      <td>35</td>\n",
       "      <td>24</td>\n",
       "      <td>78</td>\n",
       "      <td>65</td>\n",
       "      <td>25</td>\n",
       "      <td>62</td>\n",
       "      <td>20</td>\n",
       "      <td>16</td>\n",
       "      <td>15</td>\n",
       "      <td>81</td>\n",
       "      <td>79</td>\n",
       "      <td>85</td>\n",
       "      <td>78</td>\n",
       "      <td>83</td>\n",
       "    </tr>\n",
       "    <tr>\n",
       "      <th>2</th>\n",
       "      <td>Aaron Ciammaglichella</td>\n",
       "      <td>FC 25</td>\n",
       "      <td>Oct 8, 2024</td>\n",
       "      <td>62</td>\n",
       "      <td>79</td>\n",
       "      <td>52</td>\n",
       "      <td>60</td>\n",
       "      <td>58</td>\n",
       "      <td>63</td>\n",
       "      <td>62</td>\n",
       "      <td>62</td>\n",
       "      <td>58</td>\n",
       "      <td>60</td>\n",
       "      <td>61</td>\n",
       "      <td>63</td>\n",
       "      <td>70</td>\n",
       "      <td>63</td>\n",
       "      <td>70</td>\n",
       "      <td>65</td>\n",
       "      <td>67</td>\n",
       "      <td>56</td>\n",
       "      <td>63</td>\n",
       "      <td>60</td>\n",
       "      <td>55</td>\n",
       "      <td>52</td>\n",
       "      <td>62</td>\n",
       "      <td>63</td>\n",
       "      <td>11</td>\n",
       "      <td>62</td>\n",
       "      <td>48</td>\n",
       "      <td>56</td>\n",
       "      <td>62</td>\n",
       "      <td>65</td>\n",
       "      <td>62</td>\n",
       "      <td>6</td>\n",
       "      <td>13</td>\n",
       "      <td>6</td>\n",
       "      <td>11</td>\n",
       "      <td>7</td>\n",
       "    </tr>\n",
       "    <tr>\n",
       "      <th>3</th>\n",
       "      <td>Aaron Cresswell</td>\n",
       "      <td>FC 25</td>\n",
       "      <td>Oct 8, 2024</td>\n",
       "      <td>74</td>\n",
       "      <td>74</td>\n",
       "      <td>83</td>\n",
       "      <td>53</td>\n",
       "      <td>67</td>\n",
       "      <td>75</td>\n",
       "      <td>48</td>\n",
       "      <td>75</td>\n",
       "      <td>80</td>\n",
       "      <td>76</td>\n",
       "      <td>67</td>\n",
       "      <td>76</td>\n",
       "      <td>64</td>\n",
       "      <td>54</td>\n",
       "      <td>63</td>\n",
       "      <td>75</td>\n",
       "      <td>75</td>\n",
       "      <td>70</td>\n",
       "      <td>69</td>\n",
       "      <td>57</td>\n",
       "      <td>61</td>\n",
       "      <td>66</td>\n",
       "      <td>70</td>\n",
       "      <td>75</td>\n",
       "      <td>9</td>\n",
       "      <td>68</td>\n",
       "      <td>59</td>\n",
       "      <td>71</td>\n",
       "      <td>76</td>\n",
       "      <td>77</td>\n",
       "      <td>76</td>\n",
       "      <td>14</td>\n",
       "      <td>7</td>\n",
       "      <td>9</td>\n",
       "      <td>9</td>\n",
       "      <td>12</td>\n",
       "    </tr>\n",
       "    <tr>\n",
       "      <th>4</th>\n",
       "      <td>Aaron Malouda</td>\n",
       "      <td>FC 25</td>\n",
       "      <td>Oct 8, 2024</td>\n",
       "      <td>62</td>\n",
       "      <td>79</td>\n",
       "      <td>50</td>\n",
       "      <td>52</td>\n",
       "      <td>34</td>\n",
       "      <td>61</td>\n",
       "      <td>51</td>\n",
       "      <td>69</td>\n",
       "      <td>58</td>\n",
       "      <td>59</td>\n",
       "      <td>54</td>\n",
       "      <td>68</td>\n",
       "      <td>71</td>\n",
       "      <td>76</td>\n",
       "      <td>67</td>\n",
       "      <td>54</td>\n",
       "      <td>70</td>\n",
       "      <td>61</td>\n",
       "      <td>48</td>\n",
       "      <td>34</td>\n",
       "      <td>50</td>\n",
       "      <td>49</td>\n",
       "      <td>42</td>\n",
       "      <td>21</td>\n",
       "      <td>6</td>\n",
       "      <td>60</td>\n",
       "      <td>54</td>\n",
       "      <td>62</td>\n",
       "      <td>34</td>\n",
       "      <td>35</td>\n",
       "      <td>41</td>\n",
       "      <td>11</td>\n",
       "      <td>10</td>\n",
       "      <td>7</td>\n",
       "      <td>6</td>\n",
       "      <td>8</td>\n",
       "    </tr>\n",
       "  </tbody>\n",
       "</table>\n",
       "</div>"
      ],
      "text/plain": [
       "                       player fifa_edition       update  overallrating  \\\n",
       "0       Aaron Buchanan Hickey        FC 25  Oct 8, 2024             76   \n",
       "1  Aaron Christopher Ramsdale        FC 25  Oct 8, 2024             81   \n",
       "2       Aaron Ciammaglichella        FC 25  Oct 8, 2024             62   \n",
       "3             Aaron Cresswell        FC 25  Oct 8, 2024             74   \n",
       "4               Aaron Malouda        FC 25  Oct 8, 2024             62   \n",
       "\n",
       "   potential  crossing  finishing  headingaccuracy  shortpassing  volleys  \\\n",
       "0         82        74         48               67            75       56   \n",
       "1         83        15         14               15            54       16   \n",
       "2         79        52         60               58            63       62   \n",
       "3         74        83         53               67            75       48   \n",
       "4         79        50         52               34            61       51   \n",
       "\n",
       "   dribbling  curve  fk_accuracy  longpassing  ballcontrol  acceleration  \\\n",
       "0         77     61           40           68           74            72   \n",
       "1         18     17           16           53           33            47   \n",
       "2         62     58           60           61           63            70   \n",
       "3         75     80           76           67           76            64   \n",
       "4         69     58           59           54           68            71   \n",
       "\n",
       "   sprintspeed  agility  reactions  balance  shotpower  jumping  stamina  \\\n",
       "0           75       71         73       64         63       71       78   \n",
       "1           50       53         79       49         64       64       35   \n",
       "2           63       70         65       67         56       63       60   \n",
       "3           54       63         75       75         70       69       57   \n",
       "4           76       67         54       70         61       48       34   \n",
       "\n",
       "   strength  longshots  aggression  interceptions  positioning  vision  \\\n",
       "0        59         60          78             72           13      67   \n",
       "1        59         15          35             24           78      65   \n",
       "2        55         52          62             63           11      62   \n",
       "3        61         66          70             75            9      68   \n",
       "4        50         49          42             21            6      60   \n",
       "\n",
       "   penalties  composure  defensiveawareness  standingtackle  slidingtackle  \\\n",
       "0         47         72                  75              76             75   \n",
       "1         25         62                  20              16             15   \n",
       "2         48         56                  62              65             62   \n",
       "3         59         71                  76              77             76   \n",
       "4         54         62                  34              35             41   \n",
       "\n",
       "   gk_diving  gk_handling  gk_kicking  gk_positioning  gk_reflexes  \n",
       "0         13           14           8              13            5  \n",
       "1         81           79          85              78           83  \n",
       "2          6           13           6              11            7  \n",
       "3         14            7           9               9           12  \n",
       "4         11           10           7               6            8  "
      ]
     },
     "execution_count": 50,
     "metadata": {},
     "output_type": "execute_result"
    }
   ],
   "source": [
    "player_ratings.head()"
   ]
  },
  {
   "cell_type": "code",
   "execution_count": 51,
   "metadata": {},
   "outputs": [
    {
     "name": "stdout",
     "output_type": "stream",
     "text": [
      "<class 'pandas.core.frame.DataFrame'>\n",
      "RangeIndex: 2731 entries, 0 to 2730\n",
      "Data columns (total 39 columns):\n",
      " #   Column              Non-Null Count  Dtype \n",
      "---  ------              --------------  ----- \n",
      " 0   player              2731 non-null   object\n",
      " 1   fifa_edition        2731 non-null   object\n",
      " 2   update              2731 non-null   object\n",
      " 3   overallrating       2731 non-null   int64 \n",
      " 4   potential           2731 non-null   int64 \n",
      " 5   crossing            2731 non-null   int64 \n",
      " 6   finishing           2731 non-null   int64 \n",
      " 7   headingaccuracy     2731 non-null   int64 \n",
      " 8   shortpassing        2731 non-null   int64 \n",
      " 9   volleys             2731 non-null   int64 \n",
      " 10  dribbling           2731 non-null   int64 \n",
      " 11  curve               2731 non-null   int64 \n",
      " 12  fk_accuracy         2731 non-null   int64 \n",
      " 13  longpassing         2731 non-null   int64 \n",
      " 14  ballcontrol         2731 non-null   int64 \n",
      " 15  acceleration        2731 non-null   int64 \n",
      " 16  sprintspeed         2731 non-null   int64 \n",
      " 17  agility             2731 non-null   int64 \n",
      " 18  reactions           2731 non-null   int64 \n",
      " 19  balance             2731 non-null   int64 \n",
      " 20  shotpower           2731 non-null   int64 \n",
      " 21  jumping             2731 non-null   int64 \n",
      " 22  stamina             2731 non-null   int64 \n",
      " 23  strength            2731 non-null   int64 \n",
      " 24  longshots           2731 non-null   int64 \n",
      " 25  aggression          2731 non-null   int64 \n",
      " 26  interceptions       2731 non-null   int64 \n",
      " 27  positioning         2731 non-null   int64 \n",
      " 28  vision              2731 non-null   int64 \n",
      " 29  penalties           2731 non-null   int64 \n",
      " 30  composure           2731 non-null   int64 \n",
      " 31  defensiveawareness  2731 non-null   int64 \n",
      " 32  standingtackle      2731 non-null   int64 \n",
      " 33  slidingtackle       2731 non-null   int64 \n",
      " 34  gk_diving           2731 non-null   int64 \n",
      " 35  gk_handling         2731 non-null   int64 \n",
      " 36  gk_kicking          2731 non-null   int64 \n",
      " 37  gk_positioning      2731 non-null   int64 \n",
      " 38  gk_reflexes         2731 non-null   int64 \n",
      "dtypes: int64(36), object(3)\n",
      "memory usage: 832.2+ KB\n"
     ]
    }
   ],
   "source": [
    "player_ratings.info()"
   ]
  },
  {
   "cell_type": "code",
   "execution_count": 52,
   "metadata": {},
   "outputs": [
    {
     "name": "stdout",
     "output_type": "stream",
     "text": [
      "      Unnamed: 0  player_id                     player             team  \\\n",
      "0              0     210257  Ederson Santana de Moraes  Manchester City   \n",
      "1              4     251517             Joško Gvardiol  Manchester City   \n",
      "2              5     207410              Mateo Kovačić  Manchester City   \n",
      "3              7     186942             İlkay Gündoğan  Manchester City   \n",
      "4              8     270409  Sávio Moreira de Oliveira  Manchester City   \n",
      "...          ...        ...                        ...              ...   \n",
      "1550        2722     247289   Bruno Oliveira Bertinato          Venezia   \n",
      "1551        2723     230636              Matteo Grandi          Venezia   \n",
      "1552        2725      73379               Issa Doumbia          Venezia   \n",
      "1553        2726     258533    Bjarki Steinn Bjarkason          Venezia   \n",
      "1554        2729      74664             Saad El Haddad          Venezia   \n",
      "\n",
      "                  league fifa_edition_x     update_x fifa_edition_y  \\\n",
      "0     ENG-Premier League          FC 25  Oct 8, 2024          FC 25   \n",
      "1     ENG-Premier League          FC 25  Oct 8, 2024          FC 25   \n",
      "2     ENG-Premier League          FC 25  Oct 8, 2024          FC 25   \n",
      "3     ENG-Premier League          FC 25  Oct 8, 2024          FC 25   \n",
      "4     ENG-Premier League          FC 25  Oct 8, 2024          FC 25   \n",
      "...                  ...            ...          ...            ...   \n",
      "1550         ITA-Serie A          FC 25  Oct 8, 2024          FC 25   \n",
      "1551         ITA-Serie A          FC 25  Oct 8, 2024          FC 25   \n",
      "1552         ITA-Serie A          FC 25  Oct 8, 2024          FC 25   \n",
      "1553         ITA-Serie A          FC 25  Oct 8, 2024          FC 25   \n",
      "1554         ITA-Serie A          FC 25  Oct 8, 2024          FC 25   \n",
      "\n",
      "         update_y  overallrating  potential  crossing  finishing  \\\n",
      "0     Oct 8, 2024             88         88        20         14   \n",
      "1     Oct 8, 2024             83         87        72         64   \n",
      "2     Oct 8, 2024             83         83        73         58   \n",
      "3     Oct 8, 2024             87         87        77         85   \n",
      "4     Oct 8, 2024             82         88        80         76   \n",
      "...           ...            ...        ...       ...        ...   \n",
      "1550  Oct 8, 2024             63         67        13          7   \n",
      "1551  Oct 8, 2024             60         60        17         15   \n",
      "1552  Oct 8, 2024             67         76        58         50   \n",
      "1553  Oct 8, 2024             65         71        61         60   \n",
      "1554  Oct 8, 2024             54         70        45         51   \n",
      "\n",
      "      headingaccuracy  shortpassing  volleys  dribbling  curve  fk_accuracy  \\\n",
      "0                  14            65       18         30     39           20   \n",
      "1                  78            80       60         79     74           59   \n",
      "2                  42            89       76         87     78           70   \n",
      "3                  50            89       75         88     86           80   \n",
      "4                  45            81       63         87     78           55   \n",
      "...               ...           ...      ...        ...    ...          ...   \n",
      "1550               10            15        8          7     12           13   \n",
      "1551               20            32       16         19     18           13   \n",
      "1552               54            74       53         73     58           53   \n",
      "1553               42            67       51         68     53           51   \n",
      "1554               40            53       38         58     42           40   \n",
      "\n",
      "      longpassing  ballcontrol  acceleration  sprintspeed  agility  reactions  \\\n",
      "0              68           45            64           63       60         88   \n",
      "1              76           81            80           79       68         84   \n",
      "2              84           88            75           64       86         84   \n",
      "3              85           91            65           60       77         86   \n",
      "4              70           83            90           87       90         77   \n",
      "...           ...          ...           ...          ...      ...        ...   \n",
      "1550           21           18            18           20       22         58   \n",
      "1551           19           24            44           47       33         61   \n",
      "1552           69           75            69           69       60         63   \n",
      "1553           62           68            62           63       66         60   \n",
      "1554           52           59            57           69       50         48   \n",
      "\n",
      "      balance  shotpower  jumping  stamina  strength  longshots  aggression  \\\n",
      "0          48         68       79       44        78         18          38   \n",
      "1          67         81       90       79        83         72          86   \n",
      "2          84         78       63       75        66         76          77   \n",
      "3          77         81       67       75        73         84          70   \n",
      "4          76         69       62       73        45         67          45   \n",
      "...       ...        ...      ...      ...       ...        ...         ...   \n",
      "1550       20         44       48       21        56          8          25   \n",
      "1551       55         45       55       40        54         12          27   \n",
      "1552       66         60       65       55        66         51          58   \n",
      "1553       77         60       50       59        55         54          52   \n",
      "1554       72         50       42       45        51         53          42   \n",
      "\n",
      "      interceptions  positioning  vision  penalties  composure  \\\n",
      "0                27           86      70         65         70   \n",
      "1                82            9      68         61         81   \n",
      "2                76            7      82         59         84   \n",
      "3                78            5      86         80         87   \n",
      "4                25            9      79         62         74   \n",
      "...             ...          ...     ...        ...        ...   \n",
      "1550              7           62      53         13         23   \n",
      "1551             25           61      29         23         52   \n",
      "1552             50           12      66         55         61   \n",
      "1553             49           10      63         55         58   \n",
      "1554             33            9      53         51         56   \n",
      "\n",
      "      defensiveawareness  standingtackle  slidingtackle  gk_diving  \\\n",
      "0                     29              15              8         87   \n",
      "1                     83              84             84          5   \n",
      "2                     73              75             68          9   \n",
      "3                     77              78             67         11   \n",
      "4                     26              30             36          9   \n",
      "...                  ...             ...            ...        ...   \n",
      "1550                   8              11             12         64   \n",
      "1551                  13              13             19         59   \n",
      "1552                  57              66             50          8   \n",
      "1553                  48              50             44         13   \n",
      "1554                  40              34             33         10   \n",
      "\n",
      "      gk_handling  gk_kicking  gk_positioning  gk_reflexes  \n",
      "0              82          91              86           87  \n",
      "1               8           6               9           11  \n",
      "2               5           6               7            7  \n",
      "3              14           5               5           13  \n",
      "4              12           8               9           12  \n",
      "...           ...         ...             ...          ...  \n",
      "1550           62          58              62           63  \n",
      "1551           57          60              61           56  \n",
      "1552            7           9              12           10  \n",
      "1553           13           6              10           10  \n",
      "1554           13          13               9            9  \n",
      "\n",
      "[1555 rows x 45 columns]\n"
     ]
    }
   ],
   "source": [
    "import pandas as pd\n",
    "\n",
    "# Load your datasets (assuming they are already loaded as players_df and player_ratings_df)\n",
    "# players_df = pd.read_csv('path_to_players_dataset.csv')\n",
    "# player_ratings_df = pd.read_csv('path_to_player_ratings_dataset.csv')\n",
    "\n",
    "# Merge on the 'player' column and include all columns from both datasets\n",
    "merged_df = pd.merge(players, player_ratings, on='player', how='inner')\n",
    "\n",
    "# Display the resulting merged dataframe\n",
    "print(merged_df)\n"
   ]
  },
  {
   "cell_type": "code",
   "execution_count": 53,
   "metadata": {},
   "outputs": [
    {
     "data": {
      "text/html": [
       "<div>\n",
       "<style scoped>\n",
       "    .dataframe tbody tr th:only-of-type {\n",
       "        vertical-align: middle;\n",
       "    }\n",
       "\n",
       "    .dataframe tbody tr th {\n",
       "        vertical-align: top;\n",
       "    }\n",
       "\n",
       "    .dataframe thead th {\n",
       "        text-align: right;\n",
       "    }\n",
       "</style>\n",
       "<table border=\"1\" class=\"dataframe\">\n",
       "  <thead>\n",
       "    <tr style=\"text-align: right;\">\n",
       "      <th></th>\n",
       "      <th>Unnamed: 0</th>\n",
       "      <th>player_id</th>\n",
       "      <th>player</th>\n",
       "      <th>team</th>\n",
       "      <th>league</th>\n",
       "      <th>fifa_edition_x</th>\n",
       "      <th>update_x</th>\n",
       "      <th>fifa_edition_y</th>\n",
       "      <th>update_y</th>\n",
       "      <th>overallrating</th>\n",
       "      <th>potential</th>\n",
       "      <th>crossing</th>\n",
       "      <th>finishing</th>\n",
       "      <th>headingaccuracy</th>\n",
       "      <th>shortpassing</th>\n",
       "      <th>volleys</th>\n",
       "      <th>dribbling</th>\n",
       "      <th>curve</th>\n",
       "      <th>fk_accuracy</th>\n",
       "      <th>longpassing</th>\n",
       "      <th>ballcontrol</th>\n",
       "      <th>acceleration</th>\n",
       "      <th>sprintspeed</th>\n",
       "      <th>agility</th>\n",
       "      <th>reactions</th>\n",
       "      <th>balance</th>\n",
       "      <th>shotpower</th>\n",
       "      <th>jumping</th>\n",
       "      <th>stamina</th>\n",
       "      <th>strength</th>\n",
       "      <th>longshots</th>\n",
       "      <th>aggression</th>\n",
       "      <th>interceptions</th>\n",
       "      <th>positioning</th>\n",
       "      <th>vision</th>\n",
       "      <th>penalties</th>\n",
       "      <th>composure</th>\n",
       "      <th>defensiveawareness</th>\n",
       "      <th>standingtackle</th>\n",
       "      <th>slidingtackle</th>\n",
       "      <th>gk_diving</th>\n",
       "      <th>gk_handling</th>\n",
       "      <th>gk_kicking</th>\n",
       "      <th>gk_positioning</th>\n",
       "      <th>gk_reflexes</th>\n",
       "    </tr>\n",
       "  </thead>\n",
       "  <tbody>\n",
       "    <tr>\n",
       "      <th>0</th>\n",
       "      <td>0</td>\n",
       "      <td>210257</td>\n",
       "      <td>Ederson Santana de Moraes</td>\n",
       "      <td>Manchester City</td>\n",
       "      <td>ENG-Premier League</td>\n",
       "      <td>FC 25</td>\n",
       "      <td>Oct 8, 2024</td>\n",
       "      <td>FC 25</td>\n",
       "      <td>Oct 8, 2024</td>\n",
       "      <td>88</td>\n",
       "      <td>88</td>\n",
       "      <td>20</td>\n",
       "      <td>14</td>\n",
       "      <td>14</td>\n",
       "      <td>65</td>\n",
       "      <td>18</td>\n",
       "      <td>30</td>\n",
       "      <td>39</td>\n",
       "      <td>20</td>\n",
       "      <td>68</td>\n",
       "      <td>45</td>\n",
       "      <td>64</td>\n",
       "      <td>63</td>\n",
       "      <td>60</td>\n",
       "      <td>88</td>\n",
       "      <td>48</td>\n",
       "      <td>68</td>\n",
       "      <td>79</td>\n",
       "      <td>44</td>\n",
       "      <td>78</td>\n",
       "      <td>18</td>\n",
       "      <td>38</td>\n",
       "      <td>27</td>\n",
       "      <td>86</td>\n",
       "      <td>70</td>\n",
       "      <td>65</td>\n",
       "      <td>70</td>\n",
       "      <td>29</td>\n",
       "      <td>15</td>\n",
       "      <td>8</td>\n",
       "      <td>87</td>\n",
       "      <td>82</td>\n",
       "      <td>91</td>\n",
       "      <td>86</td>\n",
       "      <td>87</td>\n",
       "    </tr>\n",
       "    <tr>\n",
       "      <th>1</th>\n",
       "      <td>4</td>\n",
       "      <td>251517</td>\n",
       "      <td>Joško Gvardiol</td>\n",
       "      <td>Manchester City</td>\n",
       "      <td>ENG-Premier League</td>\n",
       "      <td>FC 25</td>\n",
       "      <td>Oct 8, 2024</td>\n",
       "      <td>FC 25</td>\n",
       "      <td>Oct 8, 2024</td>\n",
       "      <td>83</td>\n",
       "      <td>87</td>\n",
       "      <td>72</td>\n",
       "      <td>64</td>\n",
       "      <td>78</td>\n",
       "      <td>80</td>\n",
       "      <td>60</td>\n",
       "      <td>79</td>\n",
       "      <td>74</td>\n",
       "      <td>59</td>\n",
       "      <td>76</td>\n",
       "      <td>81</td>\n",
       "      <td>80</td>\n",
       "      <td>79</td>\n",
       "      <td>68</td>\n",
       "      <td>84</td>\n",
       "      <td>67</td>\n",
       "      <td>81</td>\n",
       "      <td>90</td>\n",
       "      <td>79</td>\n",
       "      <td>83</td>\n",
       "      <td>72</td>\n",
       "      <td>86</td>\n",
       "      <td>82</td>\n",
       "      <td>9</td>\n",
       "      <td>68</td>\n",
       "      <td>61</td>\n",
       "      <td>81</td>\n",
       "      <td>83</td>\n",
       "      <td>84</td>\n",
       "      <td>84</td>\n",
       "      <td>5</td>\n",
       "      <td>8</td>\n",
       "      <td>6</td>\n",
       "      <td>9</td>\n",
       "      <td>11</td>\n",
       "    </tr>\n",
       "    <tr>\n",
       "      <th>2</th>\n",
       "      <td>5</td>\n",
       "      <td>207410</td>\n",
       "      <td>Mateo Kovačić</td>\n",
       "      <td>Manchester City</td>\n",
       "      <td>ENG-Premier League</td>\n",
       "      <td>FC 25</td>\n",
       "      <td>Oct 8, 2024</td>\n",
       "      <td>FC 25</td>\n",
       "      <td>Oct 8, 2024</td>\n",
       "      <td>83</td>\n",
       "      <td>83</td>\n",
       "      <td>73</td>\n",
       "      <td>58</td>\n",
       "      <td>42</td>\n",
       "      <td>89</td>\n",
       "      <td>76</td>\n",
       "      <td>87</td>\n",
       "      <td>78</td>\n",
       "      <td>70</td>\n",
       "      <td>84</td>\n",
       "      <td>88</td>\n",
       "      <td>75</td>\n",
       "      <td>64</td>\n",
       "      <td>86</td>\n",
       "      <td>84</td>\n",
       "      <td>84</td>\n",
       "      <td>78</td>\n",
       "      <td>63</td>\n",
       "      <td>75</td>\n",
       "      <td>66</td>\n",
       "      <td>76</td>\n",
       "      <td>77</td>\n",
       "      <td>76</td>\n",
       "      <td>7</td>\n",
       "      <td>82</td>\n",
       "      <td>59</td>\n",
       "      <td>84</td>\n",
       "      <td>73</td>\n",
       "      <td>75</td>\n",
       "      <td>68</td>\n",
       "      <td>9</td>\n",
       "      <td>5</td>\n",
       "      <td>6</td>\n",
       "      <td>7</td>\n",
       "      <td>7</td>\n",
       "    </tr>\n",
       "    <tr>\n",
       "      <th>3</th>\n",
       "      <td>7</td>\n",
       "      <td>186942</td>\n",
       "      <td>İlkay Gündoğan</td>\n",
       "      <td>Manchester City</td>\n",
       "      <td>ENG-Premier League</td>\n",
       "      <td>FC 25</td>\n",
       "      <td>Oct 8, 2024</td>\n",
       "      <td>FC 25</td>\n",
       "      <td>Oct 8, 2024</td>\n",
       "      <td>87</td>\n",
       "      <td>87</td>\n",
       "      <td>77</td>\n",
       "      <td>85</td>\n",
       "      <td>50</td>\n",
       "      <td>89</td>\n",
       "      <td>75</td>\n",
       "      <td>88</td>\n",
       "      <td>86</td>\n",
       "      <td>80</td>\n",
       "      <td>85</td>\n",
       "      <td>91</td>\n",
       "      <td>65</td>\n",
       "      <td>60</td>\n",
       "      <td>77</td>\n",
       "      <td>86</td>\n",
       "      <td>77</td>\n",
       "      <td>81</td>\n",
       "      <td>67</td>\n",
       "      <td>75</td>\n",
       "      <td>73</td>\n",
       "      <td>84</td>\n",
       "      <td>70</td>\n",
       "      <td>78</td>\n",
       "      <td>5</td>\n",
       "      <td>86</td>\n",
       "      <td>80</td>\n",
       "      <td>87</td>\n",
       "      <td>77</td>\n",
       "      <td>78</td>\n",
       "      <td>67</td>\n",
       "      <td>11</td>\n",
       "      <td>14</td>\n",
       "      <td>5</td>\n",
       "      <td>5</td>\n",
       "      <td>13</td>\n",
       "    </tr>\n",
       "    <tr>\n",
       "      <th>4</th>\n",
       "      <td>8</td>\n",
       "      <td>270409</td>\n",
       "      <td>Sávio Moreira de Oliveira</td>\n",
       "      <td>Manchester City</td>\n",
       "      <td>ENG-Premier League</td>\n",
       "      <td>FC 25</td>\n",
       "      <td>Oct 8, 2024</td>\n",
       "      <td>FC 25</td>\n",
       "      <td>Oct 8, 2024</td>\n",
       "      <td>82</td>\n",
       "      <td>88</td>\n",
       "      <td>80</td>\n",
       "      <td>76</td>\n",
       "      <td>45</td>\n",
       "      <td>81</td>\n",
       "      <td>63</td>\n",
       "      <td>87</td>\n",
       "      <td>78</td>\n",
       "      <td>55</td>\n",
       "      <td>70</td>\n",
       "      <td>83</td>\n",
       "      <td>90</td>\n",
       "      <td>87</td>\n",
       "      <td>90</td>\n",
       "      <td>77</td>\n",
       "      <td>76</td>\n",
       "      <td>69</td>\n",
       "      <td>62</td>\n",
       "      <td>73</td>\n",
       "      <td>45</td>\n",
       "      <td>67</td>\n",
       "      <td>45</td>\n",
       "      <td>25</td>\n",
       "      <td>9</td>\n",
       "      <td>79</td>\n",
       "      <td>62</td>\n",
       "      <td>74</td>\n",
       "      <td>26</td>\n",
       "      <td>30</td>\n",
       "      <td>36</td>\n",
       "      <td>9</td>\n",
       "      <td>12</td>\n",
       "      <td>8</td>\n",
       "      <td>9</td>\n",
       "      <td>12</td>\n",
       "    </tr>\n",
       "  </tbody>\n",
       "</table>\n",
       "</div>"
      ],
      "text/plain": [
       "   Unnamed: 0  player_id                     player             team  \\\n",
       "0           0     210257  Ederson Santana de Moraes  Manchester City   \n",
       "1           4     251517             Joško Gvardiol  Manchester City   \n",
       "2           5     207410              Mateo Kovačić  Manchester City   \n",
       "3           7     186942             İlkay Gündoğan  Manchester City   \n",
       "4           8     270409  Sávio Moreira de Oliveira  Manchester City   \n",
       "\n",
       "               league fifa_edition_x     update_x fifa_edition_y     update_y  \\\n",
       "0  ENG-Premier League          FC 25  Oct 8, 2024          FC 25  Oct 8, 2024   \n",
       "1  ENG-Premier League          FC 25  Oct 8, 2024          FC 25  Oct 8, 2024   \n",
       "2  ENG-Premier League          FC 25  Oct 8, 2024          FC 25  Oct 8, 2024   \n",
       "3  ENG-Premier League          FC 25  Oct 8, 2024          FC 25  Oct 8, 2024   \n",
       "4  ENG-Premier League          FC 25  Oct 8, 2024          FC 25  Oct 8, 2024   \n",
       "\n",
       "   overallrating  potential  crossing  finishing  headingaccuracy  \\\n",
       "0             88         88        20         14               14   \n",
       "1             83         87        72         64               78   \n",
       "2             83         83        73         58               42   \n",
       "3             87         87        77         85               50   \n",
       "4             82         88        80         76               45   \n",
       "\n",
       "   shortpassing  volleys  dribbling  curve  fk_accuracy  longpassing  \\\n",
       "0            65       18         30     39           20           68   \n",
       "1            80       60         79     74           59           76   \n",
       "2            89       76         87     78           70           84   \n",
       "3            89       75         88     86           80           85   \n",
       "4            81       63         87     78           55           70   \n",
       "\n",
       "   ballcontrol  acceleration  sprintspeed  agility  reactions  balance  \\\n",
       "0           45            64           63       60         88       48   \n",
       "1           81            80           79       68         84       67   \n",
       "2           88            75           64       86         84       84   \n",
       "3           91            65           60       77         86       77   \n",
       "4           83            90           87       90         77       76   \n",
       "\n",
       "   shotpower  jumping  stamina  strength  longshots  aggression  \\\n",
       "0         68       79       44        78         18          38   \n",
       "1         81       90       79        83         72          86   \n",
       "2         78       63       75        66         76          77   \n",
       "3         81       67       75        73         84          70   \n",
       "4         69       62       73        45         67          45   \n",
       "\n",
       "   interceptions  positioning  vision  penalties  composure  \\\n",
       "0             27           86      70         65         70   \n",
       "1             82            9      68         61         81   \n",
       "2             76            7      82         59         84   \n",
       "3             78            5      86         80         87   \n",
       "4             25            9      79         62         74   \n",
       "\n",
       "   defensiveawareness  standingtackle  slidingtackle  gk_diving  gk_handling  \\\n",
       "0                  29              15              8         87           82   \n",
       "1                  83              84             84          5            8   \n",
       "2                  73              75             68          9            5   \n",
       "3                  77              78             67         11           14   \n",
       "4                  26              30             36          9           12   \n",
       "\n",
       "   gk_kicking  gk_positioning  gk_reflexes  \n",
       "0          91              86           87  \n",
       "1           6               9           11  \n",
       "2           6               7            7  \n",
       "3           5               5           13  \n",
       "4           8               9           12  "
      ]
     },
     "execution_count": 53,
     "metadata": {},
     "output_type": "execute_result"
    }
   ],
   "source": [
    "merged_df.head()"
   ]
  },
  {
   "cell_type": "code",
   "execution_count": 54,
   "metadata": {},
   "outputs": [],
   "source": [
    "merged_df.to_csv(\"players.csv\")"
   ]
  },
  {
   "cell_type": "code",
   "execution_count": null,
   "metadata": {},
   "outputs": [],
   "source": []
  }
 ],
 "metadata": {
  "kernelspec": {
   "display_name": "base",
   "language": "python",
   "name": "python3"
  },
  "language_info": {
   "codemirror_mode": {
    "name": "ipython",
    "version": 3
   },
   "file_extension": ".py",
   "mimetype": "text/x-python",
   "name": "python",
   "nbconvert_exporter": "python",
   "pygments_lexer": "ipython3",
   "version": "3.11.7"
  }
 },
 "nbformat": 4,
 "nbformat_minor": 2
}
